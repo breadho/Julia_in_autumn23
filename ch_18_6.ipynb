{
 "cells": [
  {
   "cell_type": "markdown",
   "id": "58483779-2f8d-4ad8-8968-3056428f2e03",
   "metadata": {},
   "source": [
    "# 허깅페이스"
   ]
  },
  {
   "cell_type": "markdown",
   "id": "93134cec-af16-4e3e-9784-ad4c8da0bf5e",
   "metadata": {},
   "source": [
    "- 자연어 처리 분야에서 매우 중요한 라이브러리이자 생태계인 **허깅페이스(Hugging Face)** 를 줄리아에서 활용하는 방법 확인\n",
    "- 허깅페이스의 트랜스포머 라이브러리는 다양한 트랜스포머 모델에 일관된 인터페이스를 제공\n",
    "    + 또한, 허깅페이스 허브를 통해 사전 훈련된 모델 가중치나 데이터 셋을 받을 수 있고, 사용자간 공유 가능\n",
    "- 줄리아에서 허깅페이스를 사용하려면 PyCall.jl 패키지를 이용\n",
    "    + PyCall을 이용하면 줄리아에서 임의의 파이썬 모듈을 임포트해서 파이썬 함수를 호출할 수 있고, 줄리아와 파이썬 간에 주고 받는 데이터는 자동으로 타입 변환이 일어남"
   ]
  },
  {
   "cell_type": "code",
   "execution_count": 1,
   "id": "460b1d91-92f5-468b-84f5-36201131f6b5",
   "metadata": {
    "tags": []
   },
   "outputs": [
    {
     "name": "stderr",
     "output_type": "stream",
     "text": [
      "\u001b[36m\u001b[1m[ \u001b[22m\u001b[39m\u001b[36m\u001b[1mInfo: \u001b[22m\u001b[39mPrecompiling PyCall [438e738f-606a-5dbb-bf0a-cddfbfd45ab0]\n"
     ]
    }
   ],
   "source": [
    "using PyCall"
   ]
  },
  {
   "cell_type": "code",
   "execution_count": 3,
   "id": "dcce94bd-a3d4-4442-92be-db94e89fefdd",
   "metadata": {
    "tags": []
   },
   "outputs": [
    {
     "data": {
      "text/plain": [
       "\"/home/bread/anaconda3/envs/astroenv/bin/python\""
      ]
     },
     "execution_count": 3,
     "metadata": {},
     "output_type": "execute_result"
    }
   ],
   "source": [
    "PyCall.python"
   ]
  },
  {
   "cell_type": "code",
   "execution_count": 2,
   "id": "562d6238-60b4-4d11-986e-c08a0f329efc",
   "metadata": {
    "tags": []
   },
   "outputs": [
    {
     "name": "stderr",
     "output_type": "stream",
     "text": [
      "None of PyTorch, TensorFlow >= 2.0, or Flax have been found. Models won't be available and only tokenizers, configuration and file/data utilities can be used.\n"
     ]
    },
    {
     "data": {
      "text/plain": [
       "PyObject <module 'transformers' from '/home/bread/anaconda3/envs/astroenv/lib/python3.11/site-packages/transformers/__init__.py'>"
      ]
     },
     "execution_count": 2,
     "metadata": {},
     "output_type": "execute_result"
    }
   ],
   "source": [
    "pytf = pyimport(\"transformers\")"
   ]
  },
  {
   "cell_type": "code",
   "execution_count": 4,
   "id": "8ee6dafa-762d-4985-a6ab-500ff43ecdb4",
   "metadata": {
    "tags": []
   },
   "outputs": [
    {
     "name": "stdout",
     "output_type": "stream",
     "text": [
      "Requirement already satisfied: transformers in /home/bread/anaconda3/envs/astroenv/lib/python3.11/site-packages (4.32.1)\n",
      "Requirement already satisfied: filelock in /home/bread/anaconda3/envs/astroenv/lib/python3.11/site-packages (from transformers) (3.9.0)\n",
      "Requirement already satisfied: huggingface-hub<1.0,>=0.15.1 in /home/bread/anaconda3/envs/astroenv/lib/python3.11/site-packages (from transformers) (0.15.1)\n",
      "Requirement already satisfied: numpy>=1.17 in /home/bread/anaconda3/envs/astroenv/lib/python3.11/site-packages (from transformers) (1.24.3)\n",
      "Requirement already satisfied: packaging>=20.0 in /home/bread/anaconda3/envs/astroenv/lib/python3.11/site-packages (from transformers) (23.1)\n",
      "Requirement already satisfied: pyyaml>=5.1 in /home/bread/anaconda3/envs/astroenv/lib/python3.11/site-packages (from transformers) (6.0)\n",
      "Requirement already satisfied: regex!=2019.12.17 in /home/bread/anaconda3/envs/astroenv/lib/python3.11/site-packages (from transformers) (2022.7.9)\n",
      "Requirement already satisfied: requests in /home/bread/anaconda3/envs/astroenv/lib/python3.11/site-packages (from transformers) (2.31.0)\n",
      "Requirement already satisfied: tokenizers!=0.11.3,<0.14,>=0.11.1 in /home/bread/anaconda3/envs/astroenv/lib/python3.11/site-packages (from transformers) (0.13.2)\n",
      "Requirement already satisfied: safetensors>=0.3.1 in /home/bread/anaconda3/envs/astroenv/lib/python3.11/site-packages (from transformers) (0.3.2)\n",
      "Requirement already satisfied: tqdm>=4.27 in /home/bread/anaconda3/envs/astroenv/lib/python3.11/site-packages (from transformers) (4.65.0)\n",
      "Requirement already satisfied: fsspec in /home/bread/anaconda3/envs/astroenv/lib/python3.11/site-packages (from huggingface-hub<1.0,>=0.15.1->transformers) (2023.4.0)\n",
      "Requirement already satisfied: typing-extensions>=3.7.4.3 in /home/bread/anaconda3/envs/astroenv/lib/python3.11/site-packages (from huggingface-hub<1.0,>=0.15.1->transformers) (4.7.1)\n",
      "Requirement already satisfied: charset-normalizer<4,>=2 in /home/bread/anaconda3/envs/astroenv/lib/python3.11/site-packages (from requests->transformers) (2.0.4)\n",
      "Requirement already satisfied: idna<4,>=2.5 in /home/bread/anaconda3/envs/astroenv/lib/python3.11/site-packages (from requests->transformers) (3.4)\n",
      "Requirement already satisfied: urllib3<3,>=1.21.1 in /home/bread/anaconda3/envs/astroenv/lib/python3.11/site-packages (from requests->transformers) (1.26.16)\n",
      "Requirement already satisfied: certifi>=2017.4.17 in /home/bread/anaconda3/envs/astroenv/lib/python3.11/site-packages (from requests->transformers) (2023.7.22)\n"
     ]
    },
    {
     "name": "stderr",
     "output_type": "stream",
     "text": [
      "WARNING: pip is being invoked by an old script wrapper. This will fail in a future version of pip.\n",
      "Please see https://github.com/pypa/pip/issues/5599 for advice on fixing the underlying issue.\n",
      "To avoid this problem you can invoke Python with '-m pip' instead of running pip directly.\n"
     ]
    },
    {
     "data": {
      "text/plain": [
       "0"
      ]
     },
     "execution_count": 4,
     "metadata": {},
     "output_type": "execute_result"
    }
   ],
   "source": [
    "@pyimport pip\n",
    "pip.main([\"install\", \"transformers\"])"
   ]
  },
  {
   "cell_type": "code",
   "execution_count": 5,
   "id": "ae651550-d256-4089-9e99-91d8ab8e3458",
   "metadata": {
    "tags": []
   },
   "outputs": [
    {
     "ename": "LoadError",
     "evalue": "PyError ($(Expr(:escape, :(ccall(#= /home/bread/.julia/packages/PyCall/1gn3u/src/pyfncall.jl:43 =# @pysym(:PyObject_Call), PyPtr, (PyPtr, PyPtr, PyPtr), o, pyargsptr, kw))))) <class 'RuntimeError'>\nRuntimeError('At least one of TensorFlow 2.0 or PyTorch should be installed. To install TensorFlow 2.0, read the instructions at https://www.tensorflow.org/install/ To install PyTorch, read the instructions at https://pytorch.org/.')\n  File \"/home/bread/anaconda3/envs/astroenv/lib/python3.11/site-packages/transformers/pipelines/__init__.py\", line 807, in pipeline\n    framework, model = infer_framework_load_model(\n                       ^^^^^^^^^^^^^^^^^^^^^^^^^^^\n  File \"/home/bread/anaconda3/envs/astroenv/lib/python3.11/site-packages/transformers/pipelines/base.py\", line 219, in infer_framework_load_model\n    raise RuntimeError(\n",
     "output_type": "error",
     "traceback": [
      "PyError ($(Expr(:escape, :(ccall(#= /home/bread/.julia/packages/PyCall/1gn3u/src/pyfncall.jl:43 =# @pysym(:PyObject_Call), PyPtr, (PyPtr, PyPtr, PyPtr), o, pyargsptr, kw))))) <class 'RuntimeError'>\nRuntimeError('At least one of TensorFlow 2.0 or PyTorch should be installed. To install TensorFlow 2.0, read the instructions at https://www.tensorflow.org/install/ To install PyTorch, read the instructions at https://pytorch.org/.')\n  File \"/home/bread/anaconda3/envs/astroenv/lib/python3.11/site-packages/transformers/pipelines/__init__.py\", line 807, in pipeline\n    framework, model = infer_framework_load_model(\n                       ^^^^^^^^^^^^^^^^^^^^^^^^^^^\n  File \"/home/bread/anaconda3/envs/astroenv/lib/python3.11/site-packages/transformers/pipelines/base.py\", line 219, in infer_framework_load_model\n    raise RuntimeError(\n",
      "",
      "Stacktrace:",
      "  [1] pyerr_check",
      "    @ ~/.julia/packages/PyCall/1gn3u/src/exception.jl:75 [inlined]",
      "  [2] pyerr_check",
      "    @ ~/.julia/packages/PyCall/1gn3u/src/exception.jl:79 [inlined]",
      "  [3] _handle_error(msg::String)",
      "    @ PyCall ~/.julia/packages/PyCall/1gn3u/src/exception.jl:96",
      "  [4] macro expansion",
      "    @ ~/.julia/packages/PyCall/1gn3u/src/exception.jl:110 [inlined]",
      "  [5] #107",
      "    @ ~/.julia/packages/PyCall/1gn3u/src/pyfncall.jl:43 [inlined]",
      "  [6] disable_sigint",
      "    @ ./c.jl:473 [inlined]",
      "  [7] __pycall!",
      "    @ ~/.julia/packages/PyCall/1gn3u/src/pyfncall.jl:42 [inlined]",
      "  [8] _pycall!(ret::PyObject, o::PyObject, args::Tuple{String}, nargs::Int64, kw::PyObject)",
      "    @ PyCall ~/.julia/packages/PyCall/1gn3u/src/pyfncall.jl:29",
      "  [9] _pycall!",
      "    @ ~/.julia/packages/PyCall/1gn3u/src/pyfncall.jl:11 [inlined]",
      " [10] (::PyObject)(args::String; kwargs::Base.Pairs{Symbol, String, Tuple{Symbol}, NamedTuple{(:model,), Tuple{String}}})",
      "    @ PyCall ~/.julia/packages/PyCall/1gn3u/src/pyfncall.jl:86",
      " [11] top-level scope",
      "    @ In[5]:1"
     ]
    }
   ],
   "source": [
    "umasker = pytf.pipeline(\"fill-mask\", model = \"bert-base-uncased\")"
   ]
  },
  {
   "cell_type": "code",
   "execution_count": null,
   "id": "04a00c08-8d09-4b99-a769-93d3b0634b93",
   "metadata": {},
   "outputs": [],
   "source": []
  },
  {
   "cell_type": "code",
   "execution_count": null,
   "id": "276b47b8-e35f-4254-8df3-3a1e7c1082e1",
   "metadata": {},
   "outputs": [],
   "source": []
  },
  {
   "cell_type": "code",
   "execution_count": null,
   "id": "03e37ac7-dc50-46ec-8934-9d108865f913",
   "metadata": {},
   "outputs": [],
   "source": []
  },
  {
   "cell_type": "code",
   "execution_count": null,
   "id": "6a31409c-ef37-4992-9588-d655817017f2",
   "metadata": {},
   "outputs": [],
   "source": []
  },
  {
   "cell_type": "code",
   "execution_count": null,
   "id": "31fb5173-a7e0-4348-a228-81b270daf5a9",
   "metadata": {},
   "outputs": [],
   "source": []
  },
  {
   "cell_type": "code",
   "execution_count": null,
   "id": "6f6769c7-eced-4050-be6e-4141e475b957",
   "metadata": {},
   "outputs": [],
   "source": []
  },
  {
   "cell_type": "code",
   "execution_count": null,
   "id": "bf97bec5-b387-489f-8969-f28b6972fe7a",
   "metadata": {},
   "outputs": [],
   "source": []
  },
  {
   "cell_type": "code",
   "execution_count": null,
   "id": "b47f34e1-14e4-45d2-92cf-bf02da1a44cd",
   "metadata": {},
   "outputs": [],
   "source": []
  },
  {
   "cell_type": "code",
   "execution_count": null,
   "id": "91f15086-e9b8-4284-af23-23c23e1c55dd",
   "metadata": {},
   "outputs": [],
   "source": []
  },
  {
   "cell_type": "code",
   "execution_count": null,
   "id": "6325b12e-fc5b-475b-bbf9-1c94059ba8b1",
   "metadata": {},
   "outputs": [],
   "source": []
  },
  {
   "cell_type": "code",
   "execution_count": null,
   "id": "21e89da5-4cc8-4812-b1d6-588f69678717",
   "metadata": {},
   "outputs": [],
   "source": []
  },
  {
   "cell_type": "code",
   "execution_count": null,
   "id": "ebf10958-a5ab-4032-81e4-263b0cd25d78",
   "metadata": {},
   "outputs": [],
   "source": []
  }
 ],
 "metadata": {
  "kernelspec": {
   "display_name": "Julia 1.9.3",
   "language": "julia",
   "name": "julia-1.9"
  },
  "language_info": {
   "file_extension": ".jl",
   "mimetype": "application/julia",
   "name": "julia",
   "version": "1.9.3"
  }
 },
 "nbformat": 4,
 "nbformat_minor": 5
}
