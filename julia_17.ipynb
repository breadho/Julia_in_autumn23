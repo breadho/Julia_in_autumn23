{
 "cells": [
  {
   "cell_type": "markdown",
   "id": "69237afa-5023-4f12-a841-b09b75055ada",
   "metadata": {},
   "source": [
    "# 17. 컴퓨터 비전"
   ]
  },
  {
   "cell_type": "markdown",
   "id": "295e66b3-3220-4a24-87ca-1498f56f90ba",
   "metadata": {},
   "source": [
    "합성곱 신경망을 이용한 컴퓨터 비전\n",
    "\n",
    "- 이미지 분류, 전이 학습, 이미지 생성, 객체 탐지 등"
   ]
  },
  {
   "cell_type": "markdown",
   "id": "60bd8073-3012-4170-aed8-f53019dc7aee",
   "metadata": {},
   "source": [
    "## 17.1 합성곱 신경망"
   ]
  },
  {
   "cell_type": "markdown",
   "id": "bd0e4085-c26b-49a9-8619-7ae91a109e6c",
   "metadata": {},
   "source": [
    "### 패션 아이템 분류"
   ]
  },
  {
   "cell_type": "code",
   "execution_count": 1,
   "id": "f9df54a0-0883-4b2c-8806-b63e51515c55",
   "metadata": {},
   "outputs": [],
   "source": [
    "import MLDatasets"
   ]
  },
  {
   "cell_type": "code",
   "execution_count": 2,
   "id": "c013695a-1c7b-49ea-8725-40f411f0369b",
   "metadata": {},
   "outputs": [],
   "source": [
    "import Flux"
   ]
  },
  {
   "cell_type": "code",
   "execution_count": 3,
   "id": "8bf44877-5a19-4de0-a24b-6327224f89ac",
   "metadata": {},
   "outputs": [],
   "source": [
    "import NNlib"
   ]
  },
  {
   "cell_type": "code",
   "execution_count": 4,
   "id": "b9d80cd3-b933-43ff-bee0-90e1d09961a4",
   "metadata": {},
   "outputs": [],
   "source": [
    "import Flux: onehotbatch "
   ]
  },
  {
   "cell_type": "code",
   "execution_count": 5,
   "id": "9def0ceb-a6ef-4f8c-b3d6-24a514f1fb7c",
   "metadata": {},
   "outputs": [],
   "source": [
    "import MLUtils: DataLoader"
   ]
  },
  {
   "cell_type": "code",
   "execution_count": 6,
   "id": "8b58259c-4595-4b45-b452-3b767c9baeb1",
   "metadata": {},
   "outputs": [],
   "source": [
    "import Zygote"
   ]
  },
  {
   "cell_type": "code",
   "execution_count": 7,
   "id": "92101a47-b7af-4454-9668-79fc4c40bc2c",
   "metadata": {},
   "outputs": [],
   "source": [
    "import Optimisers"
   ]
  },
  {
   "cell_type": "code",
   "execution_count": 8,
   "id": "9a042f55-771b-4cba-9e13-537d3e0b9778",
   "metadata": {},
   "outputs": [],
   "source": [
    "import Formatting: printfmtln"
   ]
  },
  {
   "cell_type": "code",
   "execution_count": 9,
   "id": "bed5a6c6-27b7-4bcd-b4d8-f460ad80dcbb",
   "metadata": {},
   "outputs": [],
   "source": [
    "using Random: MersenneTwister"
   ]
  },
  {
   "cell_type": "code",
   "execution_count": 10,
   "id": "b5a8fcdb-ddb3-493e-9854-07b78c12439d",
   "metadata": {},
   "outputs": [],
   "source": [
    "import Plots"
   ]
  },
  {
   "cell_type": "code",
   "execution_count": 11,
   "id": "fbaa17da-996c-4827-a827-29909a9733a7",
   "metadata": {},
   "outputs": [],
   "source": [
    "using DataFrames"
   ]
  },
  {
   "cell_type": "code",
   "execution_count": 12,
   "id": "05b21857-d6f3-4446-9c76-02f864436a25",
   "metadata": {},
   "outputs": [],
   "source": [
    "using CSV"
   ]
  },
  {
   "cell_type": "code",
   "execution_count": 13,
   "id": "610fbbd5-2af1-4bef-84cb-b7a244f72399",
   "metadata": {},
   "outputs": [
    {
     "data": {
      "text/plain": [
       "true"
      ]
     },
     "execution_count": 13,
     "metadata": {},
     "output_type": "execute_result"
    }
   ],
   "source": [
    "ENV[\"DATADEPS_ALWAYS_ACCEPT\"] = true # 필요 데이터 자동 다운로드"
   ]
  },
  {
   "cell_type": "code",
   "execution_count": 14,
   "id": "e1720430-c16b-4fad-980e-24b16fb40f32",
   "metadata": {},
   "outputs": [],
   "source": [
    "# M2의 gpu 사용을 위해 Metal.jl 패키지를 로딩\n",
    "# using CUDA\n",
    "using Metal\n",
    "\n",
    "# Flux.gpu_backend!(\"Metal\")\n",
    "# Flux.GPU_BACKEND"
   ]
  },
  {
   "cell_type": "code",
   "execution_count": 15,
   "id": "62bf12e7-7c0e-4514-8d70-bb6bb6547f73",
   "metadata": {},
   "outputs": [
    {
     "name": "stdout",
     "output_type": "stream",
     "text": [
      "macOS 13.5.0, Darwin 22.6.0\n",
      "\n",
      "Toolchain:\n",
      "- Julia: 1.9.2\n",
      "- LLVM: 14.0.6\n",
      "\n",
      "Julia packages: \n",
      "- Metal.jl: 0.5.1\n",
      "- Metal_LLVM_Tools_jll: 0.5.1+0\n",
      "\n",
      "1 device:\n",
      "- Apple M2 (64.000 KiB allocated)\n"
     ]
    }
   ],
   "source": [
    "Metal.versioninfo()"
   ]
  },
  {
   "cell_type": "code",
   "execution_count": 16,
   "id": "771ac490-f1d9-4ca0-afae-5d21e000fefe",
   "metadata": {},
   "outputs": [
    {
     "data": {
      "text/plain": [
       "true"
      ]
     },
     "execution_count": 16,
     "metadata": {},
     "output_type": "execute_result"
    }
   ],
   "source": [
    "Metal.functional()"
   ]
  },
  {
   "cell_type": "code",
   "execution_count": 17,
   "id": "f20b0d4e-9c04-43dc-ac38-a81b9c1af716",
   "metadata": {},
   "outputs": [
    {
     "data": {
      "text/plain": [
       "build_mlp_model (generic function with 1 method)"
      ]
     },
     "execution_count": 17,
     "metadata": {},
     "output_type": "execute_result"
    }
   ],
   "source": [
    "# 비교 모델 (16장 mlp 모델)\n",
    "function build_mlp_model(rng)\n",
    "    Flux.Chain(\n",
    "        Flux.flatten,\n",
    "        Flux.Dense(28 * 28 => 512 , NNlib.relu; init = init(rng)),\n",
    "        Flux.Dense(512 => 512, NNlib.relu; init = init(rng)),\n",
    "        Flux.Dense(512 => 10 ; init = init(rng)),\n",
    "    )\n",
    "end"
   ]
  },
  {
   "cell_type": "markdown",
   "id": "7ddc8f22-86c4-4b72-aea3-3c3d9e2b48f3",
   "metadata": {},
   "source": [
    "#### 합성곱 기본 모델 만들기\n",
    "\n",
    "- build_cnn_model 만들기"
   ]
  },
  {
   "cell_type": "code",
   "execution_count": 29,
   "id": "902044d7-5e54-4c8a-ade6-d2fa642a3b0d",
   "metadata": {},
   "outputs": [
    {
     "data": {
      "text/plain": [
       "build_cnn_model (generic function with 1 method)"
      ]
     },
     "execution_count": 29,
     "metadata": {},
     "output_type": "execute_result"
    }
   ],
   "source": [
    "function build_cnn_model(rng)\n",
    "    same = Flux.SamePad()\n",
    "    Flux.Chain(\n",
    "        Flux.Conv((3,3), 1 => 32, NNlib.relu, pad = same;), # init=init(rng)),\n",
    "        Flux.MaxPool((2,2)), # (28 x 28) => (14, 14)\n",
    "        \n",
    "        Flux.Conv((3,3), 32 => 64, NNlib.relu, pad = same;), #  init = init(rng)),\n",
    "        Flux.MaxPool((2,2)), # (14 x 14) => (7 x 7)\n",
    "        \n",
    "        Flux.Conv((3, 3), 64 => 64, NNlib.relu, pad = same;), #  init = init(rng)),\n",
    "        Flux.MaxPool((2,2)), # (7 x 7) => (3 x 3)\n",
    "        \n",
    "        Flux.flatten, \n",
    "        Flux.Dense(3 * 3 * 64 => 64, NNlib.relu;), #  init = init(rng)),\n",
    "        Flux.Dense(64 => 10;), #  init = init(rng)), \n",
    "    )\n",
    "end"
   ]
  },
  {
   "cell_type": "markdown",
   "id": "ba541143-d06a-42f3-85e3-83029b49e733",
   "metadata": {},
   "source": [
    "* 파이토치는 특성의 차원에 따라 Conv1d, Conv2d, Conv3d 등이 구분되지만 플럭스의 합성곱 계층은 Conv 계층으로 1, 2, 3 차원 데이터를 모두 처리함\n",
    "* 각 합성곱층 및 밀집층은 앞 장에서와 마찬가지로 init 키워드 인수에 init 함수를 넘겨서 가중치를 초기화 함\n",
    "* Chain으로 묶인 전체 모델은 입력 데이터에 대해 합성곱 계층과 풀링 계층을 세 번 반복한 후 평탄화하여 밀집 계층으로 넘겨줌"
   ]
  },
  {
   "cell_type": "markdown",
   "id": "3378e894-9800-4a15-876e-83a343ce3ced",
   "metadata": {},
   "source": [
    "#### 드롭아웃과 배치 정규화 적용 모델 만들기\n",
    "\n",
    "- build_cnn2_model"
   ]
  },
  {
   "cell_type": "markdown",
   "id": "6323deaf-842b-4e8f-919a-3be50a9eecd6",
   "metadata": {},
   "source": [
    "기본적인 합성곱 모델에 드롭아웃과 배치 정규화를 적용한 모델을 cnn2라는 이름으로 만들어 봄"
   ]
  },
  {
   "cell_type": "code",
   "execution_count": 19,
   "id": "276325bb-96e7-40ba-be9d-2dfa13f16152",
   "metadata": {},
   "outputs": [
    {
     "data": {
      "text/plain": [
       "build_cnn2_model (generic function with 1 method)"
      ]
     },
     "execution_count": 19,
     "metadata": {},
     "output_type": "execute_result"
    }
   ],
   "source": [
    "function build_cnn2_model(rng)\n",
    "    same = Flux.SamePad()\n",
    "    Flux.Chain(\n",
    "        Flux.Conv((3,3), 1 => 32, NNlib.relu, pad = same; init=init(rng)),\n",
    "        Flux.MaxPool((2,2)), # (28 x 28) => (14 x 14)\n",
    "        Flux.Dropout(0.2),\n",
    "        Flux.BatchNorm(32),\n",
    "\n",
    "        Flux.Conv((3,3), 32 => 64, NNlib.relu, pad = same; init=init(rng)),\n",
    "        Flux.MaxPool((2,2)), # (14 x 14) => (7 x 7)\n",
    "        Flux.Dropout(0.2),\n",
    "        Flux.BatchNorm(64),\n",
    "\n",
    "        Flux.Conv((3,3), 64 => 64, NNlib.relu, pad = same; init=init(rng)),\n",
    "        Flux.MaxPool((2,2)), # (7 x 7) => (3 x 3)\n",
    "        Flux.Dropout(0.2),\n",
    "        Flux.BatchNorm(64),\n",
    "\n",
    "        Flux.flatten,\n",
    "        Flux.Dense(3*3*64 => 64, NNlib.relu; init = init(rng)),\n",
    "        Flux.Dropout(0.2),\n",
    "        Flux.Dense(64 => 10; init = init(rng)),        \n",
    "    )\n",
    "end"
   ]
  },
  {
   "cell_type": "markdown",
   "id": "ff613430-4ea4-4502-a6dd-98bbb9e2494c",
   "metadata": {},
   "source": [
    "* Dropout 타입은 키워드 인수로 난수 생성기를 지정할 수 있지만 이는 CPU에서 학습할 때만 적용되고 GPU에서는 난수 생성기를 지정하고 모델을 돌리면 명시적으로 에러가 발생\n"
   ]
  },
  {
   "cell_type": "markdown",
   "id": "b82d0641-407a-45be-b711-777c26da053d",
   "metadata": {},
   "source": [
    "#### get_data, train, test 함수(16장 동일)"
   ]
  },
  {
   "cell_type": "code",
   "execution_count": 20,
   "id": "be21d3f0-258f-4bc0-a6ff-4ed298f7f3d2",
   "metadata": {},
   "outputs": [
    {
     "data": {
      "text/plain": [
       "get_data (generic function with 2 methods)"
      ]
     },
     "execution_count": 20,
     "metadata": {},
     "output_type": "execute_result"
    }
   ],
   "source": [
    "function get_data(batchsize = 64)\n",
    "    xtrain, ytrain = MLDatasets.FashionMNIST(:train)[:]\n",
    "    xtest, ytest = MLDatasets.FashionMNIST(:test)[:]\n",
    "\n",
    "    xtrain = reshape(xtrain, 28, 28, 1, :)\n",
    "    xtest = reshape(xtest, 28, 28, 1, :)\n",
    "\n",
    "    ytrain, ytest = onehotbatch(ytrain, 0:9), onehotbatch(ytest, 0:9)\n",
    "\n",
    "    train_loader = DataLoader((xtrain, ytrain), batchsize = batchsize)\n",
    "    test_loader = DataLoader((xtest, ytest), batchsize = batchsize)\n",
    "\n",
    "    return train_loader, test_loader\n",
    "end"
   ]
  },
  {
   "cell_type": "code",
   "execution_count": 67,
   "id": "a8a2d572-fd29-417c-ac2a-bd1fcae70cae",
   "metadata": {},
   "outputs": [
    {
     "data": {
      "text/plain": [
       "train (generic function with 1 method)"
      ]
     },
     "execution_count": 67,
     "metadata": {},
     "output_type": "execute_result"
    }
   ],
   "source": [
    "function train(loader, model, loss_fn, optimizer)\n",
    "    num_batches = length(loader)\n",
    "    losses = Float32[]\n",
    "    Flux.testmode!(model, false)\n",
    "    for (batch, (X, y)) in enumerate(loader)\n",
    "        # X = X |> Flux.gpu\n",
    "        # y = y |> Flux.gpu\n",
    "        X, y = Flux.gpu(X), Flux.gpu(y)\n",
    "        grad = Zygote.gradient(m -> loss_fn(m, X, y), model)[1]\n",
    "        optimizer, model = Optimisers.update(optimizer, model, grad)\n",
    "        if batch % 100 == 0\n",
    "            loss = loss_fn(model, X, y)\n",
    "            printfmtln(\"[Train] loss: {:.7f} [{:>3d}/{:>3d}]\",\n",
    "                loss, batch, num_batches)\n",
    "            push!(losses, loss)\n",
    "        end\n",
    "    end\n",
    "    model, optimizer, losses\n",
    "end"
   ]
  },
  {
   "cell_type": "code",
   "execution_count": 66,
   "id": "28580ce5-a9af-444e-8cc4-228735545762",
   "metadata": {},
   "outputs": [
    {
     "data": {
      "text/plain": [
       "test (generic function with 1 method)"
      ]
     },
     "execution_count": 66,
     "metadata": {},
     "output_type": "execute_result"
    }
   ],
   "source": [
    "function test(loader, model, loss_fn)\n",
    "    num_batches = length(loader)\n",
    "    Flux.testmode!(model, true)\n",
    "    acc, tot = 0, 0\n",
    "    loss = 0f0\n",
    "    for (X, y) in loader\n",
    "        # X = X |> Flux.gpu\n",
    "        # y = y |> Flux.gpu\n",
    "        X, y = Flux.gpu(X), Flux.gpu(y)\n",
    "        pred = model(X)\n",
    "        acc += sum(Flux.onecold(pred) .== Flux.onecold(y))\n",
    "        tot += size(X)[end]\n",
    "        loss += loss_fn(model, X, y)\n",
    "    end\n",
    "    acc, avg_loss = acc / tot * 100, loss / num_batches\n",
    "    printfmtln(\"[Test] Accuracy: {:.1f}, Avg loss: {:.7f}\", acc, avg_loss)\n",
    "    acc, avg_loss\n",
    "end"
   ]
  },
  {
   "cell_type": "code",
   "execution_count": 23,
   "id": "e7177f90-b0be-46fc-a351-3baf176f9979",
   "metadata": {},
   "outputs": [
    {
     "data": {
      "text/plain": [
       "init (generic function with 1 method)"
      ]
     },
     "execution_count": 23,
     "metadata": {},
     "output_type": "execute_result"
    }
   ],
   "source": [
    "init(rng) = Flux.glorot_uniform(rng)"
   ]
  },
  {
   "cell_type": "markdown",
   "id": "16757477-e38f-4ce9-8bee-0bffff742e3b",
   "metadata": {},
   "source": [
    "배치 실행 함수 run_batch 작성"
   ]
  },
  {
   "cell_type": "code",
   "execution_count": 43,
   "id": "65da5033-2fbe-4a76-919b-43c9e2544eb6",
   "metadata": {},
   "outputs": [
    {
     "data": {
      "text/plain": [
       "run_epochs (generic function with 1 method)"
      ]
     },
     "execution_count": 43,
     "metadata": {},
     "output_type": "execute_result"
    }
   ],
   "source": [
    "function run_epochs(loaders, model, loss_fn, optimizer, epochs)\n",
    "    train_loader, test_loader = loaders\n",
    "    train_losses, accuracies = [], [];\n",
    "    for t in 1:epochs\n",
    "        println(\"Epochs $t\")\n",
    "        println(\"---------------------------\")\n",
    "        model, optimizer, losses =\n",
    "            train(train_loader, model, loss_fn, optimizer)\n",
    "        train_losses = vcat(train_losses, losses)\n",
    "        acc, _ = test(test_loader, model, loss_fn)\n",
    "        push!(accuracies, acc)\n",
    "    end\n",
    "    model, train_losses, accuracies\n",
    "end"
   ]
  },
  {
   "cell_type": "code",
   "execution_count": 44,
   "id": "640ec1cf-c601-4c25-90f7-a3bd5d79dfe1",
   "metadata": {},
   "outputs": [
    {
     "data": {
      "text/plain": [
       "run_batch (generic function with 1 method)"
      ]
     },
     "execution_count": 44,
     "metadata": {},
     "output_type": "execute_result"
    }
   ],
   "source": [
    "function run_batch(loaders, models, epochs)\n",
    "    train_loader, test_loader = loaders\n",
    "    loss_fn(m, x, y) = Flux.Losses.logitcrossentropy(m(x), y)\n",
    "    train_losses, accuracies = [], []\n",
    "    for (k, model) in enumerate(models)\n",
    "        train_loss, accuracy = [], []\n",
    "        optimizer = Optimisers.setup(Optimisers.Adam(), model)\n",
    "        for t in 1:epochs\n",
    "            println(\"[Model $k] Epoch $t\")\n",
    "            println(\"---------------------------------\")\n",
    "            model, optimizer, losses = train(train_loader, model, loss_fn, optimizer)\n",
    "            train_loss = vcat(train_loss, losses)\n",
    "            acc, _ = test(test_loader, model, loss_fn)\n",
    "            push!(accuracy, acc)\n",
    "        end\n",
    "        push!(train_losses, train_loss)\n",
    "        push!(accuracies, accuracy)\n",
    "    end\n",
    "    train_losses, accuracies\n",
    "end"
   ]
  },
  {
   "cell_type": "markdown",
   "id": "04d4cbdd-dcf6-4f36-ab31-d4e76f83432b",
   "metadata": {},
   "source": [
    "### mlp, cnn, cnn2 비교"
   ]
  },
  {
   "cell_type": "code",
   "execution_count": 45,
   "id": "f4575d9d-0c2f-47cd-9af9-c4dd257b29ce",
   "metadata": {},
   "outputs": [],
   "source": [
    "rng = MersenneTwister(1);"
   ]
  },
  {
   "cell_type": "code",
   "execution_count": 68,
   "id": "b9008116-56d1-4568-b50b-4d6e059ea3b8",
   "metadata": {},
   "outputs": [
    {
     "ename": "LoadError",
     "evalue": "syntax: incomplete: premature end of input",
     "output_type": "error",
     "traceback": [
      "syntax: incomplete: premature end of input",
      "",
      "Stacktrace:",
      " [1] top-level scope",
      "   @ In[68]:4"
     ]
    }
   ],
   "source": [
    "# 단일 CNN 모델 돌리기 \n",
    "model = build_cnn_model(rng) |> Flux.gpu\n",
    "\n",
    "loss_fn = (m, x, y) -> Flux.Losses.logitcrossentropy(m(Flux.gpu(x), Flux.gpu(y));\n",
    "optimizer = Optimisers.setup(Optimisers.Descent(0.001f0), model)"
   ]
  },
  {
   "cell_type": "code",
   "execution_count": 69,
   "id": "f2649504-e9f7-44a8-b269-5f60bee95da6",
   "metadata": {},
   "outputs": [
    {
     "name": "stdout",
     "output_type": "stream",
     "text": [
      "Epochs 1\n",
      "---------------------------\n"
     ]
    },
    {
     "name": "stderr",
     "output_type": "stream",
     "text": [
      "\u001b[33m\u001b[1m┌ \u001b[22m\u001b[39m\u001b[33m\u001b[1mWarning: \u001b[22m\u001b[39mPerforming scalar indexing on task Task (runnable) @0x000000010b21b080.\n",
      "\u001b[33m\u001b[1m│ \u001b[22m\u001b[39mInvocation of getindex resulted in scalar indexing of a GPU array.\n",
      "\u001b[33m\u001b[1m│ \u001b[22m\u001b[39mThis is typically caused by calling an iterating implementation of a method.\n",
      "\u001b[33m\u001b[1m│ \u001b[22m\u001b[39mSuch implementations *do not* execute on the GPU, but very slowly on the CPU,\n",
      "\u001b[33m\u001b[1m│ \u001b[22m\u001b[39mand therefore are only permitted from the REPL for prototyping purposes.\n",
      "\u001b[33m\u001b[1m│ \u001b[22m\u001b[39mIf you did intend to index this array, annotate the caller with @allowscalar.\n",
      "\u001b[33m\u001b[1m└ \u001b[22m\u001b[39m\u001b[90m@ GPUArraysCore ~/.julia/packages/GPUArraysCore/uOYfN/src/GPUArraysCore.jl:106\u001b[39m\n"
     ]
    },
    {
     "ename": "LoadError",
     "evalue": "TaskFailedException\n\n\u001b[91m    nested task error: \u001b[39mTaskFailedException\n    \n    \u001b[91m    nested task error: \u001b[39mArgumentError: cannot take the CPU address of a MtlArray{Float32, 5, Metal.MTL.MTLResourceStorageModePrivate}\n        Stacktrace:\n         [1] \u001b[0m\u001b[1munsafe_convert\u001b[22m\u001b[0m\u001b[1m(\u001b[22m\u001b[90m#unused#\u001b[39m::\u001b[0mType\u001b[90m{Ptr{Float32}}\u001b[39m, \u001b[90mx\u001b[39m::\u001b[0mMtlArray\u001b[90m{Float32, 5, Metal.MTL.MTLResourceStorageModePrivate}\u001b[39m\u001b[0m\u001b[1m)\u001b[22m\n        \u001b[90m   @\u001b[39m \u001b[35mMetal\u001b[39m \u001b[90m~/.julia/packages/Metal/lnkVP/src/\u001b[39m\u001b[90m\u001b[4marray.jl:148\u001b[24m\u001b[39m\n         [2] \u001b[0m\u001b[1munsafe_convert\u001b[22m\u001b[0m\u001b[1m(\u001b[22m\u001b[90m#unused#\u001b[39m::\u001b[0mType\u001b[90m{Ptr{Float32}}\u001b[39m, \u001b[90mV\u001b[39m::\u001b[0mSubArray\u001b[90m{Float32, 5, MtlArray{Float32, 5, Metal.MTL.MTLResourceStorageModePrivate}, Tuple{Base.Slice{Base.OneTo{Int64}}, Base.Slice{Base.OneTo{Int64}}, Base.Slice{Base.OneTo{Int64}}, UnitRange{Int64}, Base.Slice{Base.OneTo{Int64}}}, false}\u001b[39m\u001b[0m\u001b[1m)\u001b[22m\n        \u001b[90m   @\u001b[39m \u001b[90mBase\u001b[39m \u001b[90m./\u001b[39m\u001b[90m\u001b[4msubarray.jl:437\u001b[24m\u001b[39m\n         [3] \u001b[0m\u001b[1mpointer\u001b[22m\n        \u001b[90m   @\u001b[39m \u001b[90m./\u001b[39m\u001b[90m\u001b[4mabstractarray.jl:1243\u001b[24m\u001b[39m\u001b[90m [inlined]\u001b[39m\n         [4] \u001b[0m\u001b[1mmacro expansion\u001b[22m\n        \u001b[90m   @\u001b[39m \u001b[90m~/.julia/packages/NNlib/5iRSB/src/impl/\u001b[39m\u001b[90m\u001b[4mconv_im2col.jl:58\u001b[24m\u001b[39m\u001b[90m [inlined]\u001b[39m\n         [5] \u001b[0m\u001b[1m(::NNlib.var\"#647#648\"{MtlArray{Float32, 3, Metal.MTL.MTLResourceStorageModePrivate}, Float32, Float32, SubArray{Float32, 5, MtlArray{Float32, 5, Metal.MTL.MTLResourceStorageModePrivate}, Tuple{Base.Slice{Base.OneTo{Int64}}, Base.Slice{Base.OneTo{Int64}}, Base.Slice{Base.OneTo{Int64}}, UnitRange{Int64}, Base.Slice{Base.OneTo{Int64}}}, false}, SubArray{Float32, 5, MtlArray{Float32, 5, Metal.MTL.MTLResourceStorageModePrivate}, Tuple{Base.Slice{Base.OneTo{Int64}}, Base.Slice{Base.OneTo{Int64}}, Base.Slice{Base.OneTo{Int64}}, UnitRange{Int64}, Base.Slice{Base.OneTo{Int64}}}, false}, MtlArray{Float32, 5, Metal.MTL.MTLResourceStorageModePrivate}, NNlib.DenseConvDims{3, 3, 3, 6, 3}, Int64, Int64, Int64, UnitRange{Int64}, Int64})\u001b[22m\u001b[0m\u001b[1m(\u001b[22m\u001b[0m\u001b[1m)\u001b[22m\n        \u001b[90m   @\u001b[39m \u001b[36mNNlib\u001b[39m \u001b[90m./\u001b[39m\u001b[90m\u001b[4mthreadingconstructs.jl:404\u001b[24m\u001b[39m\n    Stacktrace:\n     [1] \u001b[0m\u001b[1msync_end\u001b[22m\u001b[0m\u001b[1m(\u001b[22m\u001b[90mc\u001b[39m::\u001b[0mChannel\u001b[90m{Any}\u001b[39m\u001b[0m\u001b[1m)\u001b[22m\n    \u001b[90m   @\u001b[39m \u001b[90mBase\u001b[39m \u001b[90m./\u001b[39m\u001b[90m\u001b[4mtask.jl:445\u001b[24m\u001b[39m\n     [2] \u001b[0m\u001b[1mmacro expansion\u001b[22m\n    \u001b[90m   @\u001b[39m \u001b[90m./\u001b[39m\u001b[90m\u001b[4mtask.jl:477\u001b[24m\u001b[39m\u001b[90m [inlined]\u001b[39m\n     [3] \u001b[0m\u001b[1mconv_im2col!\u001b[22m\u001b[0m\u001b[1m(\u001b[22m\u001b[90my\u001b[39m::\u001b[0mSubArray\u001b[90m{Float32, 5, MtlArray{Float32, 5, Metal.MTL.MTLResourceStorageModePrivate}, Tuple{Base.Slice{Base.OneTo{Int64}}, Base.Slice{Base.OneTo{Int64}}, Base.Slice{Base.OneTo{Int64}}, UnitRange{Int64}, Base.Slice{Base.OneTo{Int64}}}, false}\u001b[39m, \u001b[90mx\u001b[39m::\u001b[0mSubArray\u001b[90m{Float32, 5, MtlArray{Float32, 5, Metal.MTL.MTLResourceStorageModePrivate}, Tuple{Base.Slice{Base.OneTo{Int64}}, Base.Slice{Base.OneTo{Int64}}, Base.Slice{Base.OneTo{Int64}}, UnitRange{Int64}, Base.Slice{Base.OneTo{Int64}}}, false}\u001b[39m, \u001b[90mw\u001b[39m::\u001b[0mMtlArray\u001b[90m{Float32, 5, Metal.MTL.MTLResourceStorageModePrivate}\u001b[39m, \u001b[90mcdims\u001b[39m::\u001b[0mNNlib.DenseConvDims\u001b[90m{3, 3, 3, 6, 3}\u001b[39m; \u001b[90mcol\u001b[39m::\u001b[0mMtlArray\u001b[90m{Float32, 3, Metal.MTL.MTLResourceStorageModePrivate}\u001b[39m, \u001b[90malpha\u001b[39m::\u001b[0mFloat32, \u001b[90mbeta\u001b[39m::\u001b[0mFloat32, \u001b[90mntasks\u001b[39m::\u001b[0mInt64\u001b[0m\u001b[1m)\u001b[22m\n    \u001b[90m   @\u001b[39m \u001b[36mNNlib\u001b[39m \u001b[90m~/.julia/packages/NNlib/5iRSB/src/impl/\u001b[39m\u001b[90m\u001b[4mconv_im2col.jl:50\u001b[24m\u001b[39m\n     [4] \u001b[0m\u001b[1mconv_im2col!\u001b[22m\u001b[0m\u001b[1m(\u001b[22m\u001b[90my\u001b[39m::\u001b[0mSubArray\u001b[90m{Float32, 5, MtlArray{Float32, 5, Metal.MTL.MTLResourceStorageModePrivate}, Tuple{Base.Slice{Base.OneTo{Int64}}, Base.Slice{Base.OneTo{Int64}}, Base.Slice{Base.OneTo{Int64}}, UnitRange{Int64}, Base.Slice{Base.OneTo{Int64}}}, false}\u001b[39m, \u001b[90mx\u001b[39m::\u001b[0mSubArray\u001b[90m{Float32, 5, MtlArray{Float32, 5, Metal.MTL.MTLResourceStorageModePrivate}, Tuple{Base.Slice{Base.OneTo{Int64}}, Base.Slice{Base.OneTo{Int64}}, Base.Slice{Base.OneTo{Int64}}, UnitRange{Int64}, Base.Slice{Base.OneTo{Int64}}}, false}\u001b[39m, \u001b[90mw\u001b[39m::\u001b[0mMtlArray\u001b[90m{Float32, 5, Metal.MTL.MTLResourceStorageModePrivate}\u001b[39m, \u001b[90mcdims\u001b[39m::\u001b[0mNNlib.DenseConvDims\u001b[90m{3, 3, 3, 6, 3}\u001b[39m\u001b[0m\u001b[1m)\u001b[22m\n    \u001b[90m   @\u001b[39m \u001b[36mNNlib\u001b[39m \u001b[90m~/.julia/packages/NNlib/5iRSB/src/impl/\u001b[39m\u001b[90m\u001b[4mconv_im2col.jl:23\u001b[24m\u001b[39m\n     [5] \u001b[0m\u001b[1m(::NNlib.var\"#305#309\"{Base.Pairs{Symbol, Union{}, Tuple{}, NamedTuple{(), Tuple{}}}, NNlib.DenseConvDims{3, 3, 3, 6, 3}, SubArray{Float32, 5, MtlArray{Float32, 5, Metal.MTL.MTLResourceStorageModePrivate}, Tuple{Base.Slice{Base.OneTo{Int64}}, Base.Slice{Base.OneTo{Int64}}, Base.Slice{Base.OneTo{Int64}}, UnitRange{Int64}, Base.Slice{Base.OneTo{Int64}}}, false}, MtlArray{Float32, 5, Metal.MTL.MTLResourceStorageModePrivate}, SubArray{Float32, 5, MtlArray{Float32, 5, Metal.MTL.MTLResourceStorageModePrivate}, Tuple{Base.Slice{Base.OneTo{Int64}}, Base.Slice{Base.OneTo{Int64}}, Base.Slice{Base.OneTo{Int64}}, UnitRange{Int64}, Base.Slice{Base.OneTo{Int64}}}, false}})\u001b[22m\u001b[0m\u001b[1m(\u001b[22m\u001b[0m\u001b[1m)\u001b[22m\n    \u001b[90m   @\u001b[39m \u001b[36mNNlib\u001b[39m \u001b[90m./\u001b[39m\u001b[90m\u001b[4mthreadingconstructs.jl:404\u001b[24m\u001b[39m",
     "output_type": "error",
     "traceback": [
      "TaskFailedException\n\n\u001b[91m    nested task error: \u001b[39mTaskFailedException\n    \n    \u001b[91m    nested task error: \u001b[39mArgumentError: cannot take the CPU address of a MtlArray{Float32, 5, Metal.MTL.MTLResourceStorageModePrivate}\n        Stacktrace:\n         [1] \u001b[0m\u001b[1munsafe_convert\u001b[22m\u001b[0m\u001b[1m(\u001b[22m\u001b[90m#unused#\u001b[39m::\u001b[0mType\u001b[90m{Ptr{Float32}}\u001b[39m, \u001b[90mx\u001b[39m::\u001b[0mMtlArray\u001b[90m{Float32, 5, Metal.MTL.MTLResourceStorageModePrivate}\u001b[39m\u001b[0m\u001b[1m)\u001b[22m\n        \u001b[90m   @\u001b[39m \u001b[35mMetal\u001b[39m \u001b[90m~/.julia/packages/Metal/lnkVP/src/\u001b[39m\u001b[90m\u001b[4marray.jl:148\u001b[24m\u001b[39m\n         [2] \u001b[0m\u001b[1munsafe_convert\u001b[22m\u001b[0m\u001b[1m(\u001b[22m\u001b[90m#unused#\u001b[39m::\u001b[0mType\u001b[90m{Ptr{Float32}}\u001b[39m, \u001b[90mV\u001b[39m::\u001b[0mSubArray\u001b[90m{Float32, 5, MtlArray{Float32, 5, Metal.MTL.MTLResourceStorageModePrivate}, Tuple{Base.Slice{Base.OneTo{Int64}}, Base.Slice{Base.OneTo{Int64}}, Base.Slice{Base.OneTo{Int64}}, UnitRange{Int64}, Base.Slice{Base.OneTo{Int64}}}, false}\u001b[39m\u001b[0m\u001b[1m)\u001b[22m\n        \u001b[90m   @\u001b[39m \u001b[90mBase\u001b[39m \u001b[90m./\u001b[39m\u001b[90m\u001b[4msubarray.jl:437\u001b[24m\u001b[39m\n         [3] \u001b[0m\u001b[1mpointer\u001b[22m\n        \u001b[90m   @\u001b[39m \u001b[90m./\u001b[39m\u001b[90m\u001b[4mabstractarray.jl:1243\u001b[24m\u001b[39m\u001b[90m [inlined]\u001b[39m\n         [4] \u001b[0m\u001b[1mmacro expansion\u001b[22m\n        \u001b[90m   @\u001b[39m \u001b[90m~/.julia/packages/NNlib/5iRSB/src/impl/\u001b[39m\u001b[90m\u001b[4mconv_im2col.jl:58\u001b[24m\u001b[39m\u001b[90m [inlined]\u001b[39m\n         [5] \u001b[0m\u001b[1m(::NNlib.var\"#647#648\"{MtlArray{Float32, 3, Metal.MTL.MTLResourceStorageModePrivate}, Float32, Float32, SubArray{Float32, 5, MtlArray{Float32, 5, Metal.MTL.MTLResourceStorageModePrivate}, Tuple{Base.Slice{Base.OneTo{Int64}}, Base.Slice{Base.OneTo{Int64}}, Base.Slice{Base.OneTo{Int64}}, UnitRange{Int64}, Base.Slice{Base.OneTo{Int64}}}, false}, SubArray{Float32, 5, MtlArray{Float32, 5, Metal.MTL.MTLResourceStorageModePrivate}, Tuple{Base.Slice{Base.OneTo{Int64}}, Base.Slice{Base.OneTo{Int64}}, Base.Slice{Base.OneTo{Int64}}, UnitRange{Int64}, Base.Slice{Base.OneTo{Int64}}}, false}, MtlArray{Float32, 5, Metal.MTL.MTLResourceStorageModePrivate}, NNlib.DenseConvDims{3, 3, 3, 6, 3}, Int64, Int64, Int64, UnitRange{Int64}, Int64})\u001b[22m\u001b[0m\u001b[1m(\u001b[22m\u001b[0m\u001b[1m)\u001b[22m\n        \u001b[90m   @\u001b[39m \u001b[36mNNlib\u001b[39m \u001b[90m./\u001b[39m\u001b[90m\u001b[4mthreadingconstructs.jl:404\u001b[24m\u001b[39m\n    Stacktrace:\n     [1] \u001b[0m\u001b[1msync_end\u001b[22m\u001b[0m\u001b[1m(\u001b[22m\u001b[90mc\u001b[39m::\u001b[0mChannel\u001b[90m{Any}\u001b[39m\u001b[0m\u001b[1m)\u001b[22m\n    \u001b[90m   @\u001b[39m \u001b[90mBase\u001b[39m \u001b[90m./\u001b[39m\u001b[90m\u001b[4mtask.jl:445\u001b[24m\u001b[39m\n     [2] \u001b[0m\u001b[1mmacro expansion\u001b[22m\n    \u001b[90m   @\u001b[39m \u001b[90m./\u001b[39m\u001b[90m\u001b[4mtask.jl:477\u001b[24m\u001b[39m\u001b[90m [inlined]\u001b[39m\n     [3] \u001b[0m\u001b[1mconv_im2col!\u001b[22m\u001b[0m\u001b[1m(\u001b[22m\u001b[90my\u001b[39m::\u001b[0mSubArray\u001b[90m{Float32, 5, MtlArray{Float32, 5, Metal.MTL.MTLResourceStorageModePrivate}, Tuple{Base.Slice{Base.OneTo{Int64}}, Base.Slice{Base.OneTo{Int64}}, Base.Slice{Base.OneTo{Int64}}, UnitRange{Int64}, Base.Slice{Base.OneTo{Int64}}}, false}\u001b[39m, \u001b[90mx\u001b[39m::\u001b[0mSubArray\u001b[90m{Float32, 5, MtlArray{Float32, 5, Metal.MTL.MTLResourceStorageModePrivate}, Tuple{Base.Slice{Base.OneTo{Int64}}, Base.Slice{Base.OneTo{Int64}}, Base.Slice{Base.OneTo{Int64}}, UnitRange{Int64}, Base.Slice{Base.OneTo{Int64}}}, false}\u001b[39m, \u001b[90mw\u001b[39m::\u001b[0mMtlArray\u001b[90m{Float32, 5, Metal.MTL.MTLResourceStorageModePrivate}\u001b[39m, \u001b[90mcdims\u001b[39m::\u001b[0mNNlib.DenseConvDims\u001b[90m{3, 3, 3, 6, 3}\u001b[39m; \u001b[90mcol\u001b[39m::\u001b[0mMtlArray\u001b[90m{Float32, 3, Metal.MTL.MTLResourceStorageModePrivate}\u001b[39m, \u001b[90malpha\u001b[39m::\u001b[0mFloat32, \u001b[90mbeta\u001b[39m::\u001b[0mFloat32, \u001b[90mntasks\u001b[39m::\u001b[0mInt64\u001b[0m\u001b[1m)\u001b[22m\n    \u001b[90m   @\u001b[39m \u001b[36mNNlib\u001b[39m \u001b[90m~/.julia/packages/NNlib/5iRSB/src/impl/\u001b[39m\u001b[90m\u001b[4mconv_im2col.jl:50\u001b[24m\u001b[39m\n     [4] \u001b[0m\u001b[1mconv_im2col!\u001b[22m\u001b[0m\u001b[1m(\u001b[22m\u001b[90my\u001b[39m::\u001b[0mSubArray\u001b[90m{Float32, 5, MtlArray{Float32, 5, Metal.MTL.MTLResourceStorageModePrivate}, Tuple{Base.Slice{Base.OneTo{Int64}}, Base.Slice{Base.OneTo{Int64}}, Base.Slice{Base.OneTo{Int64}}, UnitRange{Int64}, Base.Slice{Base.OneTo{Int64}}}, false}\u001b[39m, \u001b[90mx\u001b[39m::\u001b[0mSubArray\u001b[90m{Float32, 5, MtlArray{Float32, 5, Metal.MTL.MTLResourceStorageModePrivate}, Tuple{Base.Slice{Base.OneTo{Int64}}, Base.Slice{Base.OneTo{Int64}}, Base.Slice{Base.OneTo{Int64}}, UnitRange{Int64}, Base.Slice{Base.OneTo{Int64}}}, false}\u001b[39m, \u001b[90mw\u001b[39m::\u001b[0mMtlArray\u001b[90m{Float32, 5, Metal.MTL.MTLResourceStorageModePrivate}\u001b[39m, \u001b[90mcdims\u001b[39m::\u001b[0mNNlib.DenseConvDims\u001b[90m{3, 3, 3, 6, 3}\u001b[39m\u001b[0m\u001b[1m)\u001b[22m\n    \u001b[90m   @\u001b[39m \u001b[36mNNlib\u001b[39m \u001b[90m~/.julia/packages/NNlib/5iRSB/src/impl/\u001b[39m\u001b[90m\u001b[4mconv_im2col.jl:23\u001b[24m\u001b[39m\n     [5] \u001b[0m\u001b[1m(::NNlib.var\"#305#309\"{Base.Pairs{Symbol, Union{}, Tuple{}, NamedTuple{(), Tuple{}}}, NNlib.DenseConvDims{3, 3, 3, 6, 3}, SubArray{Float32, 5, MtlArray{Float32, 5, Metal.MTL.MTLResourceStorageModePrivate}, Tuple{Base.Slice{Base.OneTo{Int64}}, Base.Slice{Base.OneTo{Int64}}, Base.Slice{Base.OneTo{Int64}}, UnitRange{Int64}, Base.Slice{Base.OneTo{Int64}}}, false}, MtlArray{Float32, 5, Metal.MTL.MTLResourceStorageModePrivate}, SubArray{Float32, 5, MtlArray{Float32, 5, Metal.MTL.MTLResourceStorageModePrivate}, Tuple{Base.Slice{Base.OneTo{Int64}}, Base.Slice{Base.OneTo{Int64}}, Base.Slice{Base.OneTo{Int64}}, UnitRange{Int64}, Base.Slice{Base.OneTo{Int64}}}, false}})\u001b[22m\u001b[0m\u001b[1m(\u001b[22m\u001b[0m\u001b[1m)\u001b[22m\n    \u001b[90m   @\u001b[39m \u001b[36mNNlib\u001b[39m \u001b[90m./\u001b[39m\u001b[90m\u001b[4mthreadingconstructs.jl:404\u001b[24m\u001b[39m",
      "",
      "Stacktrace:",
      "  [1] sync_end(c::Channel{Any})",
      "    @ Base ./task.jl:445",
      "  [2] macro expansion",
      "    @ ./task.jl:477 [inlined]",
      "  [3] conv!(out::MtlArray{Float32, 5, Metal.MTL.MTLResourceStorageModePrivate}, in1::MtlArray{Float32, 5, Metal.MTL.MTLResourceStorageModePrivate}, in2::MtlArray{Float32, 5, Metal.MTL.MTLResourceStorageModePrivate}, cdims::NNlib.DenseConvDims{3, 3, 3, 6, 3}; kwargs::Base.Pairs{Symbol, Union{}, Tuple{}, NamedTuple{(), Tuple{}}})",
      "    @ NNlib ~/.julia/packages/NNlib/5iRSB/src/conv.jl:205",
      "  [4] conv!(out::MtlArray{Float32, 5, Metal.MTL.MTLResourceStorageModePrivate}, in1::MtlArray{Float32, 5, Metal.MTL.MTLResourceStorageModePrivate}, in2::MtlArray{Float32, 5, Metal.MTL.MTLResourceStorageModePrivate}, cdims::NNlib.DenseConvDims{3, 3, 3, 6, 3})",
      "    @ NNlib ~/.julia/packages/NNlib/5iRSB/src/conv.jl:185",
      "  [5] conv!(y::MtlArray{Float32, 4, Metal.MTL.MTLResourceStorageModePrivate}, x::MtlArray{Float32, 4, Metal.MTL.MTLResourceStorageModePrivate}, w::MtlArray{Float32, 4, Metal.MTL.MTLResourceStorageModePrivate}, cdims::NNlib.DenseConvDims{2, 2, 2, 4, 2}; kwargs::Base.Pairs{Symbol, Union{}, Tuple{}, NamedTuple{(), Tuple{}}})",
      "    @ NNlib ~/.julia/packages/NNlib/5iRSB/src/conv.jl:145",
      "  [6] conv!(y::MtlArray{Float32, 4, Metal.MTL.MTLResourceStorageModePrivate}, x::MtlArray{Float32, 4, Metal.MTL.MTLResourceStorageModePrivate}, w::MtlArray{Float32, 4, Metal.MTL.MTLResourceStorageModePrivate}, cdims::NNlib.DenseConvDims{2, 2, 2, 4, 2})",
      "    @ NNlib ~/.julia/packages/NNlib/5iRSB/src/conv.jl:140",
      "  [7] conv(x::MtlArray{Float32, 4, Metal.MTL.MTLResourceStorageModePrivate}, w::MtlArray{Float32, 4, Metal.MTL.MTLResourceStorageModePrivate}, cdims::NNlib.DenseConvDims{2, 2, 2, 4, 2}; kwargs::Base.Pairs{Symbol, Union{}, Tuple{}, NamedTuple{(), Tuple{}}})",
      "    @ NNlib ~/.julia/packages/NNlib/5iRSB/src/conv.jl:88",
      "  [8] conv",
      "    @ ~/.julia/packages/NNlib/5iRSB/src/conv.jl:83 [inlined]",
      "  [9] #rrule#379",
      "    @ ~/.julia/packages/NNlib/5iRSB/src/conv.jl:355 [inlined]",
      " [10] rrule",
      "    @ ~/.julia/packages/NNlib/5iRSB/src/conv.jl:345 [inlined]",
      " [11] rrule",
      "    @ ~/.julia/packages/ChainRulesCore/7MWx2/src/rules.jl:134 [inlined]",
      " [12] chain_rrule",
      "    @ ~/.julia/packages/Zygote/YYT6v/src/compiler/chainrules.jl:223 [inlined]",
      " [13] macro expansion",
      "    @ ~/.julia/packages/Zygote/YYT6v/src/compiler/interface2.jl:101 [inlined]",
      " [14] _pullback",
      "    @ ~/.julia/packages/Zygote/YYT6v/src/compiler/interface2.jl:101 [inlined]",
      " [15] _pullback",
      "    @ ~/.julia/packages/Flux/u7QSl/src/layers/conv.jl:202 [inlined]",
      " [16] _pullback(ctx::Zygote.Context{false}, f::Flux.Conv{2, 4, typeof(NNlib.relu), MtlArray{Float32, 4, Metal.MTL.MTLResourceStorageModePrivate}, MtlVector{Float32, Metal.MTL.MTLResourceStorageModePrivate}}, args::MtlArray{Float32, 4, Metal.MTL.MTLResourceStorageModePrivate})",
      "    @ Zygote ~/.julia/packages/Zygote/YYT6v/src/compiler/interface2.jl:0",
      " [17] macro expansion",
      "    @ ~/.julia/packages/Flux/u7QSl/src/layers/basic.jl:53 [inlined]",
      " [18] _pullback",
      "    @ ~/.julia/packages/Flux/u7QSl/src/layers/basic.jl:53 [inlined]",
      " [19] _pullback(::Zygote.Context{false}, ::typeof(Flux._applychain), ::Tuple{Flux.Conv{2, 4, typeof(NNlib.relu), MtlArray{Float32, 4, Metal.MTL.MTLResourceStorageModePrivate}, MtlVector{Float32, Metal.MTL.MTLResourceStorageModePrivate}}, Flux.MaxPool{2, 4}, Flux.Conv{2, 4, typeof(NNlib.relu), MtlArray{Float32, 4, Metal.MTL.MTLResourceStorageModePrivate}, MtlVector{Float32, Metal.MTL.MTLResourceStorageModePrivate}}, Flux.MaxPool{2, 4}, Flux.Conv{2, 4, typeof(NNlib.relu), MtlArray{Float32, 4, Metal.MTL.MTLResourceStorageModePrivate}, MtlVector{Float32, Metal.MTL.MTLResourceStorageModePrivate}}, Flux.MaxPool{2, 4}, typeof(Flux.flatten), Flux.Dense{typeof(NNlib.relu), MtlMatrix{Float32, Metal.MTL.MTLResourceStorageModePrivate}, MtlVector{Float32, Metal.MTL.MTLResourceStorageModePrivate}}, Flux.Dense{typeof(identity), MtlMatrix{Float32, Metal.MTL.MTLResourceStorageModePrivate}, MtlVector{Float32, Metal.MTL.MTLResourceStorageModePrivate}}}, ::MtlArray{Float32, 4, Metal.MTL.MTLResourceStorageModePrivate})",
      "    @ Zygote ~/.julia/packages/Zygote/YYT6v/src/compiler/interface2.jl:0",
      " [20] _pullback",
      "    @ ~/.julia/packages/Flux/u7QSl/src/layers/basic.jl:51 [inlined]",
      " [21] _pullback(ctx::Zygote.Context{false}, f::Flux.Chain{Tuple{Flux.Conv{2, 4, typeof(NNlib.relu), MtlArray{Float32, 4, Metal.MTL.MTLResourceStorageModePrivate}, MtlVector{Float32, Metal.MTL.MTLResourceStorageModePrivate}}, Flux.MaxPool{2, 4}, Flux.Conv{2, 4, typeof(NNlib.relu), MtlArray{Float32, 4, Metal.MTL.MTLResourceStorageModePrivate}, MtlVector{Float32, Metal.MTL.MTLResourceStorageModePrivate}}, Flux.MaxPool{2, 4}, Flux.Conv{2, 4, typeof(NNlib.relu), MtlArray{Float32, 4, Metal.MTL.MTLResourceStorageModePrivate}, MtlVector{Float32, Metal.MTL.MTLResourceStorageModePrivate}}, Flux.MaxPool{2, 4}, typeof(Flux.flatten), Flux.Dense{typeof(NNlib.relu), MtlMatrix{Float32, Metal.MTL.MTLResourceStorageModePrivate}, MtlVector{Float32, Metal.MTL.MTLResourceStorageModePrivate}}, Flux.Dense{typeof(identity), MtlMatrix{Float32, Metal.MTL.MTLResourceStorageModePrivate}, MtlVector{Float32, Metal.MTL.MTLResourceStorageModePrivate}}}}, args::MtlArray{Float32, 4, Metal.MTL.MTLResourceStorageModePrivate})",
      "    @ Zygote ~/.julia/packages/Zygote/YYT6v/src/compiler/interface2.jl:0",
      " [22] _pullback",
      "    @ ./In[63]:4 [inlined]",
      " [23] _pullback(::Zygote.Context{false}, ::var\"#33#34\", ::Flux.Chain{Tuple{Flux.Conv{2, 4, typeof(NNlib.relu), MtlArray{Float32, 4, Metal.MTL.MTLResourceStorageModePrivate}, MtlVector{Float32, Metal.MTL.MTLResourceStorageModePrivate}}, Flux.MaxPool{2, 4}, Flux.Conv{2, 4, typeof(NNlib.relu), MtlArray{Float32, 4, Metal.MTL.MTLResourceStorageModePrivate}, MtlVector{Float32, Metal.MTL.MTLResourceStorageModePrivate}}, Flux.MaxPool{2, 4}, Flux.Conv{2, 4, typeof(NNlib.relu), MtlArray{Float32, 4, Metal.MTL.MTLResourceStorageModePrivate}, MtlVector{Float32, Metal.MTL.MTLResourceStorageModePrivate}}, Flux.MaxPool{2, 4}, typeof(Flux.flatten), Flux.Dense{typeof(NNlib.relu), MtlMatrix{Float32, Metal.MTL.MTLResourceStorageModePrivate}, MtlVector{Float32, Metal.MTL.MTLResourceStorageModePrivate}}, Flux.Dense{typeof(identity), MtlMatrix{Float32, Metal.MTL.MTLResourceStorageModePrivate}, MtlVector{Float32, Metal.MTL.MTLResourceStorageModePrivate}}}}, ::MtlArray{Float32, 4, Metal.MTL.MTLResourceStorageModePrivate}, ::OneHotArrays.OneHotMatrix{UInt32, MtlVector{UInt32, Metal.MTL.MTLResourceStorageModePrivate}})",
      "    @ Zygote ~/.julia/packages/Zygote/YYT6v/src/compiler/interface2.jl:0",
      " [24] _pullback",
      "    @ ./In[67]:9 [inlined]",
      " [25] _pullback(ctx::Zygote.Context{false}, f::var\"#35#36\"{var\"#33#34\"}, args::Flux.Chain{Tuple{Flux.Conv{2, 4, typeof(NNlib.relu), MtlArray{Float32, 4, Metal.MTL.MTLResourceStorageModePrivate}, MtlVector{Float32, Metal.MTL.MTLResourceStorageModePrivate}}, Flux.MaxPool{2, 4}, Flux.Conv{2, 4, typeof(NNlib.relu), MtlArray{Float32, 4, Metal.MTL.MTLResourceStorageModePrivate}, MtlVector{Float32, Metal.MTL.MTLResourceStorageModePrivate}}, Flux.MaxPool{2, 4}, Flux.Conv{2, 4, typeof(NNlib.relu), MtlArray{Float32, 4, Metal.MTL.MTLResourceStorageModePrivate}, MtlVector{Float32, Metal.MTL.MTLResourceStorageModePrivate}}, Flux.MaxPool{2, 4}, typeof(Flux.flatten), Flux.Dense{typeof(NNlib.relu), MtlMatrix{Float32, Metal.MTL.MTLResourceStorageModePrivate}, MtlVector{Float32, Metal.MTL.MTLResourceStorageModePrivate}}, Flux.Dense{typeof(identity), MtlMatrix{Float32, Metal.MTL.MTLResourceStorageModePrivate}, MtlVector{Float32, Metal.MTL.MTLResourceStorageModePrivate}}}})",
      "    @ Zygote ~/.julia/packages/Zygote/YYT6v/src/compiler/interface2.jl:0",
      " [26] pullback(f::Function, cx::Zygote.Context{false}, args::Flux.Chain{Tuple{Flux.Conv{2, 4, typeof(NNlib.relu), MtlArray{Float32, 4, Metal.MTL.MTLResourceStorageModePrivate}, MtlVector{Float32, Metal.MTL.MTLResourceStorageModePrivate}}, Flux.MaxPool{2, 4}, Flux.Conv{2, 4, typeof(NNlib.relu), MtlArray{Float32, 4, Metal.MTL.MTLResourceStorageModePrivate}, MtlVector{Float32, Metal.MTL.MTLResourceStorageModePrivate}}, Flux.MaxPool{2, 4}, Flux.Conv{2, 4, typeof(NNlib.relu), MtlArray{Float32, 4, Metal.MTL.MTLResourceStorageModePrivate}, MtlVector{Float32, Metal.MTL.MTLResourceStorageModePrivate}}, Flux.MaxPool{2, 4}, typeof(Flux.flatten), Flux.Dense{typeof(NNlib.relu), MtlMatrix{Float32, Metal.MTL.MTLResourceStorageModePrivate}, MtlVector{Float32, Metal.MTL.MTLResourceStorageModePrivate}}, Flux.Dense{typeof(identity), MtlMatrix{Float32, Metal.MTL.MTLResourceStorageModePrivate}, MtlVector{Float32, Metal.MTL.MTLResourceStorageModePrivate}}}})",
      "    @ Zygote ~/.julia/packages/Zygote/YYT6v/src/compiler/interface.jl:44",
      " [27] pullback",
      "    @ ~/.julia/packages/Zygote/YYT6v/src/compiler/interface.jl:42 [inlined]",
      " [28] gradient(f::Function, args::Flux.Chain{Tuple{Flux.Conv{2, 4, typeof(NNlib.relu), MtlArray{Float32, 4, Metal.MTL.MTLResourceStorageModePrivate}, MtlVector{Float32, Metal.MTL.MTLResourceStorageModePrivate}}, Flux.MaxPool{2, 4}, Flux.Conv{2, 4, typeof(NNlib.relu), MtlArray{Float32, 4, Metal.MTL.MTLResourceStorageModePrivate}, MtlVector{Float32, Metal.MTL.MTLResourceStorageModePrivate}}, Flux.MaxPool{2, 4}, Flux.Conv{2, 4, typeof(NNlib.relu), MtlArray{Float32, 4, Metal.MTL.MTLResourceStorageModePrivate}, MtlVector{Float32, Metal.MTL.MTLResourceStorageModePrivate}}, Flux.MaxPool{2, 4}, typeof(Flux.flatten), Flux.Dense{typeof(NNlib.relu), MtlMatrix{Float32, Metal.MTL.MTLResourceStorageModePrivate}, MtlVector{Float32, Metal.MTL.MTLResourceStorageModePrivate}}, Flux.Dense{typeof(identity), MtlMatrix{Float32, Metal.MTL.MTLResourceStorageModePrivate}, MtlVector{Float32, Metal.MTL.MTLResourceStorageModePrivate}}}})",
      "    @ Zygote ~/.julia/packages/Zygote/YYT6v/src/compiler/interface.jl:96",
      " [29] train(loader::DataLoader{Tuple{Array{Float32, 4}, OneHotArrays.OneHotMatrix{UInt32, Vector{UInt32}}}, Random._GLOBAL_RNG, Val{nothing}}, model::Flux.Chain{Tuple{Flux.Conv{2, 4, typeof(NNlib.relu), MtlArray{Float32, 4, Metal.MTL.MTLResourceStorageModePrivate}, MtlVector{Float32, Metal.MTL.MTLResourceStorageModePrivate}}, Flux.MaxPool{2, 4}, Flux.Conv{2, 4, typeof(NNlib.relu), MtlArray{Float32, 4, Metal.MTL.MTLResourceStorageModePrivate}, MtlVector{Float32, Metal.MTL.MTLResourceStorageModePrivate}}, Flux.MaxPool{2, 4}, Flux.Conv{2, 4, typeof(NNlib.relu), MtlArray{Float32, 4, Metal.MTL.MTLResourceStorageModePrivate}, MtlVector{Float32, Metal.MTL.MTLResourceStorageModePrivate}}, Flux.MaxPool{2, 4}, typeof(Flux.flatten), Flux.Dense{typeof(NNlib.relu), MtlMatrix{Float32, Metal.MTL.MTLResourceStorageModePrivate}, MtlVector{Float32, Metal.MTL.MTLResourceStorageModePrivate}}, Flux.Dense{typeof(identity), MtlMatrix{Float32, Metal.MTL.MTLResourceStorageModePrivate}, MtlVector{Float32, Metal.MTL.MTLResourceStorageModePrivate}}}}, loss_fn::var\"#33#34\", optimizer::NamedTuple{(:layers,), Tuple{Tuple{NamedTuple{(:σ, :weight, :bias, :stride, :pad, :dilation, :groups), Tuple{Tuple{}, Optimisers.Leaf{Optimisers.Descent{Float32}, Nothing}, Optimisers.Leaf{Optimisers.Descent{Float32}, Nothing}, Tuple{Tuple{}, Tuple{}}, NTuple{4, Tuple{}}, Tuple{Tuple{}, Tuple{}}, Tuple{}}}, Tuple{}, NamedTuple{(:σ, :weight, :bias, :stride, :pad, :dilation, :groups), Tuple{Tuple{}, Optimisers.Leaf{Optimisers.Descent{Float32}, Nothing}, Optimisers.Leaf{Optimisers.Descent{Float32}, Nothing}, Tuple{Tuple{}, Tuple{}}, NTuple{4, Tuple{}}, Tuple{Tuple{}, Tuple{}}, Tuple{}}}, Tuple{}, NamedTuple{(:σ, :weight, :bias, :stride, :pad, :dilation, :groups), Tuple{Tuple{}, Optimisers.Leaf{Optimisers.Descent{Float32}, Nothing}, Optimisers.Leaf{Optimisers.Descent{Float32}, Nothing}, Tuple{Tuple{}, Tuple{}}, NTuple{4, Tuple{}}, Tuple{Tuple{}, Tuple{}}, Tuple{}}}, Tuple{}, Tuple{}, NamedTuple{(:weight, :bias, :σ), Tuple{Optimisers.Leaf{Optimisers.Descent{Float32}, Nothing}, Optimisers.Leaf{Optimisers.Descent{Float32}, Nothing}, Tuple{}}}, NamedTuple{(:weight, :bias, :σ), Tuple{Optimisers.Leaf{Optimisers.Descent{Float32}, Nothing}, Optimisers.Leaf{Optimisers.Descent{Float32}, Nothing}, Tuple{}}}}}})",
      "    @ Main ./In[67]:9",
      " [30] run_epochs(loaders::Tuple{DataLoader{Tuple{Array{Float32, 4}, OneHotArrays.OneHotMatrix{UInt32, Vector{UInt32}}}, Random._GLOBAL_RNG, Val{nothing}}, DataLoader{Tuple{Array{Float32, 4}, OneHotArrays.OneHotMatrix{UInt32, Vector{UInt32}}}, Random._GLOBAL_RNG, Val{nothing}}}, model::Flux.Chain{Tuple{Flux.Conv{2, 4, typeof(NNlib.relu), MtlArray{Float32, 4, Metal.MTL.MTLResourceStorageModePrivate}, MtlVector{Float32, Metal.MTL.MTLResourceStorageModePrivate}}, Flux.MaxPool{2, 4}, Flux.Conv{2, 4, typeof(NNlib.relu), MtlArray{Float32, 4, Metal.MTL.MTLResourceStorageModePrivate}, MtlVector{Float32, Metal.MTL.MTLResourceStorageModePrivate}}, Flux.MaxPool{2, 4}, Flux.Conv{2, 4, typeof(NNlib.relu), MtlArray{Float32, 4, Metal.MTL.MTLResourceStorageModePrivate}, MtlVector{Float32, Metal.MTL.MTLResourceStorageModePrivate}}, Flux.MaxPool{2, 4}, typeof(Flux.flatten), Flux.Dense{typeof(NNlib.relu), MtlMatrix{Float32, Metal.MTL.MTLResourceStorageModePrivate}, MtlVector{Float32, Metal.MTL.MTLResourceStorageModePrivate}}, Flux.Dense{typeof(identity), MtlMatrix{Float32, Metal.MTL.MTLResourceStorageModePrivate}, MtlVector{Float32, Metal.MTL.MTLResourceStorageModePrivate}}}}, loss_fn::Function, optimizer::NamedTuple{(:layers,), Tuple{Tuple{NamedTuple{(:σ, :weight, :bias, :stride, :pad, :dilation, :groups), Tuple{Tuple{}, Optimisers.Leaf{Optimisers.Descent{Float32}, Nothing}, Optimisers.Leaf{Optimisers.Descent{Float32}, Nothing}, Tuple{Tuple{}, Tuple{}}, NTuple{4, Tuple{}}, Tuple{Tuple{}, Tuple{}}, Tuple{}}}, Tuple{}, NamedTuple{(:σ, :weight, :bias, :stride, :pad, :dilation, :groups), Tuple{Tuple{}, Optimisers.Leaf{Optimisers.Descent{Float32}, Nothing}, Optimisers.Leaf{Optimisers.Descent{Float32}, Nothing}, Tuple{Tuple{}, Tuple{}}, NTuple{4, Tuple{}}, Tuple{Tuple{}, Tuple{}}, Tuple{}}}, Tuple{}, NamedTuple{(:σ, :weight, :bias, :stride, :pad, :dilation, :groups), Tuple{Tuple{}, Optimisers.Leaf{Optimisers.Descent{Float32}, Nothing}, Optimisers.Leaf{Optimisers.Descent{Float32}, Nothing}, Tuple{Tuple{}, Tuple{}}, NTuple{4, Tuple{}}, Tuple{Tuple{}, Tuple{}}, Tuple{}}}, Tuple{}, Tuple{}, NamedTuple{(:weight, :bias, :σ), Tuple{Optimisers.Leaf{Optimisers.Descent{Float32}, Nothing}, Optimisers.Leaf{Optimisers.Descent{Float32}, Nothing}, Tuple{}}}, NamedTuple{(:weight, :bias, :σ), Tuple{Optimisers.Leaf{Optimisers.Descent{Float32}, Nothing}, Optimisers.Leaf{Optimisers.Descent{Float32}, Nothing}, Tuple{}}}}}}, epochs::Int64)",
      "    @ Main ./In[43]:7",
      " [31] top-level scope",
      "    @ In[69]:1"
     ]
    }
   ],
   "source": [
    "model, losses, accu = run_epochs(get_data(), model, loss_fn, optimizer, 5)"
   ]
  },
  {
   "cell_type": "code",
   "execution_count": null,
   "id": "350f4dbd-e398-4645-a086-ba6107f6ead5",
   "metadata": {},
   "outputs": [],
   "source": [
    "# models = [build_mlp_model(rng), build_cnn_model(rng), build_cnn2_model(rng)]\n",
    "models2 = [build_cnn_model(rng), build_cnn2_model(rng)]"
   ]
  },
  {
   "cell_type": "code",
   "execution_count": null,
   "id": "90879aec-9b48-4b21-821e-9955c590cecc",
   "metadata": {},
   "outputs": [],
   "source": [
    "# models = models .|> Flux.gpu;\n",
    "models2 = models2 .|> Flux.gpu;"
   ]
  },
  {
   "cell_type": "markdown",
   "id": "6dd3c3b7-7468-4c30-a783-23d6bfd97afb",
   "metadata": {},
   "source": [
    "- "
   ]
  },
  {
   "cell_type": "code",
   "execution_count": null,
   "id": "363e7ffa-655d-4731-9c12-cea0d4572e3f",
   "metadata": {},
   "outputs": [],
   "source": [
    "# models\n",
    "models2"
   ]
  },
  {
   "cell_type": "code",
   "execution_count": null,
   "id": "4adf5a12-9660-467a-8c5a-96d7c86b8714",
   "metadata": {},
   "outputs": [],
   "source": [
    "# epochs 설정\n",
    "epochs = 10;"
   ]
  },
  {
   "cell_type": "code",
   "execution_count": null,
   "id": "25428bac-2bee-477f-9e92-e3278d36d2fd",
   "metadata": {},
   "outputs": [],
   "source": [
    "# model = build_cnn_model(rng) |> Flux.gpu;"
   ]
  },
  {
   "cell_type": "code",
   "execution_count": null,
   "id": "ffc4aa8f-7f54-4db9-b240-4af258c810c7",
   "metadata": {},
   "outputs": [],
   "source": [
    "Flux.GPU_BACKEND"
   ]
  },
  {
   "cell_type": "code",
   "execution_count": null,
   "id": "49f02a72-ae37-4756-a5c0-aa3475ada09c",
   "metadata": {},
   "outputs": [],
   "source": [
    "train_losses, accuracies = run_batch(get_data(), models2, epochs);\n",
    "# train_losses, accuracies = run_batch(get_data(), models, epochs);"
   ]
  },
  {
   "cell_type": "code",
   "execution_count": null,
   "id": "edd1d45e-425f-4dd7-851b-fe2fd0194d9b",
   "metadata": {},
   "outputs": [],
   "source": [
    "label = [\"mlp\", \"cnn\", \"cnn2\"];\n",
    "title = \"Fashion Item Accuracy\";\n",
    "Plots.plot(1:epochs, accuracies, label = label, title = title)"
   ]
  },
  {
   "cell_type": "markdown",
   "id": "f3a96cab-8bd7-4e3e-a2bd-38fb3a1b6f11",
   "metadata": {},
   "source": [
    "### 숫자 손글씨 분류"
   ]
  },
  {
   "cell_type": "markdown",
   "id": "07e9c7c5-5b51-41a9-84d4-4fd6e8aa1ad9",
   "metadata": {},
   "source": [
    "- 앞의 get_data 함수의 MLDatasets.FashionMNIST를 MLDatasets.MNIST로 바꾸기만 하면 패션 아이템 이미지 대신 숫자 손글씨 이미지에 대해서도 분류할 수 있다."
   ]
  },
  {
   "cell_type": "code",
   "execution_count": null,
   "id": "19764cd6-61c0-4fdb-8bb9-04dd32db3743",
   "metadata": {},
   "outputs": [],
   "source": [
    "# title = \"Handwritten Digit Accuaracy\";\n",
    "# Plots.plot(1:epochs, accuracies, label = label, title = title)"
   ]
  },
  {
   "cell_type": "markdown",
   "id": "a05f99bf-d073-4e55-a9ce-1ad5320bcc53",
   "metadata": {},
   "source": [
    "## 17.2 전이학습"
   ]
  },
  {
   "cell_type": "code",
   "execution_count": 38,
   "id": "c5d875a8-9123-42ec-af88-35f37e9a26ef",
   "metadata": {},
   "outputs": [
    {
     "data": {
      "text/html": [
       "# 1 method for generic function <b>device</b> from \u001b[36mGPUArrays\u001b[39m:<ul><li> device(x::<b>MtlArray</b>) in Metal at <a href=\"file:///Users/younghokim/.julia/packages/Metal/lnkVP/src/gpuarrays.jl\" target=\"_blank\">/Users/younghokim/.julia/packages/Metal/lnkVP/src/gpuarrays.jl:3</a></li> </ul>"
      ],
      "text/plain": [
       "# 1 method for generic function \"device\" from \u001b[36mGPUArrays\u001b[39m:\n",
       " [1] device(\u001b[90mx\u001b[39m::\u001b[1mMtlArray\u001b[22m)\n",
       "\u001b[90m     @\u001b[39m \u001b[35mMetal\u001b[39m \u001b[90m~/.julia/packages/Metal/lnkVP/src/\u001b[39m\u001b[90m\u001b[4mgpuarrays.jl:3\u001b[24m\u001b[39m"
      ]
     },
     "execution_count": 38,
     "metadata": {},
     "output_type": "execute_result"
    }
   ],
   "source": [
    "using GPUArrays\n",
    "\n",
    "methods(GPUArrays.device)"
   ]
  },
  {
   "cell_type": "code",
   "execution_count": null,
   "id": "81170476-9713-458e-9920-27cf174b7b40",
   "metadata": {},
   "outputs": [],
   "source": [
    "Metal.MTL.MTLResourceStorageModePrivate"
   ]
  },
  {
   "cell_type": "code",
   "execution_count": 50,
   "id": "f101f4c4-3fe4-41c1-9de5-de9bd317efda",
   "metadata": {},
   "outputs": [
    {
     "data": {
      "text/plain": [
       "1"
      ]
     },
     "execution_count": 50,
     "metadata": {},
     "output_type": "execute_result"
    }
   ],
   "source": [
    "ENV[\"METAL_CAPTURE_ENABLED\"] = 1"
   ]
  },
  {
   "cell_type": "code",
   "execution_count": 51,
   "id": "e68d0e28-b67d-4269-9a94-95ad8a39814b",
   "metadata": {},
   "outputs": [],
   "source": [
    "using Metal"
   ]
  },
  {
   "cell_type": "code",
   "execution_count": null,
   "id": "027a970f-0af9-4cb9-b086-4f588044c87e",
   "metadata": {},
   "outputs": [],
   "source": []
  },
  {
   "cell_type": "code",
   "execution_count": null,
   "id": "5bdfa36b-69e0-4f5f-8c83-094a98c3593d",
   "metadata": {},
   "outputs": [],
   "source": []
  },
  {
   "cell_type": "code",
   "execution_count": null,
   "id": "a6d3a8a4-9275-4e72-a7f0-963d06aabe68",
   "metadata": {},
   "outputs": [],
   "source": []
  },
  {
   "cell_type": "code",
   "execution_count": null,
   "id": "d6df5fac-196c-4264-b634-1fe5af446c7f",
   "metadata": {},
   "outputs": [],
   "source": []
  },
  {
   "cell_type": "code",
   "execution_count": null,
   "id": "04f29026-139f-403d-b30e-923c41bcf345",
   "metadata": {},
   "outputs": [],
   "source": []
  },
  {
   "cell_type": "code",
   "execution_count": null,
   "id": "6cfda801-aa98-49a8-a6ec-eae09c94fb16",
   "metadata": {},
   "outputs": [],
   "source": []
  },
  {
   "cell_type": "code",
   "execution_count": null,
   "id": "b928f669-de23-49b9-b79f-169f25eee3df",
   "metadata": {},
   "outputs": [],
   "source": []
  },
  {
   "cell_type": "code",
   "execution_count": null,
   "id": "3c1baefc-f862-43a1-b031-01f0010aae2c",
   "metadata": {},
   "outputs": [],
   "source": []
  },
  {
   "cell_type": "code",
   "execution_count": null,
   "id": "3f493891-c56b-4b98-b5fb-d3af37edbb8c",
   "metadata": {},
   "outputs": [],
   "source": []
  }
 ],
 "metadata": {
  "kernelspec": {
   "display_name": "Julia 1.9.2",
   "language": "julia",
   "name": "julia-1.9"
  },
  "language_info": {
   "file_extension": ".jl",
   "mimetype": "application/julia",
   "name": "julia",
   "version": "1.9.2"
  }
 },
 "nbformat": 4,
 "nbformat_minor": 5
}
