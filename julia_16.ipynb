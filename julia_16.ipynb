{
 "cells": [
  {
   "cell_type": "markdown",
   "id": "44e0076a-c335-42ca-bdd0-7ff2bacedaa7",
   "metadata": {},
   "source": [
    "# 16. 플럭스 사용법"
   ]
  },
  {
   "cell_type": "code",
   "execution_count": 1,
   "id": "ab8f0adf-bb55-41b8-aef9-80ca49f60867",
   "metadata": {},
   "outputs": [
    {
     "name": "stdout",
     "output_type": "stream",
     "text": [
      "Julia Version 1.9.2\n",
      "Commit e4ee485e909 (2023-07-05 09:39 UTC)\n",
      "Platform Info:\n",
      "  OS: macOS (arm64-apple-darwin22.4.0)\n",
      "  CPU: 8 × Apple M2\n",
      "  WORD_SIZE: 64\n",
      "  LIBM: libopenlibm\n",
      "  LLVM: libLLVM-14.0.6 (ORCJIT, apple-m1)\n",
      "  Threads: 2 on 4 virtual cores\n"
     ]
    }
   ],
   "source": [
    "versioninfo()"
   ]
  },
  {
   "cell_type": "code",
   "execution_count": 2,
   "id": "98568a6d-c71c-439d-82ff-7e0d06e5db7c",
   "metadata": {},
   "outputs": [],
   "source": [
    "import MLDatasets"
   ]
  },
  {
   "cell_type": "code",
   "execution_count": 3,
   "id": "1c2ab80d-2bf1-4a41-9dc6-5daa54d5a032",
   "metadata": {},
   "outputs": [],
   "source": [
    "import Flux"
   ]
  },
  {
   "cell_type": "code",
   "execution_count": 4,
   "id": "2f5e38a2-75b3-469d-95ff-a2fe5921f66b",
   "metadata": {},
   "outputs": [],
   "source": [
    "import NNlib"
   ]
  },
  {
   "cell_type": "code",
   "execution_count": 5,
   "id": "fd218283-eb0b-4565-a04f-3a8bc4cb3d35",
   "metadata": {},
   "outputs": [],
   "source": [
    "import Flux: onehotbatch "
   ]
  },
  {
   "cell_type": "code",
   "execution_count": 6,
   "id": "b4309ea6-e8f4-459d-8de1-d2bdb14c84fa",
   "metadata": {},
   "outputs": [],
   "source": [
    "import MLUtils: DataLoader"
   ]
  },
  {
   "cell_type": "code",
   "execution_count": 7,
   "id": "c8e969a1-ffec-43ef-a52a-e40f0b5cba3d",
   "metadata": {},
   "outputs": [],
   "source": [
    "# import CUDA: has_cuda"
   ]
  },
  {
   "cell_type": "code",
   "execution_count": 8,
   "id": "98e059bf-d508-4ea5-87e2-30282d7cf8ba",
   "metadata": {},
   "outputs": [],
   "source": [
    "import Zygote"
   ]
  },
  {
   "cell_type": "code",
   "execution_count": 9,
   "id": "384972a8-dd2c-4178-955f-3cba68a66aa2",
   "metadata": {},
   "outputs": [],
   "source": [
    "import Optimisers"
   ]
  },
  {
   "cell_type": "code",
   "execution_count": 10,
   "id": "ebdd3aa5-533b-45e9-9a4e-cc26592f94a7",
   "metadata": {},
   "outputs": [],
   "source": [
    "import Formatting: printfmtln"
   ]
  },
  {
   "cell_type": "code",
   "execution_count": 11,
   "id": "9a6f4c0d-7c16-4b8e-b12e-d227dc240a4d",
   "metadata": {},
   "outputs": [],
   "source": [
    "using Random: MersenneTwister"
   ]
  },
  {
   "cell_type": "code",
   "execution_count": 12,
   "id": "04b22f23-ff2b-4fc5-ae56-a15fdbbaedf3",
   "metadata": {},
   "outputs": [],
   "source": [
    "import Plots"
   ]
  },
  {
   "cell_type": "code",
   "execution_count": 13,
   "id": "7d1089ad-2fbc-43aa-a342-433a2141f954",
   "metadata": {},
   "outputs": [],
   "source": [
    "using DataFrames"
   ]
  },
  {
   "cell_type": "code",
   "execution_count": 14,
   "id": "160979f9-20c8-499e-972b-24a20b693484",
   "metadata": {},
   "outputs": [],
   "source": [
    "using CSV"
   ]
  },
  {
   "cell_type": "code",
   "execution_count": 15,
   "id": "76361b50-f4d0-43fc-8536-e1cea8066193",
   "metadata": {},
   "outputs": [
    {
     "data": {
      "text/plain": [
       "true"
      ]
     },
     "execution_count": 15,
     "metadata": {},
     "output_type": "execute_result"
    }
   ],
   "source": [
    "ENV[\"DATADEPS_ALWAYS_ACCEPT\"] = true # 필요 데이터 자동 다운로드"
   ]
  },
  {
   "cell_type": "markdown",
   "id": "54b1732d-3ab3-4b5a-85c7-b072d5d30979",
   "metadata": {},
   "source": [
    "## 16.1 데이터 준비"
   ]
  },
  {
   "cell_type": "code",
   "execution_count": 16,
   "id": "9aad9330-e7b0-42f4-a977-701411445d0e",
   "metadata": {},
   "outputs": [
    {
     "data": {
      "text/plain": [
       "get_data (generic function with 2 methods)"
      ]
     },
     "execution_count": 16,
     "metadata": {},
     "output_type": "execute_result"
    }
   ],
   "source": [
    "function get_data(batchsize = 64)\n",
    "    xtrain, ytrain = MLDatasets.FashionMNIST(:train)[:]\n",
    "    xtest, ytest = MLDatasets.FashionMNIST(:test)[:]\n",
    "\n",
    "    xtrain = reshape(xtrain, 28, 28, 1, :)\n",
    "    xtest = reshape(xtest, 28, 28, 1, :)\n",
    "\n",
    "    ytrain, ytest = onehotbatch(ytrain, 0:9), onehotbatch(ytest, 0:9)\n",
    "\n",
    "    train_loader = DataLoader((xtrain, ytrain), batchsize = batchsize)\n",
    "    test_loader = DataLoader((xtest, ytest), batchsize = batchsize)\n",
    "\n",
    "    return train_loader, test_loader\n",
    "end"
   ]
  },
  {
   "cell_type": "markdown",
   "id": "c263b2a3-cf70-4f2e-ae6e-525c23dbe15c",
   "metadata": {},
   "source": [
    "### GPU setting"
   ]
  },
  {
   "cell_type": "code",
   "execution_count": 17,
   "id": "dfdee8de-2221-4866-8a1b-269c28afc106",
   "metadata": {},
   "outputs": [
    {
     "name": "stderr",
     "output_type": "stream",
     "text": [
      "\u001b[33m\u001b[1m┌ \u001b[22m\u001b[39m\u001b[33m\u001b[1mWarning: \u001b[22m\u001b[39mPackage cuDNN not found in current path.\n",
      "\u001b[33m\u001b[1m│ \u001b[22m\u001b[39m- Run `import Pkg; Pkg.add(\"cuDNN\")` to install the cuDNN package, then restart julia.\n",
      "\u001b[33m\u001b[1m│ \u001b[22m\u001b[39m- If cuDNN is not installed, some Flux functionalities will not be available when running on the GPU.\n",
      "\u001b[33m\u001b[1m└ \u001b[22m\u001b[39m\u001b[90m@ FluxCUDAExt ~/.julia/packages/Flux/u7QSl/ext/FluxCUDAExt/FluxCUDAExt.jl:56\u001b[39m\n"
     ]
    },
    {
     "data": {
      "text/plain": [
       "false"
      ]
     },
     "execution_count": 17,
     "metadata": {},
     "output_type": "execute_result"
    }
   ],
   "source": [
    "# CUDA는 cuDNN 설치가 되어 있지 않아 사용이 어려움\n",
    "\n",
    "using CUDA\n",
    "\n",
    "CUDA.functional()"
   ]
  },
  {
   "cell_type": "code",
   "execution_count": 18,
   "id": "59655f48-f29d-4b81-a53a-ff6850f15524",
   "metadata": {},
   "outputs": [],
   "source": [
    "# Mac M2 chip의 gpu를 사용할 수 있는 Metal.jl 패키지 이용 !\n",
    "\n",
    "using Metal\n",
    "\n",
    "# Flux.gpu_backend!(\"Metal\")\n",
    "# Flux.GPU_BACKEND"
   ]
  },
  {
   "cell_type": "code",
   "execution_count": 19,
   "id": "56850e6c-5da6-41fc-851b-d3e39d09f0f8",
   "metadata": {},
   "outputs": [
    {
     "name": "stdout",
     "output_type": "stream",
     "text": [
      "macOS 13.5.0, Darwin 22.6.0\n",
      "\n",
      "Toolchain:\n",
      "- Julia: 1.9.2\n",
      "- LLVM: 14.0.6\n",
      "\n",
      "Julia packages: \n",
      "- Metal.jl: 0.5.1\n",
      "- Metal_LLVM_Tools_jll: 0.5.1+0\n",
      "\n",
      "1 device:\n",
      "- Apple M2 (64.000 KiB allocated)\n"
     ]
    }
   ],
   "source": [
    "Metal.versioninfo()"
   ]
  },
  {
   "cell_type": "code",
   "execution_count": 20,
   "id": "d44c3fa5-fd70-46c8-96e0-f24548786d0a",
   "metadata": {},
   "outputs": [
    {
     "data": {
      "text/plain": [
       "true"
      ]
     },
     "execution_count": 20,
     "metadata": {},
     "output_type": "execute_result"
    }
   ],
   "source": [
    "Metal.functional()"
   ]
  },
  {
   "cell_type": "code",
   "execution_count": 21,
   "id": "0b0f478d-748a-4c2d-b4fc-cd9238feb41b",
   "metadata": {},
   "outputs": [],
   "source": [
    "# Metal 패키지 사용 예제 실행\n",
    "\n",
    "using Test\n",
    "\n",
    "a = MtlArray{Int}(undef, 1024)\n",
    "\n",
    "# essential memory operations, like copying, filling, reshaping, ...\n",
    "b = copy(a)\n",
    "fill!(b, 0)\n",
    "@test b == Metal.zeros(Int, 1024)\n",
    "\n",
    "# automatic memory management\n",
    "a = nothing"
   ]
  },
  {
   "cell_type": "code",
   "execution_count": 22,
   "id": "28bbdb99-0afa-4786-9fc4-4b670bce1293",
   "metadata": {},
   "outputs": [
    {
     "data": {
      "text/plain": [
       "1024-element MtlVector{Float32, Metal.MTL.MTLResourceStorageModePrivate}:\n",
       " 0.841471\n",
       " 0.841471\n",
       " 0.841471\n",
       " 0.841471\n",
       " 0.841471\n",
       " 0.841471\n",
       " 0.841471\n",
       " 0.841471\n",
       " 0.841471\n",
       " 0.841471\n",
       " 0.841471\n",
       " 0.841471\n",
       " 0.841471\n",
       " ⋮\n",
       " 0.841471\n",
       " 0.841471\n",
       " 0.841471\n",
       " 0.841471\n",
       " 0.841471\n",
       " 0.841471\n",
       " 0.841471\n",
       " 0.841471\n",
       " 0.841471\n",
       " 0.841471\n",
       " 0.841471\n",
       " 0.841471"
      ]
     },
     "execution_count": 22,
     "metadata": {},
     "output_type": "execute_result"
    }
   ],
   "source": [
    "a = Metal.zeros(1024)\n",
    "b = Metal.ones(1024)\n",
    "a.^2 .+ sin.(b)"
   ]
  },
  {
   "cell_type": "markdown",
   "id": "7e619059-d610-4cdf-bd6e-017ddd549390",
   "metadata": {},
   "source": [
    "## 16.2 모델 생성"
   ]
  },
  {
   "cell_type": "markdown",
   "id": "73f8b214-f4cf-49b4-858e-86d461aaf6d8",
   "metadata": {},
   "source": [
    "다음 함수가 리턴하는 모델은 (28, 28, 1, 배치 사이즈) 형상의 데이터를 (28*28, 배치 사이즈) 형상으로 평탄화한 후 완전 연결된(fully connected) 계층인 Dense로 연결한다."
   ]
  },
  {
   "cell_type": "code",
   "execution_count": 23,
   "id": "6a499e4b-a87b-468c-8916-b5a80290b11b",
   "metadata": {},
   "outputs": [
    {
     "data": {
      "text/plain": [
       "build_mlp_model (generic function with 1 method)"
      ]
     },
     "execution_count": 23,
     "metadata": {},
     "output_type": "execute_result"
    }
   ],
   "source": [
    "function build_mlp_model(rng)\n",
    "    Flux.Chain(\n",
    "        Flux.flatten,\n",
    "        Flux.Dense(28 * 28 => 512 , NNlib.relu; init = init(rng)),\n",
    "        Flux.Dense(512 => 512, NNlib.relu; init = init(rng)),\n",
    "        Flux.Dense(512 => 10 ; init = init(rng)),\n",
    "    )\n",
    "end"
   ]
  },
  {
   "cell_type": "code",
   "execution_count": 24,
   "id": "4dc1d232-1b47-4c6b-a4b5-bcf28f888066",
   "metadata": {},
   "outputs": [
    {
     "data": {
      "text/plain": [
       "init (generic function with 1 method)"
      ]
     },
     "execution_count": 24,
     "metadata": {},
     "output_type": "execute_result"
    }
   ],
   "source": [
    "init(rng) = Flux.glorot_uniform(rng)"
   ]
  },
  {
   "cell_type": "markdown",
   "id": "351b9e90-a662-4b36-a365-2c0e8cf8c16e",
   "metadata": {},
   "source": [
    "## 16.3 학습 및 테스트"
   ]
  },
  {
   "cell_type": "markdown",
   "id": "6d561774-3d6a-4ebd-9a3f-66c3ac03bc57",
   "metadata": {},
   "source": [
    "### 모델 학습 함수"
   ]
  },
  {
   "cell_type": "code",
   "execution_count": 25,
   "id": "6281061f-e251-4773-bb76-a755da0842ed",
   "metadata": {},
   "outputs": [
    {
     "data": {
      "text/plain": [
       "train (generic function with 1 method)"
      ]
     },
     "execution_count": 25,
     "metadata": {},
     "output_type": "execute_result"
    }
   ],
   "source": [
    "function train(loader, model, loss_fn, optimizer)\n",
    "    num_batches = length(loader)\n",
    "    losses = Float32[]\n",
    "    Flux.testmode!(model, false)\n",
    "    for (batch, (X, y)) in enumerate(loader)\n",
    "        X, y = Flux.gpu(X), Flux.gpu(y)\n",
    "        grad = Zygote.gradient(m -> loss_fn(m, X, y), model)[1]\n",
    "        optimizer, model = Optimisers.update(optimizer, model, grad)\n",
    "        if batch % 100 == 0\n",
    "            loss = loss_fn(model, X, y)\n",
    "            printfmtln(\"[Train] loss: {:.7f} [{:>3d}/{:>3d}]\",\n",
    "                loss, batch, num_batches)\n",
    "            push!(losses, loss)\n",
    "        end\n",
    "    end\n",
    "    model, optimizer, losses\n",
    "end"
   ]
  },
  {
   "cell_type": "markdown",
   "id": "59612b2c-0c5c-4d65-9c4c-1b23d704c2f2",
   "metadata": {},
   "source": [
    "### 모델 테스트 함수"
   ]
  },
  {
   "cell_type": "code",
   "execution_count": 26,
   "id": "c3d9bae1-c35b-4593-a2c9-0708f5aa113d",
   "metadata": {},
   "outputs": [
    {
     "data": {
      "text/plain": [
       "test (generic function with 1 method)"
      ]
     },
     "execution_count": 26,
     "metadata": {},
     "output_type": "execute_result"
    }
   ],
   "source": [
    "function test(loader, model, loss_fn)\n",
    "    num_batches = length(loader)\n",
    "    Flux.testmode!(model, true)\n",
    "    acc, tot = 0, 0\n",
    "    loss = 0f0\n",
    "    for (X, y) in loader\n",
    "        X, y = Flux.gpu(X), Flux.gpu(y)\n",
    "        pred = model(X)\n",
    "        acc += sum(Flux.onecold(pred) .== Flux.onecold(y))\n",
    "        tot += size(X)[end]\n",
    "        loss += loss_fn(model, X, y)\n",
    "    end\n",
    "    acc, avg_loss = acc / tot * 100, loss / num_batches\n",
    "    printfmtln(\"[Test] Accuracy: {:.1f}, Avg loss: {:.7f}\", acc, avg_loss)\n",
    "    acc, avg_loss\n",
    "end"
   ]
  },
  {
   "cell_type": "markdown",
   "id": "bc4c9a55-9bca-45d4-af17-ee417fd9ef1a",
   "metadata": {},
   "source": [
    "## 16.4 전체 실행"
   ]
  },
  {
   "cell_type": "markdown",
   "id": "d28bbb31-a4e8-40ed-b02b-b9aeb4955682",
   "metadata": {},
   "source": [
    "지금까지 작성한 함수들을 이용하여 다음과 같이 학습 및 테스트를 진행"
   ]
  },
  {
   "cell_type": "code",
   "execution_count": 27,
   "id": "5d022e98-f09b-4a2d-a5fe-bdcd8e38329f",
   "metadata": {},
   "outputs": [],
   "source": [
    "rng = MersenneTwister(1);"
   ]
  },
  {
   "cell_type": "code",
   "execution_count": 28,
   "id": "eed22896-ea2d-4a0d-a91a-b241d6be2f6c",
   "metadata": {},
   "outputs": [
    {
     "data": {
      "text/plain": [
       "Chain(\n",
       "  Flux.flatten,\n",
       "  Dense(784 => 512, relu),              \u001b[90m# 401_920 parameters\u001b[39m\n",
       "  Dense(512 => 512, relu),              \u001b[90m# 262_656 parameters\u001b[39m\n",
       "  Dense(512 => 10),                     \u001b[90m# 5_130 parameters\u001b[39m\n",
       ") \u001b[90m                  # Total: 6 arrays, \u001b[39m669_706 parameters, 648 bytes."
      ]
     },
     "execution_count": 28,
     "metadata": {},
     "output_type": "execute_result"
    }
   ],
   "source": [
    "model = build_mlp_model(rng) |> Flux.gpu\n",
    "# Flux.Chain(\n",
    "#    Flux.flatten,\n",
    "#    Flux.Dense(784 => 512, NNlib.relu),\n",
    "#    Flux.Dense(512 => 512, NNlib.relu),\n",
    "#    Flux.Dense(512 => 10),\n",
    "#)"
   ]
  },
  {
   "cell_type": "markdown",
   "id": "600d3da3-1d08-45f6-be0f-320ad42eb551",
   "metadata": {},
   "source": [
    "### 손실 함수 및 옵티마이저 지정"
   ]
  },
  {
   "cell_type": "markdown",
   "id": "c509ead0-ff17-4f92-82f2-28bebe54b752",
   "metadata": {},
   "source": [
    "손실함수 loss_fn은 모델 m과 입력 변수 x, 종속변수 y를 받아서 손실을 계산하는 익명 함수"
   ]
  },
  {
   "cell_type": "code",
   "execution_count": 29,
   "id": "e56174ac-d3c0-45b8-aa8e-9da248b0be47",
   "metadata": {},
   "outputs": [],
   "source": [
    "loss_fn = (m, x, y) -> Flux.Losses.logitcrossentropy(m(x), y);"
   ]
  },
  {
   "cell_type": "markdown",
   "id": "f54defa4-98a4-4762-98aa-bfcb298afaa6",
   "metadata": {},
   "source": [
    "옵티마이저 생성: Optimisers.setup 함수에 최적화 로직과 모델을 넘겨서 생성"
   ]
  },
  {
   "cell_type": "code",
   "execution_count": 30,
   "id": "cb382787-fe2d-4a55-8082-19ac0ae7fdb6",
   "metadata": {},
   "outputs": [
    {
     "data": {
      "text/plain": [
       "(layers = ((), (weight = \u001b[32mLeaf(Descent(0.001), \u001b[39mnothing\u001b[32m)\u001b[39m, bias = \u001b[32mLeaf(Descent(0.001), \u001b[39mnothing\u001b[32m)\u001b[39m, σ = ()), (weight = \u001b[32mLeaf(Descent(0.001), \u001b[39mnothing\u001b[32m)\u001b[39m, bias = \u001b[32mLeaf(Descent(0.001), \u001b[39mnothing\u001b[32m)\u001b[39m, σ = ()), (weight = \u001b[32mLeaf(Descent(0.001), \u001b[39mnothing\u001b[32m)\u001b[39m, bias = \u001b[32mLeaf(Descent(0.001), \u001b[39mnothing\u001b[32m)\u001b[39m, σ = ())),)"
      ]
     },
     "execution_count": 30,
     "metadata": {},
     "output_type": "execute_result"
    }
   ],
   "source": [
    "optimizer = Optimisers.setup(Optimisers.Descent(0.001f0), model)"
   ]
  },
  {
   "cell_type": "markdown",
   "id": "75ff9969-3778-44f9-b077-b54f2dd60195",
   "metadata": {},
   "source": [
    "### 에폭별 실행"
   ]
  },
  {
   "cell_type": "markdown",
   "id": "69e4b76f-1a0b-4561-9a7e-d87c450e79f7",
   "metadata": {},
   "source": [
    "매 에폭마다 모델을 학습하고 손실 및 정확도를 구하기 위해 다음과 같은 함수를 작성"
   ]
  },
  {
   "cell_type": "code",
   "execution_count": 31,
   "id": "4d72d4ff-a865-4bc6-ba20-8133871ef1f8",
   "metadata": {},
   "outputs": [
    {
     "data": {
      "text/plain": [
       "run_epochs (generic function with 1 method)"
      ]
     },
     "execution_count": 31,
     "metadata": {},
     "output_type": "execute_result"
    }
   ],
   "source": [
    "function run_epochs(loaders, model, loss_fn, optimizer, epochs)\n",
    "    train_loader, test_loader = loaders\n",
    "    train_losses, accuracies = [], [];\n",
    "    for t in 1:epochs\n",
    "        println(\"Epochs $t\")\n",
    "        println(\"---------------------------\")\n",
    "        model, optimizer, losses =\n",
    "            train(train_loader, model, loss_fn, optimizer)\n",
    "        train_losses = vcat(train_losses, losses)\n",
    "        acc, _ = test(test_loader, model, loss_fn)\n",
    "        push!(accuracies, acc)\n",
    "    end\n",
    "    model, train_losses, accuracies\n",
    "end"
   ]
  },
  {
   "cell_type": "markdown",
   "id": "35c21706-8bca-4036-8bb2-c549bf8c6cd2",
   "metadata": {},
   "source": [
    "* 위 함수의 반복문 안을 보면 train 함수가 반환한 모델과 옵티마이저를 다시 train 함수에 넘기는 것을 볼 수 있다. 이렇게 해야 이전 에폭에서 학습된 결과를 바탕으로 지속해서 학습이 이루어진다.\n",
    "\n",
    "* 5 에폭으로 모델을 학습하고 테스트해 보자."
   ]
  },
  {
   "cell_type": "code",
   "execution_count": 32,
   "id": "bd882183-81f2-433e-9acb-b551495f01af",
   "metadata": {},
   "outputs": [
    {
     "name": "stdout",
     "output_type": "stream",
     "text": [
      "Epochs 1\n",
      "---------------------------\n",
      "[Train] loss: 2.1345654 [100/938]\n",
      "[Train] loss: 1.9843962 [200/938]\n",
      "[Train] loss: 1.7919340 [300/938]\n",
      "[Train] loss: 1.7712075 [400/938]\n",
      "[Train] loss: 1.6081743 [500/938]\n",
      "[Train] loss: 1.5283515 [600/938]\n",
      "[Train] loss: 1.4786059 [700/938]\n",
      "[Train] loss: 1.4618603 [800/938]\n",
      "[Train] loss: 1.2697319 [900/938]\n",
      "[Test] Accuracy: 66.0, Avg loss: 1.2534889\n",
      "Epochs 2\n",
      "---------------------------\n",
      "[Train] loss: 1.1759088 [100/938]\n",
      "[Train] loss: 1.1838040 [200/938]\n",
      "[Train] loss: 1.0162983 [300/938]\n",
      "[Train] loss: 1.2045548 [400/938]\n",
      "[Train] loss: 0.9553254 [500/938]\n",
      "[Train] loss: 1.0074713 [600/938]\n",
      "[Train] loss: 1.0611012 [700/938]\n",
      "[Train] loss: 1.0963845 [800/938]\n",
      "[Train] loss: 0.9053070 [900/938]\n",
      "[Test] Accuracy: 71.3, Avg loss: 0.9295450\n",
      "Epochs 3\n",
      "---------------------------\n",
      "[Train] loss: 0.8986330 [100/938]\n",
      "[Train] loss: 0.9666424 [200/938]\n",
      "[Train] loss: 0.7546752 [300/938]\n",
      "[Train] loss: 1.0306990 [400/938]\n",
      "[Train] loss: 0.7309981 [500/938]\n",
      "[Train] loss: 0.8243056 [600/938]\n",
      "[Train] loss: 0.9186160 [700/938]\n",
      "[Train] loss: 0.9548618 [800/938]\n",
      "[Train] loss: 0.7607463 [900/938]\n",
      "[Test] Accuracy: 74.4, Avg loss: 0.8047458\n",
      "Epochs 4\n",
      "---------------------------\n",
      "[Train] loss: 0.7915848 [100/938]\n",
      "[Train] loss: 0.8809498 [200/938]\n",
      "[Train] loss: 0.6381888 [300/938]\n",
      "[Train] loss: 0.9519332 [400/938]\n",
      "[Train] loss: 0.6213652 [500/938]\n",
      "[Train] loss: 0.7309466 [600/938]\n",
      "[Train] loss: 0.8472338 [700/938]\n",
      "[Train] loss: 0.8736759 [800/938]\n",
      "[Train] loss: 0.6820020 [900/938]\n",
      "[Test] Accuracy: 76.1, Avg loss: 0.7363336\n",
      "Epochs 5\n",
      "---------------------------\n",
      "[Train] loss: 0.7302548 [100/938]\n",
      "[Train] loss: 0.8273676 [200/938]\n",
      "[Train] loss: 0.5701156 [300/938]\n",
      "[Train] loss: 0.9025375 [400/938]\n",
      "[Train] loss: 0.5522979 [500/938]\n",
      "[Train] loss: 0.6714890 [600/938]\n",
      "[Train] loss: 0.8020688 [700/938]\n",
      "[Train] loss: 0.8166582 [800/938]\n",
      "[Train] loss: 0.6292128 [900/938]\n",
      "[Test] Accuracy: 77.3, Avg loss: 0.6908663\n",
      " 56.834291 seconds (145.35 M allocations: 7.494 GiB, 4.23% gc time, 28.89% compilation time: <1% of which was recompilation)\n"
     ]
    },
    {
     "data": {
      "text/plain": [
       "(Chain(flatten, Dense(784 => 512, relu), Dense(512 => 512, relu), Dense(512 => 10)), Any[2.1345654f0, 1.9843962f0, 1.791934f0, 1.7712075f0, 1.6081743f0, 1.5283515f0, 1.4786059f0, 1.4618603f0, 1.2697319f0, 1.1759088f0  …  0.68200207f0, 0.7302548f0, 0.82736766f0, 0.57011557f0, 0.90253747f0, 0.5522979f0, 0.67148894f0, 0.8020688f0, 0.81665826f0, 0.62921286f0], Any[65.95, 71.31, 74.4, 76.1, 77.29])"
      ]
     },
     "execution_count": 32,
     "metadata": {},
     "output_type": "execute_result"
    }
   ],
   "source": [
    "@time begin\n",
    "    # 속도 측정 동시 진행 \n",
    "    model, losses, accu = run_epochs(get_data(), model, loss_fn, optimizer, 5)\n",
    "end"
   ]
  },
  {
   "cell_type": "markdown",
   "id": "a76559c2-2ecf-4266-ae2a-a36edad8cf15",
   "metadata": {},
   "source": [
    "### 학습과정 손실 및 정확도 시각화"
   ]
  },
  {
   "cell_type": "code",
   "execution_count": 33,
   "id": "07003369-0e4e-4dcb-9481-46e1343d4494",
   "metadata": {},
   "outputs": [
    {
     "data": {
      "image/png": "[encoded data removed]",
      "image/svg+xml": [
       "<?xml version=\"1.0\" encoding=\"utf-8\"?>\n",
       "<svg xmlns=\"http://www.w3.org/2000/svg\" xmlns:xlink=\"http://www.w3.org/1999/xlink\" width=\"600\" height=\"400\" viewBox=\"0 0 2400 1600\">\n",
       "<defs>\n",
       "  <clipPath id=\"clip220\">\n",
       "    <rect x=\"0\" y=\"0\" width=\"2400\" height=\"1600\"/>\n",
       "  </clipPath>\n",
       "</defs>\n",
       "<path clip-path=\"url(#clip220)\" d=\"M0 1600 L2400 1600 L2400 0 L0 0  Z\" fill=\"#ffffff\" fill-rule=\"evenodd\" fill-opacity=\"1\"/>\n",
       "<defs>\n",
       "  <clipPath id=\"clip221\">\n",
       "    <rect x=\"480\" y=\"0\" width=\"1681\" height=\"1600\"/>\n",
       "  </clipPath>\n",
       "</defs>\n",
       "<path clip-path=\"url(#clip220)\" d=\"M185.927 1486.45 L1152.96 1486.45 L1152.96 123.472 L185.927 123.472  Z\" fill=\"#ffffff\" fill-rule=\"evenodd\" fill-opacity=\"1\"/>\n",
       "<defs>\n",
       "  <clipPath id=\"clip222\">\n",
       "    <rect x=\"185\" y=\"123\" width=\"968\" height=\"1364\"/>\n",
       "  </clipPath>\n",
       "</defs>\n",
       "<polyline clip-path=\"url(#clip222)\" style=\"stroke:#000000; stroke-linecap:round; stroke-linejoin:round; stroke-width:2; stroke-opacity:0.1; fill:none\" points=\"192.562,1486.45 192.562,123.472 \"/>\n",
       "<polyline clip-path=\"url(#clip222)\" style=\"stroke:#000000; stroke-linecap:round; stroke-linejoin:round; stroke-width:2; stroke-opacity:0.1; fill:none\" points=\"399.902,1486.45 399.902,123.472 \"/>\n",
       "<polyline clip-path=\"url(#clip222)\" style=\"stroke:#000000; stroke-linecap:round; stroke-linejoin:round; stroke-width:2; stroke-opacity:0.1; fill:none\" points=\"607.243,1486.45 607.243,123.472 \"/>\n",
       "<polyline clip-path=\"url(#clip222)\" style=\"stroke:#000000; stroke-linecap:round; stroke-linejoin:round; stroke-width:2; stroke-opacity:0.1; fill:none\" points=\"814.584,1486.45 814.584,123.472 \"/>\n",
       "<polyline clip-path=\"url(#clip222)\" style=\"stroke:#000000; stroke-linecap:round; stroke-linejoin:round; stroke-width:2; stroke-opacity:0.1; fill:none\" points=\"1021.92,1486.45 1021.92,123.472 \"/>\n",
       "<polyline clip-path=\"url(#clip220)\" style=\"stroke:#000000; stroke-linecap:round; stroke-linejoin:round; stroke-width:4; stroke-opacity:1; fill:none\" points=\"185.927,1486.45 1152.96,1486.45 \"/>\n",
       "<polyline clip-path=\"url(#clip220)\" style=\"stroke:#000000; stroke-linecap:round; stroke-linejoin:round; stroke-width:4; stroke-opacity:1; fill:none\" points=\"192.562,1486.45 192.562,1467.55 \"/>\n",
       "<polyline clip-path=\"url(#clip220)\" style=\"stroke:#000000; stroke-linecap:round; stroke-linejoin:round; stroke-width:4; stroke-opacity:1; fill:none\" points=\"399.902,1486.45 399.902,1467.55 \"/>\n",
       "<polyline clip-path=\"url(#clip220)\" style=\"stroke:#000000; stroke-linecap:round; stroke-linejoin:round; stroke-width:4; stroke-opacity:1; fill:none\" points=\"607.243,1486.45 607.243,1467.55 \"/>\n",
       "<polyline clip-path=\"url(#clip220)\" style=\"stroke:#000000; stroke-linecap:round; stroke-linejoin:round; stroke-width:4; stroke-opacity:1; fill:none\" points=\"814.584,1486.45 814.584,1467.55 \"/>\n",
       "<polyline clip-path=\"url(#clip220)\" style=\"stroke:#000000; stroke-linecap:round; stroke-linejoin:round; stroke-width:4; stroke-opacity:1; fill:none\" points=\"1021.92,1486.45 1021.92,1467.55 \"/>\n",
       "<path clip-path=\"url(#clip220)\" d=\"M192.562 1517.37 Q188.951 1517.37 187.122 1520.93 Q185.316 1524.47 185.316 1531.6 Q185.316 1538.71 187.122 1542.27 Q188.951 1545.82 192.562 1545.82 Q196.196 1545.82 198.001 1542.27 Q199.83 1538.71 199.83 1531.6 Q199.83 1524.47 198.001 1520.93 Q196.196 1517.37 192.562 1517.37 M192.562 1513.66 Q198.372 1513.66 201.427 1518.27 Q204.506 1522.85 204.506 1531.6 Q204.506 1540.33 201.427 1544.94 Q198.372 1549.52 192.562 1549.52 Q186.752 1549.52 183.673 1544.94 Q180.617 1540.33 180.617 1531.6 Q180.617 1522.85 183.673 1518.27 Q186.752 1513.66 192.562 1513.66 Z\" fill=\"#000000\" fill-rule=\"nonzero\" fill-opacity=\"1\" /><path clip-path=\"url(#clip220)\" d=\"M374.59 1544.91 L382.229 1544.91 L382.229 1518.55 L373.919 1520.21 L373.919 1515.95 L382.183 1514.29 L386.859 1514.29 L386.859 1544.91 L394.497 1544.91 L394.497 1548.85 L374.59 1548.85 L374.59 1544.91 Z\" fill=\"#000000\" fill-rule=\"nonzero\" fill-opacity=\"1\" /><path clip-path=\"url(#clip220)\" d=\"M413.942 1517.37 Q410.331 1517.37 408.502 1520.93 Q406.696 1524.47 406.696 1531.6 Q406.696 1538.71 408.502 1542.27 Q410.331 1545.82 413.942 1545.82 Q417.576 1545.82 419.382 1542.27 Q421.21 1538.71 421.21 1531.6 Q421.21 1524.47 419.382 1520.93 Q417.576 1517.37 413.942 1517.37 M413.942 1513.66 Q419.752 1513.66 422.807 1518.27 Q425.886 1522.85 425.886 1531.6 Q425.886 1540.33 422.807 1544.94 Q419.752 1549.52 413.942 1549.52 Q408.132 1549.52 405.053 1544.94 Q401.997 1540.33 401.997 1531.6 Q401.997 1522.85 405.053 1518.27 Q408.132 1513.66 413.942 1513.66 Z\" fill=\"#000000\" fill-rule=\"nonzero\" fill-opacity=\"1\" /><path clip-path=\"url(#clip220)\" d=\"M586.017 1544.91 L602.336 1544.91 L602.336 1548.85 L580.392 1548.85 L580.392 1544.91 Q583.054 1542.16 587.637 1537.53 Q592.243 1532.88 593.424 1531.53 Q595.669 1529.01 596.549 1527.27 Q597.452 1525.51 597.452 1523.82 Q597.452 1521.07 595.507 1519.33 Q593.586 1517.6 590.484 1517.6 Q588.285 1517.6 585.831 1518.36 Q583.401 1519.13 580.623 1520.68 L580.623 1515.95 Q583.447 1514.82 585.901 1514.24 Q588.354 1513.66 590.392 1513.66 Q595.762 1513.66 598.956 1516.35 Q602.151 1519.03 602.151 1523.52 Q602.151 1525.65 601.341 1527.57 Q600.553 1529.47 598.447 1532.07 Q597.868 1532.74 594.766 1535.95 Q591.665 1539.15 586.017 1544.91 Z\" fill=\"#000000\" fill-rule=\"nonzero\" fill-opacity=\"1\" /><path clip-path=\"url(#clip220)\" d=\"M622.151 1517.37 Q618.54 1517.37 616.711 1520.93 Q614.905 1524.47 614.905 1531.6 Q614.905 1538.71 616.711 1542.27 Q618.54 1545.82 622.151 1545.82 Q625.785 1545.82 627.59 1542.27 Q629.419 1538.71 629.419 1531.6 Q629.419 1524.47 627.59 1520.93 Q625.785 1517.37 622.151 1517.37 M622.151 1513.66 Q627.961 1513.66 631.016 1518.27 Q634.095 1522.85 634.095 1531.6 Q634.095 1540.33 631.016 1544.94 Q627.961 1549.52 622.151 1549.52 Q616.34 1549.52 613.262 1544.94 Q610.206 1540.33 610.206 1531.6 Q610.206 1522.85 613.262 1518.27 Q616.34 1513.66 622.151 1513.66 Z\" fill=\"#000000\" fill-rule=\"nonzero\" fill-opacity=\"1\" /><path clip-path=\"url(#clip220)\" d=\"M803.427 1530.21 Q806.783 1530.93 808.658 1533.2 Q810.556 1535.47 810.556 1538.8 Q810.556 1543.92 807.038 1546.72 Q803.519 1549.52 797.038 1549.52 Q794.862 1549.52 792.547 1549.08 Q790.255 1548.66 787.802 1547.81 L787.802 1543.29 Q789.746 1544.43 792.061 1545.01 Q794.376 1545.58 796.899 1545.58 Q801.297 1545.58 803.589 1543.85 Q805.904 1542.11 805.904 1538.8 Q805.904 1535.75 803.751 1534.03 Q801.621 1532.3 797.802 1532.3 L793.774 1532.3 L793.774 1528.45 L797.987 1528.45 Q801.436 1528.45 803.265 1527.09 Q805.093 1525.7 805.093 1523.11 Q805.093 1520.45 803.195 1519.03 Q801.32 1517.6 797.802 1517.6 Q795.88 1517.6 793.681 1518.01 Q791.482 1518.43 788.843 1519.31 L788.843 1515.14 Q791.505 1514.4 793.82 1514.03 Q796.158 1513.66 798.218 1513.66 Q803.542 1513.66 806.644 1516.09 Q809.746 1518.5 809.746 1522.62 Q809.746 1525.49 808.103 1527.48 Q806.459 1529.45 803.427 1530.21 Z\" fill=\"#000000\" fill-rule=\"nonzero\" fill-opacity=\"1\" /><path clip-path=\"url(#clip220)\" d=\"M829.422 1517.37 Q825.811 1517.37 823.982 1520.93 Q822.177 1524.47 822.177 1531.6 Q822.177 1538.71 823.982 1542.27 Q825.811 1545.82 829.422 1545.82 Q833.056 1545.82 834.862 1542.27 Q836.69 1538.71 836.69 1531.6 Q836.69 1524.47 834.862 1520.93 Q833.056 1517.37 829.422 1517.37 M829.422 1513.66 Q835.232 1513.66 838.288 1518.27 Q841.366 1522.85 841.366 1531.6 Q841.366 1540.33 838.288 1544.94 Q835.232 1549.52 829.422 1549.52 Q823.612 1549.52 820.533 1544.94 Q817.478 1540.33 817.478 1531.6 Q817.478 1522.85 820.533 1518.27 Q823.612 1513.66 829.422 1513.66 Z\" fill=\"#000000\" fill-rule=\"nonzero\" fill-opacity=\"1\" /><path clip-path=\"url(#clip220)\" d=\"M1010.1 1518.36 L998.291 1536.81 L1010.1 1536.81 L1010.1 1518.36 M1008.87 1514.29 L1014.75 1514.29 L1014.75 1536.81 L1019.68 1536.81 L1019.68 1540.7 L1014.75 1540.7 L1014.75 1548.85 L1010.1 1548.85 L1010.1 1540.7 L994.494 1540.7 L994.494 1536.19 L1008.87 1514.29 Z\" fill=\"#000000\" fill-rule=\"nonzero\" fill-opacity=\"1\" /><path clip-path=\"url(#clip220)\" d=\"M1037.41 1517.37 Q1033.8 1517.37 1031.97 1520.93 Q1030.17 1524.47 1030.17 1531.6 Q1030.17 1538.71 1031.97 1542.27 Q1033.8 1545.82 1037.41 1545.82 Q1041.05 1545.82 1042.85 1542.27 Q1044.68 1538.71 1044.68 1531.6 Q1044.68 1524.47 1042.85 1520.93 Q1041.05 1517.37 1037.41 1517.37 M1037.41 1513.66 Q1043.22 1513.66 1046.28 1518.27 Q1049.36 1522.85 1049.36 1531.6 Q1049.36 1540.33 1046.28 1544.94 Q1043.22 1549.52 1037.41 1549.52 Q1031.6 1549.52 1028.52 1544.94 Q1025.47 1540.33 1025.47 1531.6 Q1025.47 1522.85 1028.52 1518.27 Q1031.6 1513.66 1037.41 1513.66 Z\" fill=\"#000000\" fill-rule=\"nonzero\" fill-opacity=\"1\" /><polyline clip-path=\"url(#clip222)\" style=\"stroke:#000000; stroke-linecap:round; stroke-linejoin:round; stroke-width:2; stroke-opacity:0.1; fill:none\" points=\"185.927,1287.21 1152.96,1287.21 \"/>\n",
       "<polyline clip-path=\"url(#clip222)\" style=\"stroke:#000000; stroke-linecap:round; stroke-linejoin:round; stroke-width:2; stroke-opacity:0.1; fill:none\" points=\"185.927,1084.05 1152.96,1084.05 \"/>\n",
       "<polyline clip-path=\"url(#clip222)\" style=\"stroke:#000000; stroke-linecap:round; stroke-linejoin:round; stroke-width:2; stroke-opacity:0.1; fill:none\" points=\"185.927,880.887 1152.96,880.887 \"/>\n",
       "<polyline clip-path=\"url(#clip222)\" style=\"stroke:#000000; stroke-linecap:round; stroke-linejoin:round; stroke-width:2; stroke-opacity:0.1; fill:none\" points=\"185.927,677.725 1152.96,677.725 \"/>\n",
       "<polyline clip-path=\"url(#clip222)\" style=\"stroke:#000000; stroke-linecap:round; stroke-linejoin:round; stroke-width:2; stroke-opacity:0.1; fill:none\" points=\"185.927,474.563 1152.96,474.563 \"/>\n",
       "<polyline clip-path=\"url(#clip222)\" style=\"stroke:#000000; stroke-linecap:round; stroke-linejoin:round; stroke-width:2; stroke-opacity:0.1; fill:none\" points=\"185.927,271.401 1152.96,271.401 \"/>\n",
       "<polyline clip-path=\"url(#clip220)\" style=\"stroke:#000000; stroke-linecap:round; stroke-linejoin:round; stroke-width:4; stroke-opacity:1; fill:none\" points=\"185.927,1486.45 185.927,123.472 \"/>\n",
       "<polyline clip-path=\"url(#clip220)\" style=\"stroke:#000000; stroke-linecap:round; stroke-linejoin:round; stroke-width:4; stroke-opacity:1; fill:none\" points=\"185.927,1287.21 204.824,1287.21 \"/>\n",
       "<polyline clip-path=\"url(#clip220)\" style=\"stroke:#000000; stroke-linecap:round; stroke-linejoin:round; stroke-width:4; stroke-opacity:1; fill:none\" points=\"185.927,1084.05 204.824,1084.05 \"/>\n",
       "<polyline clip-path=\"url(#clip220)\" style=\"stroke:#000000; stroke-linecap:round; stroke-linejoin:round; stroke-width:4; stroke-opacity:1; fill:none\" points=\"185.927,880.887 204.824,880.887 \"/>\n",
       "<polyline clip-path=\"url(#clip220)\" style=\"stroke:#000000; stroke-linecap:round; stroke-linejoin:round; stroke-width:4; stroke-opacity:1; fill:none\" points=\"185.927,677.725 204.824,677.725 \"/>\n",
       "<polyline clip-path=\"url(#clip220)\" style=\"stroke:#000000; stroke-linecap:round; stroke-linejoin:round; stroke-width:4; stroke-opacity:1; fill:none\" points=\"185.927,474.563 204.824,474.563 \"/>\n",
       "<polyline clip-path=\"url(#clip220)\" style=\"stroke:#000000; stroke-linecap:round; stroke-linejoin:round; stroke-width:4; stroke-opacity:1; fill:none\" points=\"185.927,271.401 204.824,271.401 \"/>\n",
       "<path clip-path=\"url(#clip220)\" d=\"M63.5847 1273.01 Q59.9736 1273.01 58.1449 1276.57 Q56.3393 1280.12 56.3393 1287.25 Q56.3393 1294.35 58.1449 1297.92 Q59.9736 1301.46 63.5847 1301.46 Q67.2189 1301.46 69.0244 1297.92 Q70.8531 1294.35 70.8531 1287.25 Q70.8531 1280.12 69.0244 1276.57 Q67.2189 1273.01 63.5847 1273.01 M63.5847 1269.31 Q69.3948 1269.31 72.4503 1273.91 Q75.529 1278.5 75.529 1287.25 Q75.529 1295.97 72.4503 1300.58 Q69.3948 1305.16 63.5847 1305.16 Q57.7745 1305.16 54.6958 1300.58 Q51.6403 1295.97 51.6403 1287.25 Q51.6403 1278.5 54.6958 1273.91 Q57.7745 1269.31 63.5847 1269.31 Z\" fill=\"#000000\" fill-rule=\"nonzero\" fill-opacity=\"1\" /><path clip-path=\"url(#clip220)\" d=\"M83.7466 1298.61 L88.6308 1298.61 L88.6308 1304.49 L83.7466 1304.49 L83.7466 1298.61 Z\" fill=\"#000000\" fill-rule=\"nonzero\" fill-opacity=\"1\" /><path clip-path=\"url(#clip220)\" d=\"M97.6354 1269.93 L119.857 1269.93 L119.857 1271.92 L107.311 1304.49 L102.427 1304.49 L114.233 1273.87 L97.6354 1273.87 L97.6354 1269.93 Z\" fill=\"#000000\" fill-rule=\"nonzero\" fill-opacity=\"1\" /><path clip-path=\"url(#clip220)\" d=\"M129.024 1269.93 L147.38 1269.93 L147.38 1273.87 L133.306 1273.87 L133.306 1282.34 Q134.325 1281.99 135.344 1281.83 Q136.362 1281.64 137.381 1281.64 Q143.168 1281.64 146.547 1284.82 Q149.927 1287.99 149.927 1293.4 Q149.927 1298.98 146.455 1302.08 Q142.982 1305.16 136.663 1305.16 Q134.487 1305.16 132.219 1304.79 Q129.973 1304.42 127.566 1303.68 L127.566 1298.98 Q129.649 1300.12 131.871 1300.67 Q134.094 1301.23 136.57 1301.23 Q140.575 1301.23 142.913 1299.12 Q145.251 1297.01 145.251 1293.4 Q145.251 1289.79 142.913 1287.69 Q140.575 1285.58 136.57 1285.58 Q134.695 1285.58 132.82 1286 Q130.969 1286.41 129.024 1287.29 L129.024 1269.93 Z\" fill=\"#000000\" fill-rule=\"nonzero\" fill-opacity=\"1\" /><path clip-path=\"url(#clip220)\" d=\"M53.3995 1097.39 L61.0384 1097.39 L61.0384 1071.03 L52.7282 1072.69 L52.7282 1068.44 L60.9921 1066.77 L65.668 1066.77 L65.668 1097.39 L73.3068 1097.39 L73.3068 1101.33 L53.3995 1101.33 L53.3995 1097.39 Z\" fill=\"#000000\" fill-rule=\"nonzero\" fill-opacity=\"1\" /><path clip-path=\"url(#clip220)\" d=\"M82.7512 1095.45 L87.6354 1095.45 L87.6354 1101.33 L82.7512 1101.33 L82.7512 1095.45 Z\" fill=\"#000000\" fill-rule=\"nonzero\" fill-opacity=\"1\" /><path clip-path=\"url(#clip220)\" d=\"M107.821 1069.85 Q104.209 1069.85 102.381 1073.41 Q100.575 1076.95 100.575 1084.08 Q100.575 1091.19 102.381 1094.75 Q104.209 1098.3 107.821 1098.3 Q111.455 1098.3 113.26 1094.75 Q115.089 1091.19 115.089 1084.08 Q115.089 1076.95 113.26 1073.41 Q111.455 1069.85 107.821 1069.85 M107.821 1066.14 Q113.631 1066.14 116.686 1070.75 Q119.765 1075.33 119.765 1084.08 Q119.765 1092.81 116.686 1097.42 Q113.631 1102 107.821 1102 Q102.01 1102 98.9317 1097.42 Q95.8761 1092.81 95.8761 1084.08 Q95.8761 1075.33 98.9317 1070.75 Q102.01 1066.14 107.821 1066.14 Z\" fill=\"#000000\" fill-rule=\"nonzero\" fill-opacity=\"1\" /><path clip-path=\"url(#clip220)\" d=\"M137.982 1069.85 Q134.371 1069.85 132.543 1073.41 Q130.737 1076.95 130.737 1084.08 Q130.737 1091.19 132.543 1094.75 Q134.371 1098.3 137.982 1098.3 Q141.617 1098.3 143.422 1094.75 Q145.251 1091.19 145.251 1084.08 Q145.251 1076.95 143.422 1073.41 Q141.617 1069.85 137.982 1069.85 M137.982 1066.14 Q143.793 1066.14 146.848 1070.75 Q149.927 1075.33 149.927 1084.08 Q149.927 1092.81 146.848 1097.42 Q143.793 1102 137.982 1102 Q132.172 1102 129.094 1097.42 Q126.038 1092.81 126.038 1084.08 Q126.038 1075.33 129.094 1070.75 Q132.172 1066.14 137.982 1066.14 Z\" fill=\"#000000\" fill-rule=\"nonzero\" fill-opacity=\"1\" /><path clip-path=\"url(#clip220)\" d=\"M54.3949 894.232 L62.0337 894.232 L62.0337 867.866 L53.7236 869.533 L53.7236 865.274 L61.9874 863.607 L66.6633 863.607 L66.6633 894.232 L74.3022 894.232 L74.3022 898.167 L54.3949 898.167 L54.3949 894.232 Z\" fill=\"#000000\" fill-rule=\"nonzero\" fill-opacity=\"1\" /><path clip-path=\"url(#clip220)\" d=\"M83.7466 892.287 L88.6308 892.287 L88.6308 898.167 L83.7466 898.167 L83.7466 892.287 Z\" fill=\"#000000\" fill-rule=\"nonzero\" fill-opacity=\"1\" /><path clip-path=\"url(#clip220)\" d=\"M102.844 894.232 L119.163 894.232 L119.163 898.167 L97.2187 898.167 L97.2187 894.232 Q99.8808 891.477 104.464 886.848 Q109.071 882.195 110.251 880.852 Q112.496 878.329 113.376 876.593 Q114.279 874.834 114.279 873.144 Q114.279 870.389 112.334 868.653 Q110.413 866.917 107.311 866.917 Q105.112 866.917 102.659 867.681 Q100.228 868.445 97.4502 869.996 L97.4502 865.274 Q100.274 864.139 102.728 863.561 Q105.182 862.982 107.219 862.982 Q112.589 862.982 115.783 865.667 Q118.978 868.352 118.978 872.843 Q118.978 874.973 118.168 876.894 Q117.381 878.792 115.274 881.385 Q114.695 882.056 111.594 885.274 Q108.492 888.468 102.844 894.232 Z\" fill=\"#000000\" fill-rule=\"nonzero\" fill-opacity=\"1\" /><path clip-path=\"url(#clip220)\" d=\"M129.024 863.607 L147.38 863.607 L147.38 867.542 L133.306 867.542 L133.306 876.014 Q134.325 875.667 135.344 875.505 Q136.362 875.32 137.381 875.32 Q143.168 875.32 146.547 878.491 Q149.927 881.662 149.927 887.079 Q149.927 892.658 146.455 895.76 Q142.982 898.838 136.663 898.838 Q134.487 898.838 132.219 898.468 Q129.973 898.098 127.566 897.357 L127.566 892.658 Q129.649 893.792 131.871 894.348 Q134.094 894.903 136.57 894.903 Q140.575 894.903 142.913 892.797 Q145.251 890.69 145.251 887.079 Q145.251 883.468 142.913 881.362 Q140.575 879.255 136.57 879.255 Q134.695 879.255 132.82 879.672 Q130.969 880.088 129.024 880.968 L129.024 863.607 Z\" fill=\"#000000\" fill-rule=\"nonzero\" fill-opacity=\"1\" /><path clip-path=\"url(#clip220)\" d=\"M53.3995 691.07 L61.0384 691.07 L61.0384 664.704 L52.7282 666.371 L52.7282 662.112 L60.9921 660.445 L65.668 660.445 L65.668 691.07 L73.3068 691.07 L73.3068 695.005 L53.3995 695.005 L53.3995 691.07 Z\" fill=\"#000000\" fill-rule=\"nonzero\" fill-opacity=\"1\" /><path clip-path=\"url(#clip220)\" d=\"M82.7512 689.125 L87.6354 689.125 L87.6354 695.005 L82.7512 695.005 L82.7512 689.125 Z\" fill=\"#000000\" fill-rule=\"nonzero\" fill-opacity=\"1\" /><path clip-path=\"url(#clip220)\" d=\"M97.8669 660.445 L116.223 660.445 L116.223 664.38 L102.149 664.38 L102.149 672.852 Q103.168 672.505 104.186 672.343 Q105.205 672.158 106.223 672.158 Q112.01 672.158 115.39 675.329 Q118.77 678.501 118.77 683.917 Q118.77 689.496 115.297 692.598 Q111.825 695.676 105.506 695.676 Q103.33 695.676 101.061 695.306 Q98.8159 694.936 96.4085 694.195 L96.4085 689.496 Q98.4919 690.63 100.714 691.186 Q102.936 691.741 105.413 691.741 Q109.418 691.741 111.756 689.635 Q114.094 687.528 114.094 683.917 Q114.094 680.306 111.756 678.2 Q109.418 676.093 105.413 676.093 Q103.538 676.093 101.663 676.51 Q99.8113 676.926 97.8669 677.806 L97.8669 660.445 Z\" fill=\"#000000\" fill-rule=\"nonzero\" fill-opacity=\"1\" /><path clip-path=\"url(#clip220)\" d=\"M137.982 663.524 Q134.371 663.524 132.543 667.089 Q130.737 670.63 130.737 677.76 Q130.737 684.866 132.543 688.431 Q134.371 691.973 137.982 691.973 Q141.617 691.973 143.422 688.431 Q145.251 684.866 145.251 677.76 Q145.251 670.63 143.422 667.089 Q141.617 663.524 137.982 663.524 M137.982 659.82 Q143.793 659.82 146.848 664.427 Q149.927 669.01 149.927 677.76 Q149.927 686.487 146.848 691.093 Q143.793 695.676 137.982 695.676 Q132.172 695.676 129.094 691.093 Q126.038 686.487 126.038 677.76 Q126.038 669.01 129.094 664.427 Q132.172 659.82 137.982 659.82 Z\" fill=\"#000000\" fill-rule=\"nonzero\" fill-opacity=\"1\" /><path clip-path=\"url(#clip220)\" d=\"M54.3949 487.908 L62.0337 487.908 L62.0337 461.542 L53.7236 463.209 L53.7236 458.95 L61.9874 457.283 L66.6633 457.283 L66.6633 487.908 L74.3022 487.908 L74.3022 491.843 L54.3949 491.843 L54.3949 487.908 Z\" fill=\"#000000\" fill-rule=\"nonzero\" fill-opacity=\"1\" /><path clip-path=\"url(#clip220)\" d=\"M83.7466 485.964 L88.6308 485.964 L88.6308 491.843 L83.7466 491.843 L83.7466 485.964 Z\" fill=\"#000000\" fill-rule=\"nonzero\" fill-opacity=\"1\" /><path clip-path=\"url(#clip220)\" d=\"M97.6354 457.283 L119.857 457.283 L119.857 459.274 L107.311 491.843 L102.427 491.843 L114.233 461.218 L97.6354 461.218 L97.6354 457.283 Z\" fill=\"#000000\" fill-rule=\"nonzero\" fill-opacity=\"1\" /><path clip-path=\"url(#clip220)\" d=\"M129.024 457.283 L147.38 457.283 L147.38 461.218 L133.306 461.218 L133.306 469.69 Q134.325 469.343 135.344 469.181 Q136.362 468.996 137.381 468.996 Q143.168 468.996 146.547 472.167 Q149.927 475.339 149.927 480.755 Q149.927 486.334 146.455 489.436 Q142.982 492.514 136.663 492.514 Q134.487 492.514 132.219 492.144 Q129.973 491.774 127.566 491.033 L127.566 486.334 Q129.649 487.468 131.871 488.024 Q134.094 488.579 136.57 488.579 Q140.575 488.579 142.913 486.473 Q145.251 484.366 145.251 480.755 Q145.251 477.144 142.913 475.038 Q140.575 472.931 136.57 472.931 Q134.695 472.931 132.82 473.348 Q130.969 473.764 129.024 474.644 L129.024 457.283 Z\" fill=\"#000000\" fill-rule=\"nonzero\" fill-opacity=\"1\" /><path clip-path=\"url(#clip220)\" d=\"M56.6171 284.746 L72.9365 284.746 L72.9365 288.681 L50.9921 288.681 L50.9921 284.746 Q53.6541 281.991 58.2375 277.362 Q62.8439 272.709 64.0245 271.366 Q66.2698 268.843 67.1494 267.107 Q68.0522 265.348 68.0522 263.658 Q68.0522 260.904 66.1078 259.167 Q64.1865 257.431 61.0847 257.431 Q58.8856 257.431 56.4319 258.195 Q54.0014 258.959 51.2236 260.51 L51.2236 255.788 Q54.0477 254.654 56.5014 254.075 Q58.955 253.496 60.9921 253.496 Q66.3624 253.496 69.5568 256.181 Q72.7513 258.866 72.7513 263.357 Q72.7513 265.487 71.9411 267.408 Q71.1541 269.306 69.0476 271.899 Q68.4689 272.57 65.367 275.788 Q62.2652 278.982 56.6171 284.746 Z\" fill=\"#000000\" fill-rule=\"nonzero\" fill-opacity=\"1\" /><path clip-path=\"url(#clip220)\" d=\"M82.7512 282.802 L87.6354 282.802 L87.6354 288.681 L82.7512 288.681 L82.7512 282.802 Z\" fill=\"#000000\" fill-rule=\"nonzero\" fill-opacity=\"1\" /><path clip-path=\"url(#clip220)\" d=\"M107.821 257.2 Q104.209 257.2 102.381 260.765 Q100.575 264.306 100.575 271.436 Q100.575 278.542 102.381 282.107 Q104.209 285.649 107.821 285.649 Q111.455 285.649 113.26 282.107 Q115.089 278.542 115.089 271.436 Q115.089 264.306 113.26 260.765 Q111.455 257.2 107.821 257.2 M107.821 253.496 Q113.631 253.496 116.686 258.103 Q119.765 262.686 119.765 271.436 Q119.765 280.163 116.686 284.769 Q113.631 289.352 107.821 289.352 Q102.01 289.352 98.9317 284.769 Q95.8761 280.163 95.8761 271.436 Q95.8761 262.686 98.9317 258.103 Q102.01 253.496 107.821 253.496 Z\" fill=\"#000000\" fill-rule=\"nonzero\" fill-opacity=\"1\" /><path clip-path=\"url(#clip220)\" d=\"M137.982 257.2 Q134.371 257.2 132.543 260.765 Q130.737 264.306 130.737 271.436 Q130.737 278.542 132.543 282.107 Q134.371 285.649 137.982 285.649 Q141.617 285.649 143.422 282.107 Q145.251 278.542 145.251 271.436 Q145.251 264.306 143.422 260.765 Q141.617 257.2 137.982 257.2 M137.982 253.496 Q143.793 253.496 146.848 258.103 Q149.927 262.686 149.927 271.436 Q149.927 280.163 146.848 284.769 Q143.793 289.352 137.982 289.352 Q132.172 289.352 129.094 284.769 Q126.038 280.163 126.038 271.436 Q126.038 262.686 129.094 258.103 Q132.172 253.496 137.982 253.496 Z\" fill=\"#000000\" fill-rule=\"nonzero\" fill-opacity=\"1\" /><path clip-path=\"url(#clip220)\" d=\"M495.682 14.324 L495.682 27.2059 L511.035 27.2059 L511.035 32.9987 L495.682 32.9987 L495.682 57.6282 Q495.682 63.1779 497.181 64.7578 Q498.72 66.3376 503.379 66.3376 L511.035 66.3376 L511.035 72.576 L503.379 72.576 Q494.75 72.576 491.469 69.3758 Q488.188 66.1351 488.188 57.6282 L488.188 32.9987 L482.719 32.9987 L482.719 27.2059 L488.188 27.2059 L488.188 14.324 L495.682 14.324 Z\" fill=\"#000000\" fill-rule=\"nonzero\" fill-opacity=\"1\" /><path clip-path=\"url(#clip220)\" d=\"M547.128 34.1734 Q545.873 33.4443 544.374 33.1202 Q542.916 32.7556 541.133 32.7556 Q534.814 32.7556 531.411 36.8875 Q528.049 40.9789 528.049 48.6757 L528.049 72.576 L520.555 72.576 L520.555 27.2059 L528.049 27.2059 L528.049 34.2544 Q530.398 30.1225 534.166 28.1376 Q537.933 26.1121 543.321 26.1121 Q544.09 26.1121 545.022 26.2337 Q545.954 26.3147 547.088 26.5172 L547.128 34.1734 Z\" fill=\"#000000\" fill-rule=\"nonzero\" fill-opacity=\"1\" /><path clip-path=\"url(#clip220)\" d=\"M575.566 49.7694 Q566.532 49.7694 563.049 51.8354 Q559.565 53.9013 559.565 58.8839 Q559.565 62.8538 562.157 65.2034 Q564.79 67.5124 569.287 67.5124 Q575.485 67.5124 579.212 63.1374 Q582.979 58.7219 582.979 51.4303 L582.979 49.7694 L575.566 49.7694 M590.433 46.6907 L590.433 72.576 L582.979 72.576 L582.979 65.6895 Q580.427 69.8214 576.619 71.8063 Q572.811 73.7508 567.302 73.7508 Q560.334 73.7508 556.202 69.8619 Q552.111 65.9325 552.111 59.3701 Q552.111 51.7138 557.215 47.825 Q562.36 43.9361 572.528 43.9361 L582.979 43.9361 L582.979 43.2069 Q582.979 38.0623 579.576 35.2672 Q576.214 32.4315 570.097 32.4315 Q566.208 32.4315 562.522 33.3632 Q558.836 34.295 555.433 36.1584 L555.433 29.2718 Q559.524 27.692 563.373 26.9223 Q567.221 26.1121 570.867 26.1121 Q580.71 26.1121 585.572 31.2163 Q590.433 36.3204 590.433 46.6907 Z\" fill=\"#000000\" fill-rule=\"nonzero\" fill-opacity=\"1\" /><path clip-path=\"url(#clip220)\" d=\"M605.786 27.2059 L613.239 27.2059 L613.239 72.576 L605.786 72.576 L605.786 27.2059 M605.786 9.54393 L613.239 9.54393 L613.239 18.9825 L605.786 18.9825 L605.786 9.54393 Z\" fill=\"#000000\" fill-rule=\"nonzero\" fill-opacity=\"1\" /><path clip-path=\"url(#clip220)\" d=\"M666.549 45.1919 L666.549 72.576 L659.095 72.576 L659.095 45.4349 Q659.095 38.994 656.584 35.7938 Q654.072 32.5936 649.049 32.5936 Q643.013 32.5936 639.53 36.4419 Q636.046 40.2903 636.046 46.9338 L636.046 72.576 L628.552 72.576 L628.552 27.2059 L636.046 27.2059 L636.046 34.2544 Q638.719 30.163 642.325 28.1376 Q645.971 26.1121 650.71 26.1121 Q658.528 26.1121 662.539 30.9732 Q666.549 35.7938 666.549 45.1919 Z\" fill=\"#000000\" fill-rule=\"nonzero\" fill-opacity=\"1\" /><path clip-path=\"url(#clip220)\" d=\"M707.787 9.54393 L715.241 9.54393 L715.241 72.576 L707.787 72.576 L707.787 9.54393 Z\" fill=\"#000000\" fill-rule=\"nonzero\" fill-opacity=\"1\" /><path clip-path=\"url(#clip220)\" d=\"M748.418 32.4315 Q742.423 32.4315 738.939 37.1306 Q735.455 41.7891 735.455 49.9314 Q735.455 58.0738 738.898 62.7728 Q742.382 67.4314 748.418 67.4314 Q754.373 67.4314 757.856 62.7323 Q761.34 58.0333 761.34 49.9314 Q761.34 41.8701 757.856 37.1711 Q754.373 32.4315 748.418 32.4315 M748.418 26.1121 Q758.14 26.1121 763.69 32.4315 Q769.24 38.7509 769.24 49.9314 Q769.24 61.0714 763.69 67.4314 Q758.14 73.7508 748.418 73.7508 Q738.655 73.7508 733.105 67.4314 Q727.596 61.0714 727.596 49.9314 Q727.596 38.7509 733.105 32.4315 Q738.655 26.1121 748.418 26.1121 Z\" fill=\"#000000\" fill-rule=\"nonzero\" fill-opacity=\"1\" /><path clip-path=\"url(#clip220)\" d=\"M810.518 28.5427 L810.518 35.5912 Q807.359 33.9709 803.956 33.1607 Q800.553 32.3505 796.907 32.3505 Q791.357 32.3505 788.562 34.0519 Q785.808 35.7533 785.808 39.156 Q785.808 41.7486 787.793 43.2475 Q789.778 44.7058 795.773 46.0426 L798.325 46.6097 Q806.265 48.3111 809.587 51.4303 Q812.949 54.509 812.949 60.0587 Q812.949 66.3781 807.926 70.0644 Q802.943 73.7508 794.193 73.7508 Q790.547 73.7508 786.577 73.0216 Q782.648 72.3329 778.273 70.9151 L778.273 63.2184 Q782.405 65.3654 786.415 66.4591 Q790.426 67.5124 794.355 67.5124 Q799.621 67.5124 802.457 65.73 Q805.293 63.9071 805.293 60.6258 Q805.293 57.5877 803.227 55.9673 Q801.201 54.3469 794.274 52.8481 L791.682 52.2405 Q784.754 50.7821 781.676 47.7845 Q778.597 44.7463 778.597 39.4801 Q778.597 33.0797 783.134 29.5959 Q787.671 26.1121 796.016 26.1121 Q800.148 26.1121 803.794 26.7198 Q807.44 27.3274 810.518 28.5427 Z\" fill=\"#000000\" fill-rule=\"nonzero\" fill-opacity=\"1\" /><path clip-path=\"url(#clip220)\" d=\"M853.741 28.5427 L853.741 35.5912 Q850.582 33.9709 847.179 33.1607 Q843.776 32.3505 840.13 32.3505 Q834.581 32.3505 831.785 34.0519 Q829.031 35.7533 829.031 39.156 Q829.031 41.7486 831.016 43.2475 Q833.001 44.7058 838.996 46.0426 L841.548 46.6097 Q849.488 48.3111 852.81 51.4303 Q856.172 54.509 856.172 60.0587 Q856.172 66.3781 851.149 70.0644 Q846.166 73.7508 837.416 73.7508 Q833.77 73.7508 829.801 73.0216 Q825.871 72.3329 821.496 70.9151 L821.496 63.2184 Q825.628 65.3654 829.639 66.4591 Q833.649 67.5124 837.578 67.5124 Q842.844 67.5124 845.68 65.73 Q848.516 63.9071 848.516 60.6258 Q848.516 57.5877 846.45 55.9673 Q844.424 54.3469 837.497 52.8481 L834.905 52.2405 Q827.978 50.7821 824.899 47.7845 Q821.82 44.7463 821.82 39.4801 Q821.82 33.0797 826.357 29.5959 Q830.894 26.1121 839.239 26.1121 Q843.371 26.1121 847.017 26.7198 Q850.663 27.3274 853.741 28.5427 Z\" fill=\"#000000\" fill-rule=\"nonzero\" fill-opacity=\"1\" /><polyline clip-path=\"url(#clip222)\" style=\"stroke:#009af9; stroke-linecap:round; stroke-linejoin:round; stroke-width:4; stroke-opacity:1; fill:none\" points=\"213.296,162.047 234.03,284.082 254.764,440.486 275.498,457.329 296.232,589.817 316.966,654.685 337.7,695.111 358.434,708.719 379.168,864.852 399.902,941.097 420.637,934.681 441.371,1070.8 462.105,917.818 482.839,1120.35 503.573,1077.98 524.307,1034.4 545.041,1005.72 565.775,1161 586.509,1166.42 607.243,1111.16 627.977,1283.41 648.711,1059.1 669.446,1302.65 690.18,1226.83 710.914,1150.19 731.648,1120.73 752.382,1278.48 773.116,1253.42 793.85,1180.79 814.584,1378.07 835.318,1123.11 856.052,1391.75 876.786,1302.69 897.52,1208.19 918.254,1186.71 938.989,1342.47 959.723,1303.26 980.457,1224.34 1001.19,1433.39 1021.92,1163.25 1042.66,1447.87 1063.39,1351.01 1084.13,1244.9 1104.86,1233.04 1125.6,1385.37 \"/>\n",
       "<path clip-path=\"url(#clip220)\" d=\"M971.596 272.585 L1120.73 272.585 L1120.73 168.905 L971.596 168.905  Z\" fill=\"#ffffff\" fill-rule=\"evenodd\" fill-opacity=\"1\"/>\n",
       "<polyline clip-path=\"url(#clip220)\" style=\"stroke:#000000; stroke-linecap:round; stroke-linejoin:round; stroke-width:4; stroke-opacity:1; fill:none\" points=\"971.596,272.585 1120.73,272.585 1120.73,168.905 971.596,168.905 971.596,272.585 \"/>\n",
       "<polyline clip-path=\"url(#clip220)\" style=\"stroke:#009af9; stroke-linecap:round; stroke-linejoin:round; stroke-width:4; stroke-opacity:1; fill:none\" points=\"982.34,220.745 1046.81,220.745 \"/>\n",
       "<path clip-path=\"url(#clip220)\" d=\"M1071.4 240.432 Q1069.59 245.062 1067.88 246.474 Q1066.17 247.886 1063.3 247.886 L1059.89 247.886 L1059.89 244.321 L1062.39 244.321 Q1064.15 244.321 1065.12 243.488 Q1066.1 242.654 1067.28 239.552 L1068.04 237.608 L1057.55 212.099 L1062.07 212.099 L1070.17 232.377 L1078.27 212.099 L1082.79 212.099 L1071.4 240.432 Z\" fill=\"#000000\" fill-rule=\"nonzero\" fill-opacity=\"1\" /><path clip-path=\"url(#clip220)\" d=\"M1090.08 234.089 L1097.72 234.089 L1097.72 207.724 L1089.41 209.391 L1089.41 205.131 L1097.67 203.465 L1102.35 203.465 L1102.35 234.089 L1109.98 234.089 L1109.98 238.025 L1090.08 238.025 L1090.08 234.089 Z\" fill=\"#000000\" fill-rule=\"nonzero\" fill-opacity=\"1\" /><path clip-path=\"url(#clip220)\" d=\"M1385.72 1486.45 L2352.76 1486.45 L2352.76 123.472 L1385.72 123.472  Z\" fill=\"#ffffff\" fill-rule=\"evenodd\" fill-opacity=\"1\"/>\n",
       "<defs>\n",
       "  <clipPath id=\"clip223\">\n",
       "    <rect x=\"1385\" y=\"123\" width=\"968\" height=\"1364\"/>\n",
       "  </clipPath>\n",
       "</defs>\n",
       "<polyline clip-path=\"url(#clip223)\" style=\"stroke:#000000; stroke-linecap:round; stroke-linejoin:round; stroke-width:2; stroke-opacity:0.1; fill:none\" points=\"1413.09,1486.45 1413.09,123.472 \"/>\n",
       "<polyline clip-path=\"url(#clip223)\" style=\"stroke:#000000; stroke-linecap:round; stroke-linejoin:round; stroke-width:2; stroke-opacity:0.1; fill:none\" points=\"1641.16,1486.45 1641.16,123.472 \"/>\n",
       "<polyline clip-path=\"url(#clip223)\" style=\"stroke:#000000; stroke-linecap:round; stroke-linejoin:round; stroke-width:2; stroke-opacity:0.1; fill:none\" points=\"1869.24,1486.45 1869.24,123.472 \"/>\n",
       "<polyline clip-path=\"url(#clip223)\" style=\"stroke:#000000; stroke-linecap:round; stroke-linejoin:round; stroke-width:2; stroke-opacity:0.1; fill:none\" points=\"2097.31,1486.45 2097.31,123.472 \"/>\n",
       "<polyline clip-path=\"url(#clip223)\" style=\"stroke:#000000; stroke-linecap:round; stroke-linejoin:round; stroke-width:2; stroke-opacity:0.1; fill:none\" points=\"2325.39,1486.45 2325.39,123.472 \"/>\n",
       "<polyline clip-path=\"url(#clip220)\" style=\"stroke:#000000; stroke-linecap:round; stroke-linejoin:round; stroke-width:4; stroke-opacity:1; fill:none\" points=\"1385.72,1486.45 2352.76,1486.45 \"/>\n",
       "<polyline clip-path=\"url(#clip220)\" style=\"stroke:#000000; stroke-linecap:round; stroke-linejoin:round; stroke-width:4; stroke-opacity:1; fill:none\" points=\"1413.09,1486.45 1413.09,1467.55 \"/>\n",
       "<polyline clip-path=\"url(#clip220)\" style=\"stroke:#000000; stroke-linecap:round; stroke-linejoin:round; stroke-width:4; stroke-opacity:1; fill:none\" points=\"1641.16,1486.45 1641.16,1467.55 \"/>\n",
       "<polyline clip-path=\"url(#clip220)\" style=\"stroke:#000000; stroke-linecap:round; stroke-linejoin:round; stroke-width:4; stroke-opacity:1; fill:none\" points=\"1869.24,1486.45 1869.24,1467.55 \"/>\n",
       "<polyline clip-path=\"url(#clip220)\" style=\"stroke:#000000; stroke-linecap:round; stroke-linejoin:round; stroke-width:4; stroke-opacity:1; fill:none\" points=\"2097.31,1486.45 2097.31,1467.55 \"/>\n",
       "<polyline clip-path=\"url(#clip220)\" style=\"stroke:#000000; stroke-linecap:round; stroke-linejoin:round; stroke-width:4; stroke-opacity:1; fill:none\" points=\"2325.39,1486.45 2325.39,1467.55 \"/>\n",
       "<path clip-path=\"url(#clip220)\" d=\"M1403.47 1544.91 L1411.11 1544.91 L1411.11 1518.55 L1402.8 1520.21 L1402.8 1515.95 L1411.06 1514.29 L1415.74 1514.29 L1415.74 1544.91 L1423.38 1544.91 L1423.38 1548.85 L1403.47 1548.85 L1403.47 1544.91 Z\" fill=\"#000000\" fill-rule=\"nonzero\" fill-opacity=\"1\" /><path clip-path=\"url(#clip220)\" d=\"M1635.82 1544.91 L1652.13 1544.91 L1652.13 1548.85 L1630.19 1548.85 L1630.19 1544.91 Q1632.85 1542.16 1637.44 1537.53 Q1642.04 1532.88 1643.22 1531.53 Q1645.47 1529.01 1646.35 1527.27 Q1647.25 1525.51 1647.25 1523.82 Q1647.25 1521.07 1645.31 1519.33 Q1643.38 1517.6 1640.28 1517.6 Q1638.08 1517.6 1635.63 1518.36 Q1633.2 1519.13 1630.42 1520.68 L1630.42 1515.95 Q1633.25 1514.82 1635.7 1514.24 Q1638.15 1513.66 1640.19 1513.66 Q1645.56 1513.66 1648.75 1516.35 Q1651.95 1519.03 1651.95 1523.52 Q1651.95 1525.65 1651.14 1527.57 Q1650.35 1529.47 1648.25 1532.07 Q1647.67 1532.74 1644.57 1535.95 Q1641.46 1539.15 1635.82 1544.91 Z\" fill=\"#000000\" fill-rule=\"nonzero\" fill-opacity=\"1\" /><path clip-path=\"url(#clip220)\" d=\"M1873.48 1530.21 Q1876.84 1530.93 1878.72 1533.2 Q1880.61 1535.47 1880.61 1538.8 Q1880.61 1543.92 1877.1 1546.72 Q1873.58 1549.52 1867.1 1549.52 Q1864.92 1549.52 1862.61 1549.08 Q1860.31 1548.66 1857.86 1547.81 L1857.86 1543.29 Q1859.8 1544.43 1862.12 1545.01 Q1864.43 1545.58 1866.96 1545.58 Q1871.36 1545.58 1873.65 1543.85 Q1875.96 1542.11 1875.96 1538.8 Q1875.96 1535.75 1873.81 1534.03 Q1871.68 1532.3 1867.86 1532.3 L1863.83 1532.3 L1863.83 1528.45 L1868.05 1528.45 Q1871.49 1528.45 1873.32 1527.09 Q1875.15 1525.7 1875.15 1523.11 Q1875.15 1520.45 1873.25 1519.03 Q1871.38 1517.6 1867.86 1517.6 Q1865.94 1517.6 1863.74 1518.01 Q1861.54 1518.43 1858.9 1519.31 L1858.9 1515.14 Q1861.56 1514.4 1863.88 1514.03 Q1866.22 1513.66 1868.28 1513.66 Q1873.6 1513.66 1876.7 1516.09 Q1879.8 1518.5 1879.8 1522.62 Q1879.8 1525.49 1878.16 1527.48 Q1876.52 1529.45 1873.48 1530.21 Z\" fill=\"#000000\" fill-rule=\"nonzero\" fill-opacity=\"1\" /><path clip-path=\"url(#clip220)\" d=\"M2100.32 1518.36 L2088.52 1536.81 L2100.32 1536.81 L2100.32 1518.36 M2099.09 1514.29 L2104.97 1514.29 L2104.97 1536.81 L2109.9 1536.81 L2109.9 1540.7 L2104.97 1540.7 L2104.97 1548.85 L2100.32 1548.85 L2100.32 1540.7 L2084.72 1540.7 L2084.72 1536.19 L2099.09 1514.29 Z\" fill=\"#000000\" fill-rule=\"nonzero\" fill-opacity=\"1\" /><path clip-path=\"url(#clip220)\" d=\"M2315.66 1514.29 L2334.02 1514.29 L2334.02 1518.22 L2319.95 1518.22 L2319.95 1526.7 Q2320.97 1526.35 2321.98 1526.19 Q2323 1526 2324.02 1526 Q2329.81 1526 2333.19 1529.17 Q2336.57 1532.34 2336.57 1537.76 Q2336.57 1543.34 2333.1 1546.44 Q2329.62 1549.52 2323.3 1549.52 Q2321.13 1549.52 2318.86 1549.15 Q2316.61 1548.78 2314.21 1548.04 L2314.21 1543.34 Q2316.29 1544.47 2318.51 1545.03 Q2320.73 1545.58 2323.21 1545.58 Q2327.22 1545.58 2329.55 1543.48 Q2331.89 1541.37 2331.89 1537.76 Q2331.89 1534.15 2329.55 1532.04 Q2327.22 1529.94 2323.21 1529.94 Q2321.34 1529.94 2319.46 1530.35 Q2317.61 1530.77 2315.66 1531.65 L2315.66 1514.29 Z\" fill=\"#000000\" fill-rule=\"nonzero\" fill-opacity=\"1\" /><polyline clip-path=\"url(#clip223)\" style=\"stroke:#000000; stroke-linecap:round; stroke-linejoin:round; stroke-width:2; stroke-opacity:0.1; fill:none\" points=\"1385.72,1272.12 2352.76,1272.12 \"/>\n",
       "<polyline clip-path=\"url(#clip223)\" style=\"stroke:#000000; stroke-linecap:round; stroke-linejoin:round; stroke-width:2; stroke-opacity:0.1; fill:none\" points=\"1385.72,988.649 2352.76,988.649 \"/>\n",
       "<polyline clip-path=\"url(#clip223)\" style=\"stroke:#000000; stroke-linecap:round; stroke-linejoin:round; stroke-width:2; stroke-opacity:0.1; fill:none\" points=\"1385.72,705.178 2352.76,705.178 \"/>\n",
       "<polyline clip-path=\"url(#clip223)\" style=\"stroke:#000000; stroke-linecap:round; stroke-linejoin:round; stroke-width:2; stroke-opacity:0.1; fill:none\" points=\"1385.72,421.707 2352.76,421.707 \"/>\n",
       "<polyline clip-path=\"url(#clip223)\" style=\"stroke:#000000; stroke-linecap:round; stroke-linejoin:round; stroke-width:2; stroke-opacity:0.1; fill:none\" points=\"1385.72,138.235 2352.76,138.235 \"/>\n",
       "<polyline clip-path=\"url(#clip220)\" style=\"stroke:#000000; stroke-linecap:round; stroke-linejoin:round; stroke-width:4; stroke-opacity:1; fill:none\" points=\"1385.72,1486.45 1385.72,123.472 \"/>\n",
       "<polyline clip-path=\"url(#clip220)\" style=\"stroke:#000000; stroke-linecap:round; stroke-linejoin:round; stroke-width:4; stroke-opacity:1; fill:none\" points=\"1385.72,1272.12 1404.62,1272.12 \"/>\n",
       "<polyline clip-path=\"url(#clip220)\" style=\"stroke:#000000; stroke-linecap:round; stroke-linejoin:round; stroke-width:4; stroke-opacity:1; fill:none\" points=\"1385.72,988.649 1404.62,988.649 \"/>\n",
       "<polyline clip-path=\"url(#clip220)\" style=\"stroke:#000000; stroke-linecap:round; stroke-linejoin:round; stroke-width:4; stroke-opacity:1; fill:none\" points=\"1385.72,705.178 1404.62,705.178 \"/>\n",
       "<polyline clip-path=\"url(#clip220)\" style=\"stroke:#000000; stroke-linecap:round; stroke-linejoin:round; stroke-width:4; stroke-opacity:1; fill:none\" points=\"1385.72,421.707 1404.62,421.707 \"/>\n",
       "<polyline clip-path=\"url(#clip220)\" style=\"stroke:#000000; stroke-linecap:round; stroke-linejoin:round; stroke-width:4; stroke-opacity:1; fill:none\" points=\"1385.72,138.235 1404.62,138.235 \"/>\n",
       "<path clip-path=\"url(#clip220)\" d=\"M1263.96 1270.26 Q1260.81 1270.26 1258.96 1272.41 Q1257.13 1274.56 1257.13 1278.31 Q1257.13 1282.04 1258.96 1284.22 Q1260.81 1286.37 1263.96 1286.37 Q1267.1 1286.37 1268.93 1284.22 Q1270.78 1282.04 1270.78 1278.31 Q1270.78 1274.56 1268.93 1272.41 Q1267.1 1270.26 1263.96 1270.26 M1273.24 1255.6 L1273.24 1259.86 Q1271.48 1259.03 1269.67 1258.59 Q1267.89 1258.15 1266.13 1258.15 Q1261.5 1258.15 1259.05 1261.28 Q1256.62 1264.4 1256.27 1270.72 Q1257.64 1268.71 1259.7 1267.64 Q1261.76 1266.55 1264.23 1266.55 Q1269.44 1266.55 1272.45 1269.73 Q1275.48 1272.87 1275.48 1278.31 Q1275.48 1283.64 1272.33 1286.85 Q1269.19 1290.07 1263.96 1290.07 Q1257.96 1290.07 1254.79 1285.49 Q1251.62 1280.88 1251.62 1272.16 Q1251.62 1263.96 1255.51 1259.1 Q1259.39 1254.22 1265.95 1254.22 Q1267.7 1254.22 1269.49 1254.56 Q1271.29 1254.91 1273.24 1255.6 Z\" fill=\"#000000\" fill-rule=\"nonzero\" fill-opacity=\"1\" /><path clip-path=\"url(#clip220)\" d=\"M1282.36 1254.84 L1304.58 1254.84 L1304.58 1256.83 L1292.03 1289.4 L1287.15 1289.4 L1298.95 1258.78 L1282.36 1258.78 L1282.36 1254.84 Z\" fill=\"#000000\" fill-rule=\"nonzero\" fill-opacity=\"1\" /><path clip-path=\"url(#clip220)\" d=\"M1313.7 1283.52 L1318.58 1283.52 L1318.58 1289.4 L1313.7 1289.4 L1313.7 1283.52 Z\" fill=\"#000000\" fill-rule=\"nonzero\" fill-opacity=\"1\" /><path clip-path=\"url(#clip220)\" d=\"M1328.82 1254.84 L1347.17 1254.84 L1347.17 1258.78 L1333.1 1258.78 L1333.1 1267.25 Q1334.12 1266.9 1335.14 1266.74 Q1336.15 1266.55 1337.17 1266.55 Q1342.96 1266.55 1346.34 1269.73 Q1349.72 1272.9 1349.72 1278.31 Q1349.72 1283.89 1346.25 1286.99 Q1342.77 1290.07 1336.45 1290.07 Q1334.28 1290.07 1332.01 1289.7 Q1329.76 1289.33 1327.36 1288.59 L1327.36 1283.89 Q1329.44 1285.03 1331.66 1285.58 Q1333.89 1286.14 1336.36 1286.14 Q1340.37 1286.14 1342.7 1284.03 Q1345.04 1281.92 1345.04 1278.31 Q1345.04 1274.7 1342.7 1272.6 Q1340.37 1270.49 1336.36 1270.49 Q1334.49 1270.49 1332.61 1270.91 Q1330.76 1271.32 1328.82 1272.2 L1328.82 1254.84 Z\" fill=\"#000000\" fill-rule=\"nonzero\" fill-opacity=\"1\" /><path clip-path=\"url(#clip220)\" d=\"M1251.2 971.369 L1273.42 971.369 L1273.42 973.36 L1260.88 1005.93 L1255.99 1005.93 L1267.8 975.305 L1251.2 975.305 L1251.2 971.369 Z\" fill=\"#000000\" fill-rule=\"nonzero\" fill-opacity=\"1\" /><path clip-path=\"url(#clip220)\" d=\"M1292.54 974.448 Q1288.93 974.448 1287.1 978.013 Q1285.3 981.555 1285.3 988.684 Q1285.3 995.791 1287.1 999.355 Q1288.93 1002.9 1292.54 1002.9 Q1296.18 1002.9 1297.98 999.355 Q1299.81 995.791 1299.81 988.684 Q1299.81 981.555 1297.98 978.013 Q1296.18 974.448 1292.54 974.448 M1292.54 970.744 Q1298.35 970.744 1301.41 975.351 Q1304.49 979.934 1304.49 988.684 Q1304.49 997.411 1301.41 1002.02 Q1298.35 1006.6 1292.54 1006.6 Q1286.73 1006.6 1283.65 1002.02 Q1280.6 997.411 1280.6 988.684 Q1280.6 979.934 1283.65 975.351 Q1286.73 970.744 1292.54 970.744 Z\" fill=\"#000000\" fill-rule=\"nonzero\" fill-opacity=\"1\" /><path clip-path=\"url(#clip220)\" d=\"M1312.7 1000.05 L1317.59 1000.05 L1317.59 1005.93 L1312.7 1005.93 L1312.7 1000.05 Z\" fill=\"#000000\" fill-rule=\"nonzero\" fill-opacity=\"1\" /><path clip-path=\"url(#clip220)\" d=\"M1337.77 974.448 Q1334.16 974.448 1332.33 978.013 Q1330.53 981.555 1330.53 988.684 Q1330.53 995.791 1332.33 999.355 Q1334.16 1002.9 1337.77 1002.9 Q1341.41 1002.9 1343.21 999.355 Q1345.04 995.791 1345.04 988.684 Q1345.04 981.555 1343.21 978.013 Q1341.41 974.448 1337.77 974.448 M1337.77 970.744 Q1343.58 970.744 1346.64 975.351 Q1349.72 979.934 1349.72 988.684 Q1349.72 997.411 1346.64 1002.02 Q1343.58 1006.6 1337.77 1006.6 Q1331.96 1006.6 1328.89 1002.02 Q1325.83 997.411 1325.83 988.684 Q1325.83 979.934 1328.89 975.351 Q1331.96 970.744 1337.77 970.744 Z\" fill=\"#000000\" fill-rule=\"nonzero\" fill-opacity=\"1\" /><path clip-path=\"url(#clip220)\" d=\"M1252.2 687.898 L1274.42 687.898 L1274.42 689.889 L1261.87 722.458 L1256.99 722.458 L1268.79 691.833 L1252.2 691.833 L1252.2 687.898 Z\" fill=\"#000000\" fill-rule=\"nonzero\" fill-opacity=\"1\" /><path clip-path=\"url(#clip220)\" d=\"M1287.57 718.523 L1303.89 718.523 L1303.89 722.458 L1281.94 722.458 L1281.94 718.523 Q1284.6 715.768 1289.19 711.139 Q1293.79 706.486 1294.97 705.143 Q1297.22 702.62 1298.1 700.884 Q1299 699.125 1299 697.435 Q1299 694.68 1297.06 692.944 Q1295.14 691.208 1292.03 691.208 Q1289.83 691.208 1287.38 691.972 Q1284.95 692.736 1282.17 694.287 L1282.17 689.565 Q1285 688.43 1287.45 687.852 Q1289.9 687.273 1291.94 687.273 Q1297.31 687.273 1300.51 689.958 Q1303.7 692.643 1303.7 697.134 Q1303.7 699.264 1302.89 701.185 Q1302.1 703.083 1300 705.676 Q1299.42 706.347 1296.32 709.565 Q1293.21 712.759 1287.57 718.523 Z\" fill=\"#000000\" fill-rule=\"nonzero\" fill-opacity=\"1\" /><path clip-path=\"url(#clip220)\" d=\"M1313.7 716.578 L1318.58 716.578 L1318.58 722.458 L1313.7 722.458 L1313.7 716.578 Z\" fill=\"#000000\" fill-rule=\"nonzero\" fill-opacity=\"1\" /><path clip-path=\"url(#clip220)\" d=\"M1328.82 687.898 L1347.17 687.898 L1347.17 691.833 L1333.1 691.833 L1333.1 700.305 Q1334.12 699.958 1335.14 699.796 Q1336.15 699.611 1337.17 699.611 Q1342.96 699.611 1346.34 702.782 Q1349.72 705.954 1349.72 711.37 Q1349.72 716.949 1346.25 720.051 Q1342.77 723.129 1336.45 723.129 Q1334.28 723.129 1332.01 722.759 Q1329.76 722.389 1327.36 721.648 L1327.36 716.949 Q1329.44 718.083 1331.66 718.639 Q1333.89 719.194 1336.36 719.194 Q1340.37 719.194 1342.7 717.088 Q1345.04 714.981 1345.04 711.37 Q1345.04 707.759 1342.7 705.653 Q1340.37 703.546 1336.36 703.546 Q1334.49 703.546 1332.61 703.963 Q1330.76 704.379 1328.82 705.259 L1328.82 687.898 Z\" fill=\"#000000\" fill-rule=\"nonzero\" fill-opacity=\"1\" /><path clip-path=\"url(#clip220)\" d=\"M1251.2 404.427 L1273.42 404.427 L1273.42 406.417 L1260.88 438.987 L1255.99 438.987 L1267.8 408.362 L1251.2 408.362 L1251.2 404.427 Z\" fill=\"#000000\" fill-rule=\"nonzero\" fill-opacity=\"1\" /><path clip-path=\"url(#clip220)\" d=\"M1282.59 404.427 L1300.95 404.427 L1300.95 408.362 L1286.87 408.362 L1286.87 416.834 Q1287.89 416.487 1288.91 416.325 Q1289.93 416.14 1290.95 416.14 Q1296.73 416.14 1300.11 419.311 Q1303.49 422.482 1303.49 427.899 Q1303.49 433.477 1300.02 436.579 Q1296.55 439.658 1290.23 439.658 Q1288.05 439.658 1285.78 439.288 Q1283.54 438.917 1281.13 438.177 L1281.13 433.477 Q1283.21 434.612 1285.44 435.167 Q1287.66 435.723 1290.14 435.723 Q1294.14 435.723 1296.48 433.616 Q1298.82 431.51 1298.82 427.899 Q1298.82 424.288 1296.48 422.181 Q1294.14 420.075 1290.14 420.075 Q1288.26 420.075 1286.39 420.491 Q1284.53 420.908 1282.59 421.788 L1282.59 404.427 Z\" fill=\"#000000\" fill-rule=\"nonzero\" fill-opacity=\"1\" /><path clip-path=\"url(#clip220)\" d=\"M1312.7 433.107 L1317.59 433.107 L1317.59 438.987 L1312.7 438.987 L1312.7 433.107 Z\" fill=\"#000000\" fill-rule=\"nonzero\" fill-opacity=\"1\" /><path clip-path=\"url(#clip220)\" d=\"M1337.77 407.505 Q1334.16 407.505 1332.33 411.07 Q1330.53 414.612 1330.53 421.741 Q1330.53 428.848 1332.33 432.413 Q1334.16 435.954 1337.77 435.954 Q1341.41 435.954 1343.21 432.413 Q1345.04 428.848 1345.04 421.741 Q1345.04 414.612 1343.21 411.07 Q1341.41 407.505 1337.77 407.505 M1337.77 403.802 Q1343.58 403.802 1346.64 408.408 Q1349.72 412.991 1349.72 421.741 Q1349.72 430.468 1346.64 435.075 Q1343.58 439.658 1337.77 439.658 Q1331.96 439.658 1328.89 435.075 Q1325.83 430.468 1325.83 421.741 Q1325.83 412.991 1328.89 408.408 Q1331.96 403.802 1337.77 403.802 Z\" fill=\"#000000\" fill-rule=\"nonzero\" fill-opacity=\"1\" /><path clip-path=\"url(#clip220)\" d=\"M1252.2 120.955 L1274.42 120.955 L1274.42 122.946 L1261.87 155.515 L1256.99 155.515 L1268.79 124.89 L1252.2 124.89 L1252.2 120.955 Z\" fill=\"#000000\" fill-rule=\"nonzero\" fill-opacity=\"1\" /><path clip-path=\"url(#clip220)\" d=\"M1282.36 120.955 L1304.58 120.955 L1304.58 122.946 L1292.03 155.515 L1287.15 155.515 L1298.95 124.89 L1282.36 124.89 L1282.36 120.955 Z\" fill=\"#000000\" fill-rule=\"nonzero\" fill-opacity=\"1\" /><path clip-path=\"url(#clip220)\" d=\"M1313.7 149.636 L1318.58 149.636 L1318.58 155.515 L1313.7 155.515 L1313.7 149.636 Z\" fill=\"#000000\" fill-rule=\"nonzero\" fill-opacity=\"1\" /><path clip-path=\"url(#clip220)\" d=\"M1328.82 120.955 L1347.17 120.955 L1347.17 124.89 L1333.1 124.89 L1333.1 133.363 Q1334.12 133.015 1335.14 132.853 Q1336.15 132.668 1337.17 132.668 Q1342.96 132.668 1346.34 135.839 Q1349.72 139.011 1349.72 144.427 Q1349.72 150.006 1346.25 153.108 Q1342.77 156.187 1336.45 156.187 Q1334.28 156.187 1332.01 155.816 Q1329.76 155.446 1327.36 154.705 L1327.36 150.006 Q1329.44 151.14 1331.66 151.696 Q1333.89 152.251 1336.36 152.251 Q1340.37 152.251 1342.7 150.145 Q1345.04 148.039 1345.04 144.427 Q1345.04 140.816 1342.7 138.71 Q1340.37 136.603 1336.36 136.603 Q1334.49 136.603 1332.61 137.02 Q1330.76 137.437 1328.82 138.316 L1328.82 120.955 Z\" fill=\"#000000\" fill-rule=\"nonzero\" fill-opacity=\"1\" /><path clip-path=\"url(#clip220)\" d=\"M1604.55 14.324 L1604.55 27.2059 L1619.9 27.2059 L1619.9 32.9987 L1604.55 32.9987 L1604.55 57.6282 Q1604.55 63.1779 1606.05 64.7578 Q1607.59 66.3376 1612.25 66.3376 L1619.9 66.3376 L1619.9 72.576 L1612.25 72.576 Q1603.62 72.576 1600.34 69.3758 Q1597.06 66.1351 1597.06 57.6282 L1597.06 32.9987 L1591.59 32.9987 L1591.59 27.2059 L1597.06 27.2059 L1597.06 14.324 L1604.55 14.324 Z\" fill=\"#000000\" fill-rule=\"nonzero\" fill-opacity=\"1\" /><path clip-path=\"url(#clip220)\" d=\"M1668.51 48.0275 L1668.51 51.6733 L1634.24 51.6733 Q1634.73 59.3701 1638.86 63.421 Q1643.03 67.4314 1650.45 67.4314 Q1654.74 67.4314 1658.75 66.3781 Q1662.8 65.3249 1666.77 63.2184 L1666.77 70.267 Q1662.76 71.9684 1658.55 72.8596 Q1654.34 73.7508 1650 73.7508 Q1639.15 73.7508 1632.79 67.4314 Q1626.47 61.1119 1626.47 50.3365 Q1626.47 39.1965 1632.46 32.6746 Q1638.5 26.1121 1648.71 26.1121 Q1657.86 26.1121 1663.17 32.0264 Q1668.51 37.9003 1668.51 48.0275 M1661.06 45.84 Q1660.98 39.7232 1657.62 36.0774 Q1654.3 32.4315 1648.79 32.4315 Q1642.55 32.4315 1638.78 35.9558 Q1635.05 39.4801 1634.49 45.8805 L1661.06 45.84 Z\" fill=\"#000000\" fill-rule=\"nonzero\" fill-opacity=\"1\" /><path clip-path=\"url(#clip220)\" d=\"M1709.67 28.5427 L1709.67 35.5912 Q1706.51 33.9709 1703.11 33.1607 Q1699.71 32.3505 1696.06 32.3505 Q1690.51 32.3505 1687.72 34.0519 Q1684.96 35.7533 1684.96 39.156 Q1684.96 41.7486 1686.95 43.2475 Q1688.93 44.7058 1694.93 46.0426 L1697.48 46.6097 Q1705.42 48.3111 1708.74 51.4303 Q1712.1 54.509 1712.1 60.0587 Q1712.1 66.3781 1707.08 70.0644 Q1702.1 73.7508 1693.35 73.7508 Q1689.7 73.7508 1685.73 73.0216 Q1681.8 72.3329 1677.43 70.9151 L1677.43 63.2184 Q1681.56 65.3654 1685.57 66.4591 Q1689.58 67.5124 1693.51 67.5124 Q1698.78 67.5124 1701.61 65.73 Q1704.45 63.9071 1704.45 60.6258 Q1704.45 57.5877 1702.38 55.9673 Q1700.35 54.3469 1693.43 52.8481 L1690.84 52.2405 Q1683.91 50.7821 1680.83 47.7845 Q1677.75 44.7463 1677.75 39.4801 Q1677.75 33.0797 1682.29 29.5959 Q1686.82 26.1121 1695.17 26.1121 Q1699.3 26.1121 1702.95 26.7198 Q1706.59 27.3274 1709.67 28.5427 Z\" fill=\"#000000\" fill-rule=\"nonzero\" fill-opacity=\"1\" /><path clip-path=\"url(#clip220)\" d=\"M1731.34 14.324 L1731.34 27.2059 L1746.7 27.2059 L1746.7 32.9987 L1731.34 32.9987 L1731.34 57.6282 Q1731.34 63.1779 1732.84 64.7578 Q1734.38 66.3376 1739.04 66.3376 L1746.7 66.3376 L1746.7 72.576 L1739.04 72.576 Q1730.41 72.576 1727.13 69.3758 Q1723.85 66.1351 1723.85 57.6282 L1723.85 32.9987 L1718.38 32.9987 L1718.38 27.2059 L1723.85 27.2059 L1723.85 14.324 L1731.34 14.324 Z\" fill=\"#000000\" fill-rule=\"nonzero\" fill-opacity=\"1\" /><path clip-path=\"url(#clip220)\" d=\"M1803.49 49.7694 Q1794.46 49.7694 1790.97 51.8354 Q1787.49 53.9013 1787.49 58.8839 Q1787.49 62.8538 1790.08 65.2034 Q1792.72 67.5124 1797.21 67.5124 Q1803.41 67.5124 1807.14 63.1374 Q1810.9 58.7219 1810.9 51.4303 L1810.9 49.7694 L1803.49 49.7694 M1818.36 46.6907 L1818.36 72.576 L1810.9 72.576 L1810.9 65.6895 Q1808.35 69.8214 1804.54 71.8063 Q1800.74 73.7508 1795.23 73.7508 Q1788.26 73.7508 1784.13 69.8619 Q1780.04 65.9325 1780.04 59.3701 Q1780.04 51.7138 1785.14 47.825 Q1790.29 43.9361 1800.45 43.9361 L1810.9 43.9361 L1810.9 43.2069 Q1810.9 38.0623 1807.5 35.2672 Q1804.14 32.4315 1798.02 32.4315 Q1794.13 32.4315 1790.45 33.3632 Q1786.76 34.295 1783.36 36.1584 L1783.36 29.2718 Q1787.45 27.692 1791.3 26.9223 Q1795.15 26.1121 1798.79 26.1121 Q1808.64 26.1121 1813.5 31.2163 Q1818.36 36.3204 1818.36 46.6907 Z\" fill=\"#000000\" fill-rule=\"nonzero\" fill-opacity=\"1\" /><path clip-path=\"url(#clip220)\" d=\"M1866.36 28.9478 L1866.36 35.9153 Q1863.2 34.1734 1860 33.3227 Q1856.84 32.4315 1853.6 32.4315 Q1846.35 32.4315 1842.34 37.0496 Q1838.33 41.6271 1838.33 49.9314 Q1838.33 58.2358 1842.34 62.8538 Q1846.35 67.4314 1853.6 67.4314 Q1856.84 67.4314 1860 66.5807 Q1863.2 65.6895 1866.36 63.9476 L1866.36 70.8341 Q1863.24 72.2924 1859.88 73.0216 Q1856.56 73.7508 1852.79 73.7508 Q1842.54 73.7508 1836.51 67.3098 Q1830.47 60.8689 1830.47 49.9314 Q1830.47 38.832 1836.55 32.472 Q1842.66 26.1121 1853.28 26.1121 Q1856.72 26.1121 1860 26.8413 Q1863.28 27.5299 1866.36 28.9478 Z\" fill=\"#000000\" fill-rule=\"nonzero\" fill-opacity=\"1\" /><path clip-path=\"url(#clip220)\" d=\"M1911.97 28.9478 L1911.97 35.9153 Q1908.81 34.1734 1905.61 33.3227 Q1902.45 32.4315 1899.21 32.4315 Q1891.96 32.4315 1887.95 37.0496 Q1883.94 41.6271 1883.94 49.9314 Q1883.94 58.2358 1887.95 62.8538 Q1891.96 67.4314 1899.21 67.4314 Q1902.45 67.4314 1905.61 66.5807 Q1908.81 65.6895 1911.97 63.9476 L1911.97 70.8341 Q1908.86 72.2924 1905.49 73.0216 Q1902.17 73.7508 1898.4 73.7508 Q1888.15 73.7508 1882.12 67.3098 Q1876.08 60.8689 1876.08 49.9314 Q1876.08 38.832 1882.16 32.472 Q1888.28 26.1121 1898.89 26.1121 Q1902.33 26.1121 1905.61 26.8413 Q1908.9 27.5299 1911.97 28.9478 Z\" fill=\"#000000\" fill-rule=\"nonzero\" fill-opacity=\"1\" /><path clip-path=\"url(#clip220)\" d=\"M1924.17 54.671 L1924.17 27.2059 L1931.62 27.2059 L1931.62 54.3874 Q1931.62 60.8284 1934.13 64.0691 Q1936.64 67.2693 1941.67 67.2693 Q1947.7 67.2693 1951.19 63.421 Q1954.71 59.5726 1954.71 52.9291 L1954.71 27.2059 L1962.16 27.2059 L1962.16 72.576 L1954.71 72.576 L1954.71 65.6084 Q1952 69.7404 1948.39 71.7658 Q1944.83 73.7508 1940.09 73.7508 Q1932.27 73.7508 1928.22 68.8897 Q1924.17 64.0286 1924.17 54.671 M1942.92 26.1121 L1942.92 26.1121 Z\" fill=\"#000000\" fill-rule=\"nonzero\" fill-opacity=\"1\" /><path clip-path=\"url(#clip220)\" d=\"M2003.81 34.1734 Q2002.55 33.4443 2001.05 33.1202 Q1999.6 32.7556 1997.81 32.7556 Q1991.49 32.7556 1988.09 36.8875 Q1984.73 40.9789 1984.73 48.6757 L1984.73 72.576 L1977.23 72.576 L1977.23 27.2059 L1984.73 27.2059 L1984.73 34.2544 Q1987.08 30.1225 1990.85 28.1376 Q1994.61 26.1121 2000 26.1121 Q2000.77 26.1121 2001.7 26.2337 Q2002.63 26.3147 2003.77 26.5172 L2003.81 34.1734 Z\" fill=\"#000000\" fill-rule=\"nonzero\" fill-opacity=\"1\" /><path clip-path=\"url(#clip220)\" d=\"M2032.25 49.7694 Q2023.21 49.7694 2019.73 51.8354 Q2016.24 53.9013 2016.24 58.8839 Q2016.24 62.8538 2018.84 65.2034 Q2021.47 67.5124 2025.97 67.5124 Q2032.16 67.5124 2035.89 63.1374 Q2039.66 58.7219 2039.66 51.4303 L2039.66 49.7694 L2032.25 49.7694 M2047.11 46.6907 L2047.11 72.576 L2039.66 72.576 L2039.66 65.6895 Q2037.11 69.8214 2033.3 71.8063 Q2029.49 73.7508 2023.98 73.7508 Q2017.01 73.7508 2012.88 69.8619 Q2008.79 65.9325 2008.79 59.3701 Q2008.79 51.7138 2013.89 47.825 Q2019.04 43.9361 2029.21 43.9361 L2039.66 43.9361 L2039.66 43.2069 Q2039.66 38.0623 2036.26 35.2672 Q2032.89 32.4315 2026.78 32.4315 Q2022.89 32.4315 2019.2 33.3632 Q2015.52 34.295 2012.11 36.1584 L2012.11 29.2718 Q2016.2 27.692 2020.05 26.9223 Q2023.9 26.1121 2027.55 26.1121 Q2037.39 26.1121 2042.25 31.2163 Q2047.11 36.3204 2047.11 46.6907 Z\" fill=\"#000000\" fill-rule=\"nonzero\" fill-opacity=\"1\" /><path clip-path=\"url(#clip220)\" d=\"M2095.12 28.9478 L2095.12 35.9153 Q2091.96 34.1734 2088.76 33.3227 Q2085.6 32.4315 2082.36 32.4315 Q2075.1 32.4315 2071.09 37.0496 Q2067.08 41.6271 2067.08 49.9314 Q2067.08 58.2358 2071.09 62.8538 Q2075.1 67.4314 2082.36 67.4314 Q2085.6 67.4314 2088.76 66.5807 Q2091.96 65.6895 2095.12 63.9476 L2095.12 70.8341 Q2092 72.2924 2088.63 73.0216 Q2085.31 73.7508 2081.55 73.7508 Q2071.3 73.7508 2065.26 67.3098 Q2059.22 60.8689 2059.22 49.9314 Q2059.22 38.832 2065.3 32.472 Q2071.42 26.1121 2082.03 26.1121 Q2085.47 26.1121 2088.76 26.8413 Q2092.04 27.5299 2095.12 28.9478 Z\" fill=\"#000000\" fill-rule=\"nonzero\" fill-opacity=\"1\" /><path clip-path=\"url(#clip220)\" d=\"M2126.96 76.7889 Q2123.8 84.8907 2120.8 87.3618 Q2117.8 89.8329 2112.78 89.8329 L2106.82 89.8329 L2106.82 83.5945 L2111.2 83.5945 Q2114.28 83.5945 2115.98 82.1361 Q2117.68 80.6778 2119.75 75.2496 L2121.08 71.8468 L2102.73 27.2059 L2110.63 27.2059 L2124.81 62.6918 L2138.99 27.2059 L2146.89 27.2059 L2126.96 76.7889 Z\" fill=\"#000000\" fill-rule=\"nonzero\" fill-opacity=\"1\" /><polyline clip-path=\"url(#clip223)\" style=\"stroke:#009af9; stroke-linecap:round; stroke-linejoin:round; stroke-width:4; stroke-opacity:1; fill:none\" points=\"1413.09,1447.87 1641.16,840.11 1869.24,489.74 2097.31,296.979 2325.39,162.047 \"/>\n",
       "<path clip-path=\"url(#clip220)\" d=\"M1417.95 272.585 L1567.09 272.585 L1567.09 168.905 L1417.95 168.905  Z\" fill=\"#ffffff\" fill-rule=\"evenodd\" fill-opacity=\"1\"/>\n",
       "<polyline clip-path=\"url(#clip220)\" style=\"stroke:#000000; stroke-linecap:round; stroke-linejoin:round; stroke-width:4; stroke-opacity:1; fill:none\" points=\"1417.95,272.585 1567.09,272.585 1567.09,168.905 1417.95,168.905 1417.95,272.585 \"/>\n",
       "<polyline clip-path=\"url(#clip220)\" style=\"stroke:#009af9; stroke-linecap:round; stroke-linejoin:round; stroke-width:4; stroke-opacity:1; fill:none\" points=\"1428.7,220.745 1493.17,220.745 \"/>\n",
       "<path clip-path=\"url(#clip220)\" d=\"M1517.75 240.432 Q1515.95 245.062 1514.24 246.474 Q1512.52 247.886 1509.65 247.886 L1506.25 247.886 L1506.25 244.321 L1508.75 244.321 Q1510.51 244.321 1511.48 243.488 Q1512.45 242.654 1513.63 239.552 L1514.4 237.608 L1503.91 212.099 L1508.43 212.099 L1516.53 232.377 L1524.63 212.099 L1529.14 212.099 L1517.75 240.432 Z\" fill=\"#000000\" fill-rule=\"nonzero\" fill-opacity=\"1\" /><path clip-path=\"url(#clip220)\" d=\"M1536.43 234.089 L1544.07 234.089 L1544.07 207.724 L1535.76 209.391 L1535.76 205.131 L1544.03 203.465 L1548.7 203.465 L1548.7 234.089 L1556.34 234.089 L1556.34 238.025 L1536.43 238.025 L1536.43 234.089 Z\" fill=\"#000000\" fill-rule=\"nonzero\" fill-opacity=\"1\" /></svg>\n"
      ],
      "text/html": [
       "<?xml version=\"1.0\" encoding=\"utf-8\"?>\n",
       "<svg xmlns=\"http://www.w3.org/2000/svg\" xmlns:xlink=\"http://www.w3.org/1999/xlink\" width=\"600\" height=\"400\" viewBox=\"0 0 2400 1600\">\n",
       "<defs>\n",
       "  <clipPath id=\"clip270\">\n",
       "    <rect x=\"0\" y=\"0\" width=\"2400\" height=\"1600\"/>\n",
       "  </clipPath>\n",
       "</defs>\n",
       "<path clip-path=\"url(#clip270)\" d=\"M0 1600 L2400 1600 L2400 0 L0 0  Z\" fill=\"#ffffff\" fill-rule=\"evenodd\" fill-opacity=\"1\"/>\n",
       "<defs>\n",
       "  <clipPath id=\"clip271\">\n",
       "    <rect x=\"480\" y=\"0\" width=\"1681\" height=\"1600\"/>\n",
       "  </clipPath>\n",
       "</defs>\n",
       "<path clip-path=\"url(#clip270)\" d=\"M185.927 1486.45 L1152.96 1486.45 L1152.96 123.472 L185.927 123.472  Z\" fill=\"#ffffff\" fill-rule=\"evenodd\" fill-opacity=\"1\"/>\n",
       "<defs>\n",
       "  <clipPath id=\"clip272\">\n",
       "    <rect x=\"185\" y=\"123\" width=\"968\" height=\"1364\"/>\n",
       "  </clipPath>\n",
       "</defs>\n",
       "<polyline clip-path=\"url(#clip272)\" style=\"stroke:#000000; stroke-linecap:round; stroke-linejoin:round; stroke-width:2; stroke-opacity:0.1; fill:none\" points=\"192.562,1486.45 192.562,123.472 \"/>\n",
       "<polyline clip-path=\"url(#clip272)\" style=\"stroke:#000000; stroke-linecap:round; stroke-linejoin:round; stroke-width:2; stroke-opacity:0.1; fill:none\" points=\"399.902,1486.45 399.902,123.472 \"/>\n",
       "<polyline clip-path=\"url(#clip272)\" style=\"stroke:#000000; stroke-linecap:round; stroke-linejoin:round; stroke-width:2; stroke-opacity:0.1; fill:none\" points=\"607.243,1486.45 607.243,123.472 \"/>\n",
       "<polyline clip-path=\"url(#clip272)\" style=\"stroke:#000000; stroke-linecap:round; stroke-linejoin:round; stroke-width:2; stroke-opacity:0.1; fill:none\" points=\"814.584,1486.45 814.584,123.472 \"/>\n",
       "<polyline clip-path=\"url(#clip272)\" style=\"stroke:#000000; stroke-linecap:round; stroke-linejoin:round; stroke-width:2; stroke-opacity:0.1; fill:none\" points=\"1021.92,1486.45 1021.92,123.472 \"/>\n",
       "<polyline clip-path=\"url(#clip270)\" style=\"stroke:#000000; stroke-linecap:round; stroke-linejoin:round; stroke-width:4; stroke-opacity:1; fill:none\" points=\"185.927,1486.45 1152.96,1486.45 \"/>\n",
       "<polyline clip-path=\"url(#clip270)\" style=\"stroke:#000000; stroke-linecap:round; stroke-linejoin:round; stroke-width:4; stroke-opacity:1; fill:none\" points=\"192.562,1486.45 192.562,1467.55 \"/>\n",
       "<polyline clip-path=\"url(#clip270)\" style=\"stroke:#000000; stroke-linecap:round; stroke-linejoin:round; stroke-width:4; stroke-opacity:1; fill:none\" points=\"399.902,1486.45 399.902,1467.55 \"/>\n",
       "<polyline clip-path=\"url(#clip270)\" style=\"stroke:#000000; stroke-linecap:round; stroke-linejoin:round; stroke-width:4; stroke-opacity:1; fill:none\" points=\"607.243,1486.45 607.243,1467.55 \"/>\n",
       "<polyline clip-path=\"url(#clip270)\" style=\"stroke:#000000; stroke-linecap:round; stroke-linejoin:round; stroke-width:4; stroke-opacity:1; fill:none\" points=\"814.584,1486.45 814.584,1467.55 \"/>\n",
       "<polyline clip-path=\"url(#clip270)\" style=\"stroke:#000000; stroke-linecap:round; stroke-linejoin:round; stroke-width:4; stroke-opacity:1; fill:none\" points=\"1021.92,1486.45 1021.92,1467.55 \"/>\n",
       "<path clip-path=\"url(#clip270)\" d=\"M192.562 1517.37 Q188.951 1517.37 187.122 1520.93 Q185.316 1524.47 185.316 1531.6 Q185.316 1538.71 187.122 1542.27 Q188.951 1545.82 192.562 1545.82 Q196.196 1545.82 198.001 1542.27 Q199.83 1538.71 199.83 1531.6 Q199.83 1524.47 198.001 1520.93 Q196.196 1517.37 192.562 1517.37 M192.562 1513.66 Q198.372 1513.66 201.427 1518.27 Q204.506 1522.85 204.506 1531.6 Q204.506 1540.33 201.427 1544.94 Q198.372 1549.52 192.562 1549.52 Q186.752 1549.52 183.673 1544.94 Q180.617 1540.33 180.617 1531.6 Q180.617 1522.85 183.673 1518.27 Q186.752 1513.66 192.562 1513.66 Z\" fill=\"#000000\" fill-rule=\"nonzero\" fill-opacity=\"1\" /><path clip-path=\"url(#clip270)\" d=\"M374.59 1544.91 L382.229 1544.91 L382.229 1518.55 L373.919 1520.21 L373.919 1515.95 L382.183 1514.29 L386.859 1514.29 L386.859 1544.91 L394.497 1544.91 L394.497 1548.85 L374.59 1548.85 L374.59 1544.91 Z\" fill=\"#000000\" fill-rule=\"nonzero\" fill-opacity=\"1\" /><path clip-path=\"url(#clip270)\" d=\"M413.942 1517.37 Q410.331 1517.37 408.502 1520.93 Q406.696 1524.47 406.696 1531.6 Q406.696 1538.71 408.502 1542.27 Q410.331 1545.82 413.942 1545.82 Q417.576 1545.82 419.382 1542.27 Q421.21 1538.71 421.21 1531.6 Q421.21 1524.47 419.382 1520.93 Q417.576 1517.37 413.942 1517.37 M413.942 1513.66 Q419.752 1513.66 422.807 1518.27 Q425.886 1522.85 425.886 1531.6 Q425.886 1540.33 422.807 1544.94 Q419.752 1549.52 413.942 1549.52 Q408.132 1549.52 405.053 1544.94 Q401.997 1540.33 401.997 1531.6 Q401.997 1522.85 405.053 1518.27 Q408.132 1513.66 413.942 1513.66 Z\" fill=\"#000000\" fill-rule=\"nonzero\" fill-opacity=\"1\" /><path clip-path=\"url(#clip270)\" d=\"M586.017 1544.91 L602.336 1544.91 L602.336 1548.85 L580.392 1548.85 L580.392 1544.91 Q583.054 1542.16 587.637 1537.53 Q592.243 1532.88 593.424 1531.53 Q595.669 1529.01 596.549 1527.27 Q597.452 1525.51 597.452 1523.82 Q597.452 1521.07 595.507 1519.33 Q593.586 1517.6 590.484 1517.6 Q588.285 1517.6 585.831 1518.36 Q583.401 1519.13 580.623 1520.68 L580.623 1515.95 Q583.447 1514.82 585.901 1514.24 Q588.354 1513.66 590.392 1513.66 Q595.762 1513.66 598.956 1516.35 Q602.151 1519.03 602.151 1523.52 Q602.151 1525.65 601.341 1527.57 Q600.553 1529.47 598.447 1532.07 Q597.868 1532.74 594.766 1535.95 Q591.665 1539.15 586.017 1544.91 Z\" fill=\"#000000\" fill-rule=\"nonzero\" fill-opacity=\"1\" /><path clip-path=\"url(#clip270)\" d=\"M622.151 1517.37 Q618.54 1517.37 616.711 1520.93 Q614.905 1524.47 614.905 1531.6 Q614.905 1538.71 616.711 1542.27 Q618.54 1545.82 622.151 1545.82 Q625.785 1545.82 627.59 1542.27 Q629.419 1538.71 629.419 1531.6 Q629.419 1524.47 627.59 1520.93 Q625.785 1517.37 622.151 1517.37 M622.151 1513.66 Q627.961 1513.66 631.016 1518.27 Q634.095 1522.85 634.095 1531.6 Q634.095 1540.33 631.016 1544.94 Q627.961 1549.52 622.151 1549.52 Q616.34 1549.52 613.262 1544.94 Q610.206 1540.33 610.206 1531.6 Q610.206 1522.85 613.262 1518.27 Q616.34 1513.66 622.151 1513.66 Z\" fill=\"#000000\" fill-rule=\"nonzero\" fill-opacity=\"1\" /><path clip-path=\"url(#clip270)\" d=\"M803.427 1530.21 Q806.783 1530.93 808.658 1533.2 Q810.556 1535.47 810.556 1538.8 Q810.556 1543.92 807.038 1546.72 Q803.519 1549.52 797.038 1549.52 Q794.862 1549.52 792.547 1549.08 Q790.255 1548.66 787.802 1547.81 L787.802 1543.29 Q789.746 1544.43 792.061 1545.01 Q794.376 1545.58 796.899 1545.58 Q801.297 1545.58 803.589 1543.85 Q805.904 1542.11 805.904 1538.8 Q805.904 1535.75 803.751 1534.03 Q801.621 1532.3 797.802 1532.3 L793.774 1532.3 L793.774 1528.45 L797.987 1528.45 Q801.436 1528.45 803.265 1527.09 Q805.093 1525.7 805.093 1523.11 Q805.093 1520.45 803.195 1519.03 Q801.32 1517.6 797.802 1517.6 Q795.88 1517.6 793.681 1518.01 Q791.482 1518.43 788.843 1519.31 L788.843 1515.14 Q791.505 1514.4 793.82 1514.03 Q796.158 1513.66 798.218 1513.66 Q803.542 1513.66 806.644 1516.09 Q809.746 1518.5 809.746 1522.62 Q809.746 1525.49 808.103 1527.48 Q806.459 1529.45 803.427 1530.21 Z\" fill=\"#000000\" fill-rule=\"nonzero\" fill-opacity=\"1\" /><path clip-path=\"url(#clip270)\" d=\"M829.422 1517.37 Q825.811 1517.37 823.982 1520.93 Q822.177 1524.47 822.177 1531.6 Q822.177 1538.71 823.982 1542.27 Q825.811 1545.82 829.422 1545.82 Q833.056 1545.82 834.862 1542.27 Q836.69 1538.71 836.69 1531.6 Q836.69 1524.47 834.862 1520.93 Q833.056 1517.37 829.422 1517.37 M829.422 1513.66 Q835.232 1513.66 838.288 1518.27 Q841.366 1522.85 841.366 1531.6 Q841.366 1540.33 838.288 1544.94 Q835.232 1549.52 829.422 1549.52 Q823.612 1549.52 820.533 1544.94 Q817.478 1540.33 817.478 1531.6 Q817.478 1522.85 820.533 1518.27 Q823.612 1513.66 829.422 1513.66 Z\" fill=\"#000000\" fill-rule=\"nonzero\" fill-opacity=\"1\" /><path clip-path=\"url(#clip270)\" d=\"M1010.1 1518.36 L998.291 1536.81 L1010.1 1536.81 L1010.1 1518.36 M1008.87 1514.29 L1014.75 1514.29 L1014.75 1536.81 L1019.68 1536.81 L1019.68 1540.7 L1014.75 1540.7 L1014.75 1548.85 L1010.1 1548.85 L1010.1 1540.7 L994.494 1540.7 L994.494 1536.19 L1008.87 1514.29 Z\" fill=\"#000000\" fill-rule=\"nonzero\" fill-opacity=\"1\" /><path clip-path=\"url(#clip270)\" d=\"M1037.41 1517.37 Q1033.8 1517.37 1031.97 1520.93 Q1030.17 1524.47 1030.17 1531.6 Q1030.17 1538.71 1031.97 1542.27 Q1033.8 1545.82 1037.41 1545.82 Q1041.05 1545.82 1042.85 1542.27 Q1044.68 1538.71 1044.68 1531.6 Q1044.68 1524.47 1042.85 1520.93 Q1041.05 1517.37 1037.41 1517.37 M1037.41 1513.66 Q1043.22 1513.66 1046.28 1518.27 Q1049.36 1522.85 1049.36 1531.6 Q1049.36 1540.33 1046.28 1544.94 Q1043.22 1549.52 1037.41 1549.52 Q1031.6 1549.52 1028.52 1544.94 Q1025.47 1540.33 1025.47 1531.6 Q1025.47 1522.85 1028.52 1518.27 Q1031.6 1513.66 1037.41 1513.66 Z\" fill=\"#000000\" fill-rule=\"nonzero\" fill-opacity=\"1\" /><polyline clip-path=\"url(#clip272)\" style=\"stroke:#000000; stroke-linecap:round; stroke-linejoin:round; stroke-width:2; stroke-opacity:0.1; fill:none\" points=\"185.927,1287.21 1152.96,1287.21 \"/>\n",
       "<polyline clip-path=\"url(#clip272)\" style=\"stroke:#000000; stroke-linecap:round; stroke-linejoin:round; stroke-width:2; stroke-opacity:0.1; fill:none\" points=\"185.927,1084.05 1152.96,1084.05 \"/>\n",
       "<polyline clip-path=\"url(#clip272)\" style=\"stroke:#000000; stroke-linecap:round; stroke-linejoin:round; stroke-width:2; stroke-opacity:0.1; fill:none\" points=\"185.927,880.887 1152.96,880.887 \"/>\n",
       "<polyline clip-path=\"url(#clip272)\" style=\"stroke:#000000; stroke-linecap:round; stroke-linejoin:round; stroke-width:2; stroke-opacity:0.1; fill:none\" points=\"185.927,677.725 1152.96,677.725 \"/>\n",
       "<polyline clip-path=\"url(#clip272)\" style=\"stroke:#000000; stroke-linecap:round; stroke-linejoin:round; stroke-width:2; stroke-opacity:0.1; fill:none\" points=\"185.927,474.563 1152.96,474.563 \"/>\n",
       "<polyline clip-path=\"url(#clip272)\" style=\"stroke:#000000; stroke-linecap:round; stroke-linejoin:round; stroke-width:2; stroke-opacity:0.1; fill:none\" points=\"185.927,271.401 1152.96,271.401 \"/>\n",
       "<polyline clip-path=\"url(#clip270)\" style=\"stroke:#000000; stroke-linecap:round; stroke-linejoin:round; stroke-width:4; stroke-opacity:1; fill:none\" points=\"185.927,1486.45 185.927,123.472 \"/>\n",
       "<polyline clip-path=\"url(#clip270)\" style=\"stroke:#000000; stroke-linecap:round; stroke-linejoin:round; stroke-width:4; stroke-opacity:1; fill:none\" points=\"185.927,1287.21 204.824,1287.21 \"/>\n",
       "<polyline clip-path=\"url(#clip270)\" style=\"stroke:#000000; stroke-linecap:round; stroke-linejoin:round; stroke-width:4; stroke-opacity:1; fill:none\" points=\"185.927,1084.05 204.824,1084.05 \"/>\n",
       "<polyline clip-path=\"url(#clip270)\" style=\"stroke:#000000; stroke-linecap:round; stroke-linejoin:round; stroke-width:4; stroke-opacity:1; fill:none\" points=\"185.927,880.887 204.824,880.887 \"/>\n",
       "<polyline clip-path=\"url(#clip270)\" style=\"stroke:#000000; stroke-linecap:round; stroke-linejoin:round; stroke-width:4; stroke-opacity:1; fill:none\" points=\"185.927,677.725 204.824,677.725 \"/>\n",
       "<polyline clip-path=\"url(#clip270)\" style=\"stroke:#000000; stroke-linecap:round; stroke-linejoin:round; stroke-width:4; stroke-opacity:1; fill:none\" points=\"185.927,474.563 204.824,474.563 \"/>\n",
       "<polyline clip-path=\"url(#clip270)\" style=\"stroke:#000000; stroke-linecap:round; stroke-linejoin:round; stroke-width:4; stroke-opacity:1; fill:none\" points=\"185.927,271.401 204.824,271.401 \"/>\n",
       "<path clip-path=\"url(#clip270)\" d=\"M63.5847 1273.01 Q59.9736 1273.01 58.1449 1276.57 Q56.3393 1280.12 56.3393 1287.25 Q56.3393 1294.35 58.1449 1297.92 Q59.9736 1301.46 63.5847 1301.46 Q67.2189 1301.46 69.0244 1297.92 Q70.8531 1294.35 70.8531 1287.25 Q70.8531 1280.12 69.0244 1276.57 Q67.2189 1273.01 63.5847 1273.01 M63.5847 1269.31 Q69.3948 1269.31 72.4503 1273.91 Q75.529 1278.5 75.529 1287.25 Q75.529 1295.97 72.4503 1300.58 Q69.3948 1305.16 63.5847 1305.16 Q57.7745 1305.16 54.6958 1300.58 Q51.6403 1295.97 51.6403 1287.25 Q51.6403 1278.5 54.6958 1273.91 Q57.7745 1269.31 63.5847 1269.31 Z\" fill=\"#000000\" fill-rule=\"nonzero\" fill-opacity=\"1\" /><path clip-path=\"url(#clip270)\" d=\"M83.7466 1298.61 L88.6308 1298.61 L88.6308 1304.49 L83.7466 1304.49 L83.7466 1298.61 Z\" fill=\"#000000\" fill-rule=\"nonzero\" fill-opacity=\"1\" /><path clip-path=\"url(#clip270)\" d=\"M97.6354 1269.93 L119.857 1269.93 L119.857 1271.92 L107.311 1304.49 L102.427 1304.49 L114.233 1273.87 L97.6354 1273.87 L97.6354 1269.93 Z\" fill=\"#000000\" fill-rule=\"nonzero\" fill-opacity=\"1\" /><path clip-path=\"url(#clip270)\" d=\"M129.024 1269.93 L147.38 1269.93 L147.38 1273.87 L133.306 1273.87 L133.306 1282.34 Q134.325 1281.99 135.344 1281.83 Q136.362 1281.64 137.381 1281.64 Q143.168 1281.64 146.547 1284.82 Q149.927 1287.99 149.927 1293.4 Q149.927 1298.98 146.455 1302.08 Q142.982 1305.16 136.663 1305.16 Q134.487 1305.16 132.219 1304.79 Q129.973 1304.42 127.566 1303.68 L127.566 1298.98 Q129.649 1300.12 131.871 1300.67 Q134.094 1301.23 136.57 1301.23 Q140.575 1301.23 142.913 1299.12 Q145.251 1297.01 145.251 1293.4 Q145.251 1289.79 142.913 1287.69 Q140.575 1285.58 136.57 1285.58 Q134.695 1285.58 132.82 1286 Q130.969 1286.41 129.024 1287.29 L129.024 1269.93 Z\" fill=\"#000000\" fill-rule=\"nonzero\" fill-opacity=\"1\" /><path clip-path=\"url(#clip270)\" d=\"M53.3995 1097.39 L61.0384 1097.39 L61.0384 1071.03 L52.7282 1072.69 L52.7282 1068.44 L60.9921 1066.77 L65.668 1066.77 L65.668 1097.39 L73.3068 1097.39 L73.3068 1101.33 L53.3995 1101.33 L53.3995 1097.39 Z\" fill=\"#000000\" fill-rule=\"nonzero\" fill-opacity=\"1\" /><path clip-path=\"url(#clip270)\" d=\"M82.7512 1095.45 L87.6354 1095.45 L87.6354 1101.33 L82.7512 1101.33 L82.7512 1095.45 Z\" fill=\"#000000\" fill-rule=\"nonzero\" fill-opacity=\"1\" /><path clip-path=\"url(#clip270)\" d=\"M107.821 1069.85 Q104.209 1069.85 102.381 1073.41 Q100.575 1076.95 100.575 1084.08 Q100.575 1091.19 102.381 1094.75 Q104.209 1098.3 107.821 1098.3 Q111.455 1098.3 113.26 1094.75 Q115.089 1091.19 115.089 1084.08 Q115.089 1076.95 113.26 1073.41 Q111.455 1069.85 107.821 1069.85 M107.821 1066.14 Q113.631 1066.14 116.686 1070.75 Q119.765 1075.33 119.765 1084.08 Q119.765 1092.81 116.686 1097.42 Q113.631 1102 107.821 1102 Q102.01 1102 98.9317 1097.42 Q95.8761 1092.81 95.8761 1084.08 Q95.8761 1075.33 98.9317 1070.75 Q102.01 1066.14 107.821 1066.14 Z\" fill=\"#000000\" fill-rule=\"nonzero\" fill-opacity=\"1\" /><path clip-path=\"url(#clip270)\" d=\"M137.982 1069.85 Q134.371 1069.85 132.543 1073.41 Q130.737 1076.95 130.737 1084.08 Q130.737 1091.19 132.543 1094.75 Q134.371 1098.3 137.982 1098.3 Q141.617 1098.3 143.422 1094.75 Q145.251 1091.19 145.251 1084.08 Q145.251 1076.95 143.422 1073.41 Q141.617 1069.85 137.982 1069.85 M137.982 1066.14 Q143.793 1066.14 146.848 1070.75 Q149.927 1075.33 149.927 1084.08 Q149.927 1092.81 146.848 1097.42 Q143.793 1102 137.982 1102 Q132.172 1102 129.094 1097.42 Q126.038 1092.81 126.038 1084.08 Q126.038 1075.33 129.094 1070.75 Q132.172 1066.14 137.982 1066.14 Z\" fill=\"#000000\" fill-rule=\"nonzero\" fill-opacity=\"1\" /><path clip-path=\"url(#clip270)\" d=\"M54.3949 894.232 L62.0337 894.232 L62.0337 867.866 L53.7236 869.533 L53.7236 865.274 L61.9874 863.607 L66.6633 863.607 L66.6633 894.232 L74.3022 894.232 L74.3022 898.167 L54.3949 898.167 L54.3949 894.232 Z\" fill=\"#000000\" fill-rule=\"nonzero\" fill-opacity=\"1\" /><path clip-path=\"url(#clip270)\" d=\"M83.7466 892.287 L88.6308 892.287 L88.6308 898.167 L83.7466 898.167 L83.7466 892.287 Z\" fill=\"#000000\" fill-rule=\"nonzero\" fill-opacity=\"1\" /><path clip-path=\"url(#clip270)\" d=\"M102.844 894.232 L119.163 894.232 L119.163 898.167 L97.2187 898.167 L97.2187 894.232 Q99.8808 891.477 104.464 886.848 Q109.071 882.195 110.251 880.852 Q112.496 878.329 113.376 876.593 Q114.279 874.834 114.279 873.144 Q114.279 870.389 112.334 868.653 Q110.413 866.917 107.311 866.917 Q105.112 866.917 102.659 867.681 Q100.228 868.445 97.4502 869.996 L97.4502 865.274 Q100.274 864.139 102.728 863.561 Q105.182 862.982 107.219 862.982 Q112.589 862.982 115.783 865.667 Q118.978 868.352 118.978 872.843 Q118.978 874.973 118.168 876.894 Q117.381 878.792 115.274 881.385 Q114.695 882.056 111.594 885.274 Q108.492 888.468 102.844 894.232 Z\" fill=\"#000000\" fill-rule=\"nonzero\" fill-opacity=\"1\" /><path clip-path=\"url(#clip270)\" d=\"M129.024 863.607 L147.38 863.607 L147.38 867.542 L133.306 867.542 L133.306 876.014 Q134.325 875.667 135.344 875.505 Q136.362 875.32 137.381 875.32 Q143.168 875.32 146.547 878.491 Q149.927 881.662 149.927 887.079 Q149.927 892.658 146.455 895.76 Q142.982 898.838 136.663 898.838 Q134.487 898.838 132.219 898.468 Q129.973 898.098 127.566 897.357 L127.566 892.658 Q129.649 893.792 131.871 894.348 Q134.094 894.903 136.57 894.903 Q140.575 894.903 142.913 892.797 Q145.251 890.69 145.251 887.079 Q145.251 883.468 142.913 881.362 Q140.575 879.255 136.57 879.255 Q134.695 879.255 132.82 879.672 Q130.969 880.088 129.024 880.968 L129.024 863.607 Z\" fill=\"#000000\" fill-rule=\"nonzero\" fill-opacity=\"1\" /><path clip-path=\"url(#clip270)\" d=\"M53.3995 691.07 L61.0384 691.07 L61.0384 664.704 L52.7282 666.371 L52.7282 662.112 L60.9921 660.445 L65.668 660.445 L65.668 691.07 L73.3068 691.07 L73.3068 695.005 L53.3995 695.005 L53.3995 691.07 Z\" fill=\"#000000\" fill-rule=\"nonzero\" fill-opacity=\"1\" /><path clip-path=\"url(#clip270)\" d=\"M82.7512 689.125 L87.6354 689.125 L87.6354 695.005 L82.7512 695.005 L82.7512 689.125 Z\" fill=\"#000000\" fill-rule=\"nonzero\" fill-opacity=\"1\" /><path clip-path=\"url(#clip270)\" d=\"M97.8669 660.445 L116.223 660.445 L116.223 664.38 L102.149 664.38 L102.149 672.852 Q103.168 672.505 104.186 672.343 Q105.205 672.158 106.223 672.158 Q112.01 672.158 115.39 675.329 Q118.77 678.501 118.77 683.917 Q118.77 689.496 115.297 692.598 Q111.825 695.676 105.506 695.676 Q103.33 695.676 101.061 695.306 Q98.8159 694.936 96.4085 694.195 L96.4085 689.496 Q98.4919 690.63 100.714 691.186 Q102.936 691.741 105.413 691.741 Q109.418 691.741 111.756 689.635 Q114.094 687.528 114.094 683.917 Q114.094 680.306 111.756 678.2 Q109.418 676.093 105.413 676.093 Q103.538 676.093 101.663 676.51 Q99.8113 676.926 97.8669 677.806 L97.8669 660.445 Z\" fill=\"#000000\" fill-rule=\"nonzero\" fill-opacity=\"1\" /><path clip-path=\"url(#clip270)\" d=\"M137.982 663.524 Q134.371 663.524 132.543 667.089 Q130.737 670.63 130.737 677.76 Q130.737 684.866 132.543 688.431 Q134.371 691.973 137.982 691.973 Q141.617 691.973 143.422 688.431 Q145.251 684.866 145.251 677.76 Q145.251 670.63 143.422 667.089 Q141.617 663.524 137.982 663.524 M137.982 659.82 Q143.793 659.82 146.848 664.427 Q149.927 669.01 149.927 677.76 Q149.927 686.487 146.848 691.093 Q143.793 695.676 137.982 695.676 Q132.172 695.676 129.094 691.093 Q126.038 686.487 126.038 677.76 Q126.038 669.01 129.094 664.427 Q132.172 659.82 137.982 659.82 Z\" fill=\"#000000\" fill-rule=\"nonzero\" fill-opacity=\"1\" /><path clip-path=\"url(#clip270)\" d=\"M54.3949 487.908 L62.0337 487.908 L62.0337 461.542 L53.7236 463.209 L53.7236 458.95 L61.9874 457.283 L66.6633 457.283 L66.6633 487.908 L74.3022 487.908 L74.3022 491.843 L54.3949 491.843 L54.3949 487.908 Z\" fill=\"#000000\" fill-rule=\"nonzero\" fill-opacity=\"1\" /><path clip-path=\"url(#clip270)\" d=\"M83.7466 485.964 L88.6308 485.964 L88.6308 491.843 L83.7466 491.843 L83.7466 485.964 Z\" fill=\"#000000\" fill-rule=\"nonzero\" fill-opacity=\"1\" /><path clip-path=\"url(#clip270)\" d=\"M97.6354 457.283 L119.857 457.283 L119.857 459.274 L107.311 491.843 L102.427 491.843 L114.233 461.218 L97.6354 461.218 L97.6354 457.283 Z\" fill=\"#000000\" fill-rule=\"nonzero\" fill-opacity=\"1\" /><path clip-path=\"url(#clip270)\" d=\"M129.024 457.283 L147.38 457.283 L147.38 461.218 L133.306 461.218 L133.306 469.69 Q134.325 469.343 135.344 469.181 Q136.362 468.996 137.381 468.996 Q143.168 468.996 146.547 472.167 Q149.927 475.339 149.927 480.755 Q149.927 486.334 146.455 489.436 Q142.982 492.514 136.663 492.514 Q134.487 492.514 132.219 492.144 Q129.973 491.774 127.566 491.033 L127.566 486.334 Q129.649 487.468 131.871 488.024 Q134.094 488.579 136.57 488.579 Q140.575 488.579 142.913 486.473 Q145.251 484.366 145.251 480.755 Q145.251 477.144 142.913 475.038 Q140.575 472.931 136.57 472.931 Q134.695 472.931 132.82 473.348 Q130.969 473.764 129.024 474.644 L129.024 457.283 Z\" fill=\"#000000\" fill-rule=\"nonzero\" fill-opacity=\"1\" /><path clip-path=\"url(#clip270)\" d=\"M56.6171 284.746 L72.9365 284.746 L72.9365 288.681 L50.9921 288.681 L50.9921 284.746 Q53.6541 281.991 58.2375 277.362 Q62.8439 272.709 64.0245 271.366 Q66.2698 268.843 67.1494 267.107 Q68.0522 265.348 68.0522 263.658 Q68.0522 260.904 66.1078 259.167 Q64.1865 257.431 61.0847 257.431 Q58.8856 257.431 56.4319 258.195 Q54.0014 258.959 51.2236 260.51 L51.2236 255.788 Q54.0477 254.654 56.5014 254.075 Q58.955 253.496 60.9921 253.496 Q66.3624 253.496 69.5568 256.181 Q72.7513 258.866 72.7513 263.357 Q72.7513 265.487 71.9411 267.408 Q71.1541 269.306 69.0476 271.899 Q68.4689 272.57 65.367 275.788 Q62.2652 278.982 56.6171 284.746 Z\" fill=\"#000000\" fill-rule=\"nonzero\" fill-opacity=\"1\" /><path clip-path=\"url(#clip270)\" d=\"M82.7512 282.802 L87.6354 282.802 L87.6354 288.681 L82.7512 288.681 L82.7512 282.802 Z\" fill=\"#000000\" fill-rule=\"nonzero\" fill-opacity=\"1\" /><path clip-path=\"url(#clip270)\" d=\"M107.821 257.2 Q104.209 257.2 102.381 260.765 Q100.575 264.306 100.575 271.436 Q100.575 278.542 102.381 282.107 Q104.209 285.649 107.821 285.649 Q111.455 285.649 113.26 282.107 Q115.089 278.542 115.089 271.436 Q115.089 264.306 113.26 260.765 Q111.455 257.2 107.821 257.2 M107.821 253.496 Q113.631 253.496 116.686 258.103 Q119.765 262.686 119.765 271.436 Q119.765 280.163 116.686 284.769 Q113.631 289.352 107.821 289.352 Q102.01 289.352 98.9317 284.769 Q95.8761 280.163 95.8761 271.436 Q95.8761 262.686 98.9317 258.103 Q102.01 253.496 107.821 253.496 Z\" fill=\"#000000\" fill-rule=\"nonzero\" fill-opacity=\"1\" /><path clip-path=\"url(#clip270)\" d=\"M137.982 257.2 Q134.371 257.2 132.543 260.765 Q130.737 264.306 130.737 271.436 Q130.737 278.542 132.543 282.107 Q134.371 285.649 137.982 285.649 Q141.617 285.649 143.422 282.107 Q145.251 278.542 145.251 271.436 Q145.251 264.306 143.422 260.765 Q141.617 257.2 137.982 257.2 M137.982 253.496 Q143.793 253.496 146.848 258.103 Q149.927 262.686 149.927 271.436 Q149.927 280.163 146.848 284.769 Q143.793 289.352 137.982 289.352 Q132.172 289.352 129.094 284.769 Q126.038 280.163 126.038 271.436 Q126.038 262.686 129.094 258.103 Q132.172 253.496 137.982 253.496 Z\" fill=\"#000000\" fill-rule=\"nonzero\" fill-opacity=\"1\" /><path clip-path=\"url(#clip270)\" d=\"M495.682 14.324 L495.682 27.2059 L511.035 27.2059 L511.035 32.9987 L495.682 32.9987 L495.682 57.6282 Q495.682 63.1779 497.181 64.7578 Q498.72 66.3376 503.379 66.3376 L511.035 66.3376 L511.035 72.576 L503.379 72.576 Q494.75 72.576 491.469 69.3758 Q488.188 66.1351 488.188 57.6282 L488.188 32.9987 L482.719 32.9987 L482.719 27.2059 L488.188 27.2059 L488.188 14.324 L495.682 14.324 Z\" fill=\"#000000\" fill-rule=\"nonzero\" fill-opacity=\"1\" /><path clip-path=\"url(#clip270)\" d=\"M547.128 34.1734 Q545.873 33.4443 544.374 33.1202 Q542.916 32.7556 541.133 32.7556 Q534.814 32.7556 531.411 36.8875 Q528.049 40.9789 528.049 48.6757 L528.049 72.576 L520.555 72.576 L520.555 27.2059 L528.049 27.2059 L528.049 34.2544 Q530.398 30.1225 534.166 28.1376 Q537.933 26.1121 543.321 26.1121 Q544.09 26.1121 545.022 26.2337 Q545.954 26.3147 547.088 26.5172 L547.128 34.1734 Z\" fill=\"#000000\" fill-rule=\"nonzero\" fill-opacity=\"1\" /><path clip-path=\"url(#clip270)\" d=\"M575.566 49.7694 Q566.532 49.7694 563.049 51.8354 Q559.565 53.9013 559.565 58.8839 Q559.565 62.8538 562.157 65.2034 Q564.79 67.5124 569.287 67.5124 Q575.485 67.5124 579.212 63.1374 Q582.979 58.7219 582.979 51.4303 L582.979 49.7694 L575.566 49.7694 M590.433 46.6907 L590.433 72.576 L582.979 72.576 L582.979 65.6895 Q580.427 69.8214 576.619 71.8063 Q572.811 73.7508 567.302 73.7508 Q560.334 73.7508 556.202 69.8619 Q552.111 65.9325 552.111 59.3701 Q552.111 51.7138 557.215 47.825 Q562.36 43.9361 572.528 43.9361 L582.979 43.9361 L582.979 43.2069 Q582.979 38.0623 579.576 35.2672 Q576.214 32.4315 570.097 32.4315 Q566.208 32.4315 562.522 33.3632 Q558.836 34.295 555.433 36.1584 L555.433 29.2718 Q559.524 27.692 563.373 26.9223 Q567.221 26.1121 570.867 26.1121 Q580.71 26.1121 585.572 31.2163 Q590.433 36.3204 590.433 46.6907 Z\" fill=\"#000000\" fill-rule=\"nonzero\" fill-opacity=\"1\" /><path clip-path=\"url(#clip270)\" d=\"M605.786 27.2059 L613.239 27.2059 L613.239 72.576 L605.786 72.576 L605.786 27.2059 M605.786 9.54393 L613.239 9.54393 L613.239 18.9825 L605.786 18.9825 L605.786 9.54393 Z\" fill=\"#000000\" fill-rule=\"nonzero\" fill-opacity=\"1\" /><path clip-path=\"url(#clip270)\" d=\"M666.549 45.1919 L666.549 72.576 L659.095 72.576 L659.095 45.4349 Q659.095 38.994 656.584 35.7938 Q654.072 32.5936 649.049 32.5936 Q643.013 32.5936 639.53 36.4419 Q636.046 40.2903 636.046 46.9338 L636.046 72.576 L628.552 72.576 L628.552 27.2059 L636.046 27.2059 L636.046 34.2544 Q638.719 30.163 642.325 28.1376 Q645.971 26.1121 650.71 26.1121 Q658.528 26.1121 662.539 30.9732 Q666.549 35.7938 666.549 45.1919 Z\" fill=\"#000000\" fill-rule=\"nonzero\" fill-opacity=\"1\" /><path clip-path=\"url(#clip270)\" d=\"M707.787 9.54393 L715.241 9.54393 L715.241 72.576 L707.787 72.576 L707.787 9.54393 Z\" fill=\"#000000\" fill-rule=\"nonzero\" fill-opacity=\"1\" /><path clip-path=\"url(#clip270)\" d=\"M748.418 32.4315 Q742.423 32.4315 738.939 37.1306 Q735.455 41.7891 735.455 49.9314 Q735.455 58.0738 738.898 62.7728 Q742.382 67.4314 748.418 67.4314 Q754.373 67.4314 757.856 62.7323 Q761.34 58.0333 761.34 49.9314 Q761.34 41.8701 757.856 37.1711 Q754.373 32.4315 748.418 32.4315 M748.418 26.1121 Q758.14 26.1121 763.69 32.4315 Q769.24 38.7509 769.24 49.9314 Q769.24 61.0714 763.69 67.4314 Q758.14 73.7508 748.418 73.7508 Q738.655 73.7508 733.105 67.4314 Q727.596 61.0714 727.596 49.9314 Q727.596 38.7509 733.105 32.4315 Q738.655 26.1121 748.418 26.1121 Z\" fill=\"#000000\" fill-rule=\"nonzero\" fill-opacity=\"1\" /><path clip-path=\"url(#clip270)\" d=\"M810.518 28.5427 L810.518 35.5912 Q807.359 33.9709 803.956 33.1607 Q800.553 32.3505 796.907 32.3505 Q791.357 32.3505 788.562 34.0519 Q785.808 35.7533 785.808 39.156 Q785.808 41.7486 787.793 43.2475 Q789.778 44.7058 795.773 46.0426 L798.325 46.6097 Q806.265 48.3111 809.587 51.4303 Q812.949 54.509 812.949 60.0587 Q812.949 66.3781 807.926 70.0644 Q802.943 73.7508 794.193 73.7508 Q790.547 73.7508 786.577 73.0216 Q782.648 72.3329 778.273 70.9151 L778.273 63.2184 Q782.405 65.3654 786.415 66.4591 Q790.426 67.5124 794.355 67.5124 Q799.621 67.5124 802.457 65.73 Q805.293 63.9071 805.293 60.6258 Q805.293 57.5877 803.227 55.9673 Q801.201 54.3469 794.274 52.8481 L791.682 52.2405 Q784.754 50.7821 781.676 47.7845 Q778.597 44.7463 778.597 39.4801 Q778.597 33.0797 783.134 29.5959 Q787.671 26.1121 796.016 26.1121 Q800.148 26.1121 803.794 26.7198 Q807.44 27.3274 810.518 28.5427 Z\" fill=\"#000000\" fill-rule=\"nonzero\" fill-opacity=\"1\" /><path clip-path=\"url(#clip270)\" d=\"M853.741 28.5427 L853.741 35.5912 Q850.582 33.9709 847.179 33.1607 Q843.776 32.3505 840.13 32.3505 Q834.581 32.3505 831.785 34.0519 Q829.031 35.7533 829.031 39.156 Q829.031 41.7486 831.016 43.2475 Q833.001 44.7058 838.996 46.0426 L841.548 46.6097 Q849.488 48.3111 852.81 51.4303 Q856.172 54.509 856.172 60.0587 Q856.172 66.3781 851.149 70.0644 Q846.166 73.7508 837.416 73.7508 Q833.77 73.7508 829.801 73.0216 Q825.871 72.3329 821.496 70.9151 L821.496 63.2184 Q825.628 65.3654 829.639 66.4591 Q833.649 67.5124 837.578 67.5124 Q842.844 67.5124 845.68 65.73 Q848.516 63.9071 848.516 60.6258 Q848.516 57.5877 846.45 55.9673 Q844.424 54.3469 837.497 52.8481 L834.905 52.2405 Q827.978 50.7821 824.899 47.7845 Q821.82 44.7463 821.82 39.4801 Q821.82 33.0797 826.357 29.5959 Q830.894 26.1121 839.239 26.1121 Q843.371 26.1121 847.017 26.7198 Q850.663 27.3274 853.741 28.5427 Z\" fill=\"#000000\" fill-rule=\"nonzero\" fill-opacity=\"1\" /><polyline clip-path=\"url(#clip272)\" style=\"stroke:#009af9; stroke-linecap:round; stroke-linejoin:round; stroke-width:4; stroke-opacity:1; fill:none\" points=\"213.296,162.047 234.03,284.082 254.764,440.486 275.498,457.329 296.232,589.817 316.966,654.685 337.7,695.111 358.434,708.719 379.168,864.852 399.902,941.097 420.637,934.681 441.371,1070.8 462.105,917.818 482.839,1120.35 503.573,1077.98 524.307,1034.4 545.041,1005.72 565.775,1161 586.509,1166.42 607.243,1111.16 627.977,1283.41 648.711,1059.1 669.446,1302.65 690.18,1226.83 710.914,1150.19 731.648,1120.73 752.382,1278.48 773.116,1253.42 793.85,1180.79 814.584,1378.07 835.318,1123.11 856.052,1391.75 876.786,1302.69 897.52,1208.19 918.254,1186.71 938.989,1342.47 959.723,1303.26 980.457,1224.34 1001.19,1433.39 1021.92,1163.25 1042.66,1447.87 1063.39,1351.01 1084.13,1244.9 1104.86,1233.04 1125.6,1385.37 \"/>\n",
       "<path clip-path=\"url(#clip270)\" d=\"M971.596 272.585 L1120.73 272.585 L1120.73 168.905 L971.596 168.905  Z\" fill=\"#ffffff\" fill-rule=\"evenodd\" fill-opacity=\"1\"/>\n",
       "<polyline clip-path=\"url(#clip270)\" style=\"stroke:#000000; stroke-linecap:round; stroke-linejoin:round; stroke-width:4; stroke-opacity:1; fill:none\" points=\"971.596,272.585 1120.73,272.585 1120.73,168.905 971.596,168.905 971.596,272.585 \"/>\n",
       "<polyline clip-path=\"url(#clip270)\" style=\"stroke:#009af9; stroke-linecap:round; stroke-linejoin:round; stroke-width:4; stroke-opacity:1; fill:none\" points=\"982.34,220.745 1046.81,220.745 \"/>\n",
       "<path clip-path=\"url(#clip270)\" d=\"M1071.4 240.432 Q1069.59 245.062 1067.88 246.474 Q1066.17 247.886 1063.3 247.886 L1059.89 247.886 L1059.89 244.321 L1062.39 244.321 Q1064.15 244.321 1065.12 243.488 Q1066.1 242.654 1067.28 239.552 L1068.04 237.608 L1057.55 212.099 L1062.07 212.099 L1070.17 232.377 L1078.27 212.099 L1082.79 212.099 L1071.4 240.432 Z\" fill=\"#000000\" fill-rule=\"nonzero\" fill-opacity=\"1\" /><path clip-path=\"url(#clip270)\" d=\"M1090.08 234.089 L1097.72 234.089 L1097.72 207.724 L1089.41 209.391 L1089.41 205.131 L1097.67 203.465 L1102.35 203.465 L1102.35 234.089 L1109.98 234.089 L1109.98 238.025 L1090.08 238.025 L1090.08 234.089 Z\" fill=\"#000000\" fill-rule=\"nonzero\" fill-opacity=\"1\" /><path clip-path=\"url(#clip270)\" d=\"M1385.72 1486.45 L2352.76 1486.45 L2352.76 123.472 L1385.72 123.472  Z\" fill=\"#ffffff\" fill-rule=\"evenodd\" fill-opacity=\"1\"/>\n",
       "<defs>\n",
       "  <clipPath id=\"clip273\">\n",
       "    <rect x=\"1385\" y=\"123\" width=\"968\" height=\"1364\"/>\n",
       "  </clipPath>\n",
       "</defs>\n",
       "<polyline clip-path=\"url(#clip273)\" style=\"stroke:#000000; stroke-linecap:round; stroke-linejoin:round; stroke-width:2; stroke-opacity:0.1; fill:none\" points=\"1413.09,1486.45 1413.09,123.472 \"/>\n",
       "<polyline clip-path=\"url(#clip273)\" style=\"stroke:#000000; stroke-linecap:round; stroke-linejoin:round; stroke-width:2; stroke-opacity:0.1; fill:none\" points=\"1641.16,1486.45 1641.16,123.472 \"/>\n",
       "<polyline clip-path=\"url(#clip273)\" style=\"stroke:#000000; stroke-linecap:round; stroke-linejoin:round; stroke-width:2; stroke-opacity:0.1; fill:none\" points=\"1869.24,1486.45 1869.24,123.472 \"/>\n",
       "<polyline clip-path=\"url(#clip273)\" style=\"stroke:#000000; stroke-linecap:round; stroke-linejoin:round; stroke-width:2; stroke-opacity:0.1; fill:none\" points=\"2097.31,1486.45 2097.31,123.472 \"/>\n",
       "<polyline clip-path=\"url(#clip273)\" style=\"stroke:#000000; stroke-linecap:round; stroke-linejoin:round; stroke-width:2; stroke-opacity:0.1; fill:none\" points=\"2325.39,1486.45 2325.39,123.472 \"/>\n",
       "<polyline clip-path=\"url(#clip270)\" style=\"stroke:#000000; stroke-linecap:round; stroke-linejoin:round; stroke-width:4; stroke-opacity:1; fill:none\" points=\"1385.72,1486.45 2352.76,1486.45 \"/>\n",
       "<polyline clip-path=\"url(#clip270)\" style=\"stroke:#000000; stroke-linecap:round; stroke-linejoin:round; stroke-width:4; stroke-opacity:1; fill:none\" points=\"1413.09,1486.45 1413.09,1467.55 \"/>\n",
       "<polyline clip-path=\"url(#clip270)\" style=\"stroke:#000000; stroke-linecap:round; stroke-linejoin:round; stroke-width:4; stroke-opacity:1; fill:none\" points=\"1641.16,1486.45 1641.16,1467.55 \"/>\n",
       "<polyline clip-path=\"url(#clip270)\" style=\"stroke:#000000; stroke-linecap:round; stroke-linejoin:round; stroke-width:4; stroke-opacity:1; fill:none\" points=\"1869.24,1486.45 1869.24,1467.55 \"/>\n",
       "<polyline clip-path=\"url(#clip270)\" style=\"stroke:#000000; stroke-linecap:round; stroke-linejoin:round; stroke-width:4; stroke-opacity:1; fill:none\" points=\"2097.31,1486.45 2097.31,1467.55 \"/>\n",
       "<polyline clip-path=\"url(#clip270)\" style=\"stroke:#000000; stroke-linecap:round; stroke-linejoin:round; stroke-width:4; stroke-opacity:1; fill:none\" points=\"2325.39,1486.45 2325.39,1467.55 \"/>\n",
       "<path clip-path=\"url(#clip270)\" d=\"M1403.47 1544.91 L1411.11 1544.91 L1411.11 1518.55 L1402.8 1520.21 L1402.8 1515.95 L1411.06 1514.29 L1415.74 1514.29 L1415.74 1544.91 L1423.38 1544.91 L1423.38 1548.85 L1403.47 1548.85 L1403.47 1544.91 Z\" fill=\"#000000\" fill-rule=\"nonzero\" fill-opacity=\"1\" /><path clip-path=\"url(#clip270)\" d=\"M1635.82 1544.91 L1652.13 1544.91 L1652.13 1548.85 L1630.19 1548.85 L1630.19 1544.91 Q1632.85 1542.16 1637.44 1537.53 Q1642.04 1532.88 1643.22 1531.53 Q1645.47 1529.01 1646.35 1527.27 Q1647.25 1525.51 1647.25 1523.82 Q1647.25 1521.07 1645.31 1519.33 Q1643.38 1517.6 1640.28 1517.6 Q1638.08 1517.6 1635.63 1518.36 Q1633.2 1519.13 1630.42 1520.68 L1630.42 1515.95 Q1633.25 1514.82 1635.7 1514.24 Q1638.15 1513.66 1640.19 1513.66 Q1645.56 1513.66 1648.75 1516.35 Q1651.95 1519.03 1651.95 1523.52 Q1651.95 1525.65 1651.14 1527.57 Q1650.35 1529.47 1648.25 1532.07 Q1647.67 1532.74 1644.57 1535.95 Q1641.46 1539.15 1635.82 1544.91 Z\" fill=\"#000000\" fill-rule=\"nonzero\" fill-opacity=\"1\" /><path clip-path=\"url(#clip270)\" d=\"M1873.48 1530.21 Q1876.84 1530.93 1878.72 1533.2 Q1880.61 1535.47 1880.61 1538.8 Q1880.61 1543.92 1877.1 1546.72 Q1873.58 1549.52 1867.1 1549.52 Q1864.92 1549.52 1862.61 1549.08 Q1860.31 1548.66 1857.86 1547.81 L1857.86 1543.29 Q1859.8 1544.43 1862.12 1545.01 Q1864.43 1545.58 1866.96 1545.58 Q1871.36 1545.58 1873.65 1543.85 Q1875.96 1542.11 1875.96 1538.8 Q1875.96 1535.75 1873.81 1534.03 Q1871.68 1532.3 1867.86 1532.3 L1863.83 1532.3 L1863.83 1528.45 L1868.05 1528.45 Q1871.49 1528.45 1873.32 1527.09 Q1875.15 1525.7 1875.15 1523.11 Q1875.15 1520.45 1873.25 1519.03 Q1871.38 1517.6 1867.86 1517.6 Q1865.94 1517.6 1863.74 1518.01 Q1861.54 1518.43 1858.9 1519.31 L1858.9 1515.14 Q1861.56 1514.4 1863.88 1514.03 Q1866.22 1513.66 1868.28 1513.66 Q1873.6 1513.66 1876.7 1516.09 Q1879.8 1518.5 1879.8 1522.62 Q1879.8 1525.49 1878.16 1527.48 Q1876.52 1529.45 1873.48 1530.21 Z\" fill=\"#000000\" fill-rule=\"nonzero\" fill-opacity=\"1\" /><path clip-path=\"url(#clip270)\" d=\"M2100.32 1518.36 L2088.52 1536.81 L2100.32 1536.81 L2100.32 1518.36 M2099.09 1514.29 L2104.97 1514.29 L2104.97 1536.81 L2109.9 1536.81 L2109.9 1540.7 L2104.97 1540.7 L2104.97 1548.85 L2100.32 1548.85 L2100.32 1540.7 L2084.72 1540.7 L2084.72 1536.19 L2099.09 1514.29 Z\" fill=\"#000000\" fill-rule=\"nonzero\" fill-opacity=\"1\" /><path clip-path=\"url(#clip270)\" d=\"M2315.66 1514.29 L2334.02 1514.29 L2334.02 1518.22 L2319.95 1518.22 L2319.95 1526.7 Q2320.97 1526.35 2321.98 1526.19 Q2323 1526 2324.02 1526 Q2329.81 1526 2333.19 1529.17 Q2336.57 1532.34 2336.57 1537.76 Q2336.57 1543.34 2333.1 1546.44 Q2329.62 1549.52 2323.3 1549.52 Q2321.13 1549.52 2318.86 1549.15 Q2316.61 1548.78 2314.21 1548.04 L2314.21 1543.34 Q2316.29 1544.47 2318.51 1545.03 Q2320.73 1545.58 2323.21 1545.58 Q2327.22 1545.58 2329.55 1543.48 Q2331.89 1541.37 2331.89 1537.76 Q2331.89 1534.15 2329.55 1532.04 Q2327.22 1529.94 2323.21 1529.94 Q2321.34 1529.94 2319.46 1530.35 Q2317.61 1530.77 2315.66 1531.65 L2315.66 1514.29 Z\" fill=\"#000000\" fill-rule=\"nonzero\" fill-opacity=\"1\" /><polyline clip-path=\"url(#clip273)\" style=\"stroke:#000000; stroke-linecap:round; stroke-linejoin:round; stroke-width:2; stroke-opacity:0.1; fill:none\" points=\"1385.72,1272.12 2352.76,1272.12 \"/>\n",
       "<polyline clip-path=\"url(#clip273)\" style=\"stroke:#000000; stroke-linecap:round; stroke-linejoin:round; stroke-width:2; stroke-opacity:0.1; fill:none\" points=\"1385.72,988.649 2352.76,988.649 \"/>\n",
       "<polyline clip-path=\"url(#clip273)\" style=\"stroke:#000000; stroke-linecap:round; stroke-linejoin:round; stroke-width:2; stroke-opacity:0.1; fill:none\" points=\"1385.72,705.178 2352.76,705.178 \"/>\n",
       "<polyline clip-path=\"url(#clip273)\" style=\"stroke:#000000; stroke-linecap:round; stroke-linejoin:round; stroke-width:2; stroke-opacity:0.1; fill:none\" points=\"1385.72,421.707 2352.76,421.707 \"/>\n",
       "<polyline clip-path=\"url(#clip273)\" style=\"stroke:#000000; stroke-linecap:round; stroke-linejoin:round; stroke-width:2; stroke-opacity:0.1; fill:none\" points=\"1385.72,138.235 2352.76,138.235 \"/>\n",
       "<polyline clip-path=\"url(#clip270)\" style=\"stroke:#000000; stroke-linecap:round; stroke-linejoin:round; stroke-width:4; stroke-opacity:1; fill:none\" points=\"1385.72,1486.45 1385.72,123.472 \"/>\n",
       "<polyline clip-path=\"url(#clip270)\" style=\"stroke:#000000; stroke-linecap:round; stroke-linejoin:round; stroke-width:4; stroke-opacity:1; fill:none\" points=\"1385.72,1272.12 1404.62,1272.12 \"/>\n",
       "<polyline clip-path=\"url(#clip270)\" style=\"stroke:#000000; stroke-linecap:round; stroke-linejoin:round; stroke-width:4; stroke-opacity:1; fill:none\" points=\"1385.72,988.649 1404.62,988.649 \"/>\n",
       "<polyline clip-path=\"url(#clip270)\" style=\"stroke:#000000; stroke-linecap:round; stroke-linejoin:round; stroke-width:4; stroke-opacity:1; fill:none\" points=\"1385.72,705.178 1404.62,705.178 \"/>\n",
       "<polyline clip-path=\"url(#clip270)\" style=\"stroke:#000000; stroke-linecap:round; stroke-linejoin:round; stroke-width:4; stroke-opacity:1; fill:none\" points=\"1385.72,421.707 1404.62,421.707 \"/>\n",
       "<polyline clip-path=\"url(#clip270)\" style=\"stroke:#000000; stroke-linecap:round; stroke-linejoin:round; stroke-width:4; stroke-opacity:1; fill:none\" points=\"1385.72,138.235 1404.62,138.235 \"/>\n",
       "<path clip-path=\"url(#clip270)\" d=\"M1263.96 1270.26 Q1260.81 1270.26 1258.96 1272.41 Q1257.13 1274.56 1257.13 1278.31 Q1257.13 1282.04 1258.96 1284.22 Q1260.81 1286.37 1263.96 1286.37 Q1267.1 1286.37 1268.93 1284.22 Q1270.78 1282.04 1270.78 1278.31 Q1270.78 1274.56 1268.93 1272.41 Q1267.1 1270.26 1263.96 1270.26 M1273.24 1255.6 L1273.24 1259.86 Q1271.48 1259.03 1269.67 1258.59 Q1267.89 1258.15 1266.13 1258.15 Q1261.5 1258.15 1259.05 1261.28 Q1256.62 1264.4 1256.27 1270.72 Q1257.64 1268.71 1259.7 1267.64 Q1261.76 1266.55 1264.23 1266.55 Q1269.44 1266.55 1272.45 1269.73 Q1275.48 1272.87 1275.48 1278.31 Q1275.48 1283.64 1272.33 1286.85 Q1269.19 1290.07 1263.96 1290.07 Q1257.96 1290.07 1254.79 1285.49 Q1251.62 1280.88 1251.62 1272.16 Q1251.62 1263.96 1255.51 1259.1 Q1259.39 1254.22 1265.95 1254.22 Q1267.7 1254.22 1269.49 1254.56 Q1271.29 1254.91 1273.24 1255.6 Z\" fill=\"#000000\" fill-rule=\"nonzero\" fill-opacity=\"1\" /><path clip-path=\"url(#clip270)\" d=\"M1282.36 1254.84 L1304.58 1254.84 L1304.58 1256.83 L1292.03 1289.4 L1287.15 1289.4 L1298.95 1258.78 L1282.36 1258.78 L1282.36 1254.84 Z\" fill=\"#000000\" fill-rule=\"nonzero\" fill-opacity=\"1\" /><path clip-path=\"url(#clip270)\" d=\"M1313.7 1283.52 L1318.58 1283.52 L1318.58 1289.4 L1313.7 1289.4 L1313.7 1283.52 Z\" fill=\"#000000\" fill-rule=\"nonzero\" fill-opacity=\"1\" /><path clip-path=\"url(#clip270)\" d=\"M1328.82 1254.84 L1347.17 1254.84 L1347.17 1258.78 L1333.1 1258.78 L1333.1 1267.25 Q1334.12 1266.9 1335.14 1266.74 Q1336.15 1266.55 1337.17 1266.55 Q1342.96 1266.55 1346.34 1269.73 Q1349.72 1272.9 1349.72 1278.31 Q1349.72 1283.89 1346.25 1286.99 Q1342.77 1290.07 1336.45 1290.07 Q1334.28 1290.07 1332.01 1289.7 Q1329.76 1289.33 1327.36 1288.59 L1327.36 1283.89 Q1329.44 1285.03 1331.66 1285.58 Q1333.89 1286.14 1336.36 1286.14 Q1340.37 1286.14 1342.7 1284.03 Q1345.04 1281.92 1345.04 1278.31 Q1345.04 1274.7 1342.7 1272.6 Q1340.37 1270.49 1336.36 1270.49 Q1334.49 1270.49 1332.61 1270.91 Q1330.76 1271.32 1328.82 1272.2 L1328.82 1254.84 Z\" fill=\"#000000\" fill-rule=\"nonzero\" fill-opacity=\"1\" /><path clip-path=\"url(#clip270)\" d=\"M1251.2 971.369 L1273.42 971.369 L1273.42 973.36 L1260.88 1005.93 L1255.99 1005.93 L1267.8 975.305 L1251.2 975.305 L1251.2 971.369 Z\" fill=\"#000000\" fill-rule=\"nonzero\" fill-opacity=\"1\" /><path clip-path=\"url(#clip270)\" d=\"M1292.54 974.448 Q1288.93 974.448 1287.1 978.013 Q1285.3 981.555 1285.3 988.684 Q1285.3 995.791 1287.1 999.355 Q1288.93 1002.9 1292.54 1002.9 Q1296.18 1002.9 1297.98 999.355 Q1299.81 995.791 1299.81 988.684 Q1299.81 981.555 1297.98 978.013 Q1296.18 974.448 1292.54 974.448 M1292.54 970.744 Q1298.35 970.744 1301.41 975.351 Q1304.49 979.934 1304.49 988.684 Q1304.49 997.411 1301.41 1002.02 Q1298.35 1006.6 1292.54 1006.6 Q1286.73 1006.6 1283.65 1002.02 Q1280.6 997.411 1280.6 988.684 Q1280.6 979.934 1283.65 975.351 Q1286.73 970.744 1292.54 970.744 Z\" fill=\"#000000\" fill-rule=\"nonzero\" fill-opacity=\"1\" /><path clip-path=\"url(#clip270)\" d=\"M1312.7 1000.05 L1317.59 1000.05 L1317.59 1005.93 L1312.7 1005.93 L1312.7 1000.05 Z\" fill=\"#000000\" fill-rule=\"nonzero\" fill-opacity=\"1\" /><path clip-path=\"url(#clip270)\" d=\"M1337.77 974.448 Q1334.16 974.448 1332.33 978.013 Q1330.53 981.555 1330.53 988.684 Q1330.53 995.791 1332.33 999.355 Q1334.16 1002.9 1337.77 1002.9 Q1341.41 1002.9 1343.21 999.355 Q1345.04 995.791 1345.04 988.684 Q1345.04 981.555 1343.21 978.013 Q1341.41 974.448 1337.77 974.448 M1337.77 970.744 Q1343.58 970.744 1346.64 975.351 Q1349.72 979.934 1349.72 988.684 Q1349.72 997.411 1346.64 1002.02 Q1343.58 1006.6 1337.77 1006.6 Q1331.96 1006.6 1328.89 1002.02 Q1325.83 997.411 1325.83 988.684 Q1325.83 979.934 1328.89 975.351 Q1331.96 970.744 1337.77 970.744 Z\" fill=\"#000000\" fill-rule=\"nonzero\" fill-opacity=\"1\" /><path clip-path=\"url(#clip270)\" d=\"M1252.2 687.898 L1274.42 687.898 L1274.42 689.889 L1261.87 722.458 L1256.99 722.458 L1268.79 691.833 L1252.2 691.833 L1252.2 687.898 Z\" fill=\"#000000\" fill-rule=\"nonzero\" fill-opacity=\"1\" /><path clip-path=\"url(#clip270)\" d=\"M1287.57 718.523 L1303.89 718.523 L1303.89 722.458 L1281.94 722.458 L1281.94 718.523 Q1284.6 715.768 1289.19 711.139 Q1293.79 706.486 1294.97 705.143 Q1297.22 702.62 1298.1 700.884 Q1299 699.125 1299 697.435 Q1299 694.68 1297.06 692.944 Q1295.14 691.208 1292.03 691.208 Q1289.83 691.208 1287.38 691.972 Q1284.95 692.736 1282.17 694.287 L1282.17 689.565 Q1285 688.43 1287.45 687.852 Q1289.9 687.273 1291.94 687.273 Q1297.31 687.273 1300.51 689.958 Q1303.7 692.643 1303.7 697.134 Q1303.7 699.264 1302.89 701.185 Q1302.1 703.083 1300 705.676 Q1299.42 706.347 1296.32 709.565 Q1293.21 712.759 1287.57 718.523 Z\" fill=\"#000000\" fill-rule=\"nonzero\" fill-opacity=\"1\" /><path clip-path=\"url(#clip270)\" d=\"M1313.7 716.578 L1318.58 716.578 L1318.58 722.458 L1313.7 722.458 L1313.7 716.578 Z\" fill=\"#000000\" fill-rule=\"nonzero\" fill-opacity=\"1\" /><path clip-path=\"url(#clip270)\" d=\"M1328.82 687.898 L1347.17 687.898 L1347.17 691.833 L1333.1 691.833 L1333.1 700.305 Q1334.12 699.958 1335.14 699.796 Q1336.15 699.611 1337.17 699.611 Q1342.96 699.611 1346.34 702.782 Q1349.72 705.954 1349.72 711.37 Q1349.72 716.949 1346.25 720.051 Q1342.77 723.129 1336.45 723.129 Q1334.28 723.129 1332.01 722.759 Q1329.76 722.389 1327.36 721.648 L1327.36 716.949 Q1329.44 718.083 1331.66 718.639 Q1333.89 719.194 1336.36 719.194 Q1340.37 719.194 1342.7 717.088 Q1345.04 714.981 1345.04 711.37 Q1345.04 707.759 1342.7 705.653 Q1340.37 703.546 1336.36 703.546 Q1334.49 703.546 1332.61 703.963 Q1330.76 704.379 1328.82 705.259 L1328.82 687.898 Z\" fill=\"#000000\" fill-rule=\"nonzero\" fill-opacity=\"1\" /><path clip-path=\"url(#clip270)\" d=\"M1251.2 404.427 L1273.42 404.427 L1273.42 406.417 L1260.88 438.987 L1255.99 438.987 L1267.8 408.362 L1251.2 408.362 L1251.2 404.427 Z\" fill=\"#000000\" fill-rule=\"nonzero\" fill-opacity=\"1\" /><path clip-path=\"url(#clip270)\" d=\"M1282.59 404.427 L1300.95 404.427 L1300.95 408.362 L1286.87 408.362 L1286.87 416.834 Q1287.89 416.487 1288.91 416.325 Q1289.93 416.14 1290.95 416.14 Q1296.73 416.14 1300.11 419.311 Q1303.49 422.482 1303.49 427.899 Q1303.49 433.477 1300.02 436.579 Q1296.55 439.658 1290.23 439.658 Q1288.05 439.658 1285.78 439.288 Q1283.54 438.917 1281.13 438.177 L1281.13 433.477 Q1283.21 434.612 1285.44 435.167 Q1287.66 435.723 1290.14 435.723 Q1294.14 435.723 1296.48 433.616 Q1298.82 431.51 1298.82 427.899 Q1298.82 424.288 1296.48 422.181 Q1294.14 420.075 1290.14 420.075 Q1288.26 420.075 1286.39 420.491 Q1284.53 420.908 1282.59 421.788 L1282.59 404.427 Z\" fill=\"#000000\" fill-rule=\"nonzero\" fill-opacity=\"1\" /><path clip-path=\"url(#clip270)\" d=\"M1312.7 433.107 L1317.59 433.107 L1317.59 438.987 L1312.7 438.987 L1312.7 433.107 Z\" fill=\"#000000\" fill-rule=\"nonzero\" fill-opacity=\"1\" /><path clip-path=\"url(#clip270)\" d=\"M1337.77 407.505 Q1334.16 407.505 1332.33 411.07 Q1330.53 414.612 1330.53 421.741 Q1330.53 428.848 1332.33 432.413 Q1334.16 435.954 1337.77 435.954 Q1341.41 435.954 1343.21 432.413 Q1345.04 428.848 1345.04 421.741 Q1345.04 414.612 1343.21 411.07 Q1341.41 407.505 1337.77 407.505 M1337.77 403.802 Q1343.58 403.802 1346.64 408.408 Q1349.72 412.991 1349.72 421.741 Q1349.72 430.468 1346.64 435.075 Q1343.58 439.658 1337.77 439.658 Q1331.96 439.658 1328.89 435.075 Q1325.83 430.468 1325.83 421.741 Q1325.83 412.991 1328.89 408.408 Q1331.96 403.802 1337.77 403.802 Z\" fill=\"#000000\" fill-rule=\"nonzero\" fill-opacity=\"1\" /><path clip-path=\"url(#clip270)\" d=\"M1252.2 120.955 L1274.42 120.955 L1274.42 122.946 L1261.87 155.515 L1256.99 155.515 L1268.79 124.89 L1252.2 124.89 L1252.2 120.955 Z\" fill=\"#000000\" fill-rule=\"nonzero\" fill-opacity=\"1\" /><path clip-path=\"url(#clip270)\" d=\"M1282.36 120.955 L1304.58 120.955 L1304.58 122.946 L1292.03 155.515 L1287.15 155.515 L1298.95 124.89 L1282.36 124.89 L1282.36 120.955 Z\" fill=\"#000000\" fill-rule=\"nonzero\" fill-opacity=\"1\" /><path clip-path=\"url(#clip270)\" d=\"M1313.7 149.636 L1318.58 149.636 L1318.58 155.515 L1313.7 155.515 L1313.7 149.636 Z\" fill=\"#000000\" fill-rule=\"nonzero\" fill-opacity=\"1\" /><path clip-path=\"url(#clip270)\" d=\"M1328.82 120.955 L1347.17 120.955 L1347.17 124.89 L1333.1 124.89 L1333.1 133.363 Q1334.12 133.015 1335.14 132.853 Q1336.15 132.668 1337.17 132.668 Q1342.96 132.668 1346.34 135.839 Q1349.72 139.011 1349.72 144.427 Q1349.72 150.006 1346.25 153.108 Q1342.77 156.187 1336.45 156.187 Q1334.28 156.187 1332.01 155.816 Q1329.76 155.446 1327.36 154.705 L1327.36 150.006 Q1329.44 151.14 1331.66 151.696 Q1333.89 152.251 1336.36 152.251 Q1340.37 152.251 1342.7 150.145 Q1345.04 148.039 1345.04 144.427 Q1345.04 140.816 1342.7 138.71 Q1340.37 136.603 1336.36 136.603 Q1334.49 136.603 1332.61 137.02 Q1330.76 137.437 1328.82 138.316 L1328.82 120.955 Z\" fill=\"#000000\" fill-rule=\"nonzero\" fill-opacity=\"1\" /><path clip-path=\"url(#clip270)\" d=\"M1604.55 14.324 L1604.55 27.2059 L1619.9 27.2059 L1619.9 32.9987 L1604.55 32.9987 L1604.55 57.6282 Q1604.55 63.1779 1606.05 64.7578 Q1607.59 66.3376 1612.25 66.3376 L1619.9 66.3376 L1619.9 72.576 L1612.25 72.576 Q1603.62 72.576 1600.34 69.3758 Q1597.06 66.1351 1597.06 57.6282 L1597.06 32.9987 L1591.59 32.9987 L1591.59 27.2059 L1597.06 27.2059 L1597.06 14.324 L1604.55 14.324 Z\" fill=\"#000000\" fill-rule=\"nonzero\" fill-opacity=\"1\" /><path clip-path=\"url(#clip270)\" d=\"M1668.51 48.0275 L1668.51 51.6733 L1634.24 51.6733 Q1634.73 59.3701 1638.86 63.421 Q1643.03 67.4314 1650.45 67.4314 Q1654.74 67.4314 1658.75 66.3781 Q1662.8 65.3249 1666.77 63.2184 L1666.77 70.267 Q1662.76 71.9684 1658.55 72.8596 Q1654.34 73.7508 1650 73.7508 Q1639.15 73.7508 1632.79 67.4314 Q1626.47 61.1119 1626.47 50.3365 Q1626.47 39.1965 1632.46 32.6746 Q1638.5 26.1121 1648.71 26.1121 Q1657.86 26.1121 1663.17 32.0264 Q1668.51 37.9003 1668.51 48.0275 M1661.06 45.84 Q1660.98 39.7232 1657.62 36.0774 Q1654.3 32.4315 1648.79 32.4315 Q1642.55 32.4315 1638.78 35.9558 Q1635.05 39.4801 1634.49 45.8805 L1661.06 45.84 Z\" fill=\"#000000\" fill-rule=\"nonzero\" fill-opacity=\"1\" /><path clip-path=\"url(#clip270)\" d=\"M1709.67 28.5427 L1709.67 35.5912 Q1706.51 33.9709 1703.11 33.1607 Q1699.71 32.3505 1696.06 32.3505 Q1690.51 32.3505 1687.72 34.0519 Q1684.96 35.7533 1684.96 39.156 Q1684.96 41.7486 1686.95 43.2475 Q1688.93 44.7058 1694.93 46.0426 L1697.48 46.6097 Q1705.42 48.3111 1708.74 51.4303 Q1712.1 54.509 1712.1 60.0587 Q1712.1 66.3781 1707.08 70.0644 Q1702.1 73.7508 1693.35 73.7508 Q1689.7 73.7508 1685.73 73.0216 Q1681.8 72.3329 1677.43 70.9151 L1677.43 63.2184 Q1681.56 65.3654 1685.57 66.4591 Q1689.58 67.5124 1693.51 67.5124 Q1698.78 67.5124 1701.61 65.73 Q1704.45 63.9071 1704.45 60.6258 Q1704.45 57.5877 1702.38 55.9673 Q1700.35 54.3469 1693.43 52.8481 L1690.84 52.2405 Q1683.91 50.7821 1680.83 47.7845 Q1677.75 44.7463 1677.75 39.4801 Q1677.75 33.0797 1682.29 29.5959 Q1686.82 26.1121 1695.17 26.1121 Q1699.3 26.1121 1702.95 26.7198 Q1706.59 27.3274 1709.67 28.5427 Z\" fill=\"#000000\" fill-rule=\"nonzero\" fill-opacity=\"1\" /><path clip-path=\"url(#clip270)\" d=\"M1731.34 14.324 L1731.34 27.2059 L1746.7 27.2059 L1746.7 32.9987 L1731.34 32.9987 L1731.34 57.6282 Q1731.34 63.1779 1732.84 64.7578 Q1734.38 66.3376 1739.04 66.3376 L1746.7 66.3376 L1746.7 72.576 L1739.04 72.576 Q1730.41 72.576 1727.13 69.3758 Q1723.85 66.1351 1723.85 57.6282 L1723.85 32.9987 L1718.38 32.9987 L1718.38 27.2059 L1723.85 27.2059 L1723.85 14.324 L1731.34 14.324 Z\" fill=\"#000000\" fill-rule=\"nonzero\" fill-opacity=\"1\" /><path clip-path=\"url(#clip270)\" d=\"M1803.49 49.7694 Q1794.46 49.7694 1790.97 51.8354 Q1787.49 53.9013 1787.49 58.8839 Q1787.49 62.8538 1790.08 65.2034 Q1792.72 67.5124 1797.21 67.5124 Q1803.41 67.5124 1807.14 63.1374 Q1810.9 58.7219 1810.9 51.4303 L1810.9 49.7694 L1803.49 49.7694 M1818.36 46.6907 L1818.36 72.576 L1810.9 72.576 L1810.9 65.6895 Q1808.35 69.8214 1804.54 71.8063 Q1800.74 73.7508 1795.23 73.7508 Q1788.26 73.7508 1784.13 69.8619 Q1780.04 65.9325 1780.04 59.3701 Q1780.04 51.7138 1785.14 47.825 Q1790.29 43.9361 1800.45 43.9361 L1810.9 43.9361 L1810.9 43.2069 Q1810.9 38.0623 1807.5 35.2672 Q1804.14 32.4315 1798.02 32.4315 Q1794.13 32.4315 1790.45 33.3632 Q1786.76 34.295 1783.36 36.1584 L1783.36 29.2718 Q1787.45 27.692 1791.3 26.9223 Q1795.15 26.1121 1798.79 26.1121 Q1808.64 26.1121 1813.5 31.2163 Q1818.36 36.3204 1818.36 46.6907 Z\" fill=\"#000000\" fill-rule=\"nonzero\" fill-opacity=\"1\" /><path clip-path=\"url(#clip270)\" d=\"M1866.36 28.9478 L1866.36 35.9153 Q1863.2 34.1734 1860 33.3227 Q1856.84 32.4315 1853.6 32.4315 Q1846.35 32.4315 1842.34 37.0496 Q1838.33 41.6271 1838.33 49.9314 Q1838.33 58.2358 1842.34 62.8538 Q1846.35 67.4314 1853.6 67.4314 Q1856.84 67.4314 1860 66.5807 Q1863.2 65.6895 1866.36 63.9476 L1866.36 70.8341 Q1863.24 72.2924 1859.88 73.0216 Q1856.56 73.7508 1852.79 73.7508 Q1842.54 73.7508 1836.51 67.3098 Q1830.47 60.8689 1830.47 49.9314 Q1830.47 38.832 1836.55 32.472 Q1842.66 26.1121 1853.28 26.1121 Q1856.72 26.1121 1860 26.8413 Q1863.28 27.5299 1866.36 28.9478 Z\" fill=\"#000000\" fill-rule=\"nonzero\" fill-opacity=\"1\" /><path clip-path=\"url(#clip270)\" d=\"M1911.97 28.9478 L1911.97 35.9153 Q1908.81 34.1734 1905.61 33.3227 Q1902.45 32.4315 1899.21 32.4315 Q1891.96 32.4315 1887.95 37.0496 Q1883.94 41.6271 1883.94 49.9314 Q1883.94 58.2358 1887.95 62.8538 Q1891.96 67.4314 1899.21 67.4314 Q1902.45 67.4314 1905.61 66.5807 Q1908.81 65.6895 1911.97 63.9476 L1911.97 70.8341 Q1908.86 72.2924 1905.49 73.0216 Q1902.17 73.7508 1898.4 73.7508 Q1888.15 73.7508 1882.12 67.3098 Q1876.08 60.8689 1876.08 49.9314 Q1876.08 38.832 1882.16 32.472 Q1888.28 26.1121 1898.89 26.1121 Q1902.33 26.1121 1905.61 26.8413 Q1908.9 27.5299 1911.97 28.9478 Z\" fill=\"#000000\" fill-rule=\"nonzero\" fill-opacity=\"1\" /><path clip-path=\"url(#clip270)\" d=\"M1924.17 54.671 L1924.17 27.2059 L1931.62 27.2059 L1931.62 54.3874 Q1931.62 60.8284 1934.13 64.0691 Q1936.64 67.2693 1941.67 67.2693 Q1947.7 67.2693 1951.19 63.421 Q1954.71 59.5726 1954.71 52.9291 L1954.71 27.2059 L1962.16 27.2059 L1962.16 72.576 L1954.71 72.576 L1954.71 65.6084 Q1952 69.7404 1948.39 71.7658 Q1944.83 73.7508 1940.09 73.7508 Q1932.27 73.7508 1928.22 68.8897 Q1924.17 64.0286 1924.17 54.671 M1942.92 26.1121 L1942.92 26.1121 Z\" fill=\"#000000\" fill-rule=\"nonzero\" fill-opacity=\"1\" /><path clip-path=\"url(#clip270)\" d=\"M2003.81 34.1734 Q2002.55 33.4443 2001.05 33.1202 Q1999.6 32.7556 1997.81 32.7556 Q1991.49 32.7556 1988.09 36.8875 Q1984.73 40.9789 1984.73 48.6757 L1984.73 72.576 L1977.23 72.576 L1977.23 27.2059 L1984.73 27.2059 L1984.73 34.2544 Q1987.08 30.1225 1990.85 28.1376 Q1994.61 26.1121 2000 26.1121 Q2000.77 26.1121 2001.7 26.2337 Q2002.63 26.3147 2003.77 26.5172 L2003.81 34.1734 Z\" fill=\"#000000\" fill-rule=\"nonzero\" fill-opacity=\"1\" /><path clip-path=\"url(#clip270)\" d=\"M2032.25 49.7694 Q2023.21 49.7694 2019.73 51.8354 Q2016.24 53.9013 2016.24 58.8839 Q2016.24 62.8538 2018.84 65.2034 Q2021.47 67.5124 2025.97 67.5124 Q2032.16 67.5124 2035.89 63.1374 Q2039.66 58.7219 2039.66 51.4303 L2039.66 49.7694 L2032.25 49.7694 M2047.11 46.6907 L2047.11 72.576 L2039.66 72.576 L2039.66 65.6895 Q2037.11 69.8214 2033.3 71.8063 Q2029.49 73.7508 2023.98 73.7508 Q2017.01 73.7508 2012.88 69.8619 Q2008.79 65.9325 2008.79 59.3701 Q2008.79 51.7138 2013.89 47.825 Q2019.04 43.9361 2029.21 43.9361 L2039.66 43.9361 L2039.66 43.2069 Q2039.66 38.0623 2036.26 35.2672 Q2032.89 32.4315 2026.78 32.4315 Q2022.89 32.4315 2019.2 33.3632 Q2015.52 34.295 2012.11 36.1584 L2012.11 29.2718 Q2016.2 27.692 2020.05 26.9223 Q2023.9 26.1121 2027.55 26.1121 Q2037.39 26.1121 2042.25 31.2163 Q2047.11 36.3204 2047.11 46.6907 Z\" fill=\"#000000\" fill-rule=\"nonzero\" fill-opacity=\"1\" /><path clip-path=\"url(#clip270)\" d=\"M2095.12 28.9478 L2095.12 35.9153 Q2091.96 34.1734 2088.76 33.3227 Q2085.6 32.4315 2082.36 32.4315 Q2075.1 32.4315 2071.09 37.0496 Q2067.08 41.6271 2067.08 49.9314 Q2067.08 58.2358 2071.09 62.8538 Q2075.1 67.4314 2082.36 67.4314 Q2085.6 67.4314 2088.76 66.5807 Q2091.96 65.6895 2095.12 63.9476 L2095.12 70.8341 Q2092 72.2924 2088.63 73.0216 Q2085.31 73.7508 2081.55 73.7508 Q2071.3 73.7508 2065.26 67.3098 Q2059.22 60.8689 2059.22 49.9314 Q2059.22 38.832 2065.3 32.472 Q2071.42 26.1121 2082.03 26.1121 Q2085.47 26.1121 2088.76 26.8413 Q2092.04 27.5299 2095.12 28.9478 Z\" fill=\"#000000\" fill-rule=\"nonzero\" fill-opacity=\"1\" /><path clip-path=\"url(#clip270)\" d=\"M2126.96 76.7889 Q2123.8 84.8907 2120.8 87.3618 Q2117.8 89.8329 2112.78 89.8329 L2106.82 89.8329 L2106.82 83.5945 L2111.2 83.5945 Q2114.28 83.5945 2115.98 82.1361 Q2117.68 80.6778 2119.75 75.2496 L2121.08 71.8468 L2102.73 27.2059 L2110.63 27.2059 L2124.81 62.6918 L2138.99 27.2059 L2146.89 27.2059 L2126.96 76.7889 Z\" fill=\"#000000\" fill-rule=\"nonzero\" fill-opacity=\"1\" /><polyline clip-path=\"url(#clip273)\" style=\"stroke:#009af9; stroke-linecap:round; stroke-linejoin:round; stroke-width:4; stroke-opacity:1; fill:none\" points=\"1413.09,1447.87 1641.16,840.11 1869.24,489.74 2097.31,296.979 2325.39,162.047 \"/>\n",
       "<path clip-path=\"url(#clip270)\" d=\"M1417.95 272.585 L1567.09 272.585 L1567.09 168.905 L1417.95 168.905  Z\" fill=\"#ffffff\" fill-rule=\"evenodd\" fill-opacity=\"1\"/>\n",
       "<polyline clip-path=\"url(#clip270)\" style=\"stroke:#000000; stroke-linecap:round; stroke-linejoin:round; stroke-width:4; stroke-opacity:1; fill:none\" points=\"1417.95,272.585 1567.09,272.585 1567.09,168.905 1417.95,168.905 1417.95,272.585 \"/>\n",
       "<polyline clip-path=\"url(#clip270)\" style=\"stroke:#009af9; stroke-linecap:round; stroke-linejoin:round; stroke-width:4; stroke-opacity:1; fill:none\" points=\"1428.7,220.745 1493.17,220.745 \"/>\n",
       "<path clip-path=\"url(#clip270)\" d=\"M1517.75 240.432 Q1515.95 245.062 1514.24 246.474 Q1512.52 247.886 1509.65 247.886 L1506.25 247.886 L1506.25 244.321 L1508.75 244.321 Q1510.51 244.321 1511.48 243.488 Q1512.45 242.654 1513.63 239.552 L1514.4 237.608 L1503.91 212.099 L1508.43 212.099 L1516.53 232.377 L1524.63 212.099 L1529.14 212.099 L1517.75 240.432 Z\" fill=\"#000000\" fill-rule=\"nonzero\" fill-opacity=\"1\" /><path clip-path=\"url(#clip270)\" d=\"M1536.43 234.089 L1544.07 234.089 L1544.07 207.724 L1535.76 209.391 L1535.76 205.131 L1544.03 203.465 L1548.7 203.465 L1548.7 234.089 L1556.34 234.089 L1556.34 238.025 L1536.43 238.025 L1536.43 234.089 Z\" fill=\"#000000\" fill-rule=\"nonzero\" fill-opacity=\"1\" /></svg>\n"
      ]
     },
     "execution_count": 33,
     "metadata": {},
     "output_type": "execute_result"
    }
   ],
   "source": [
    "p1 = Plots.plot(losses, title = \"train loss\")\n",
    "p2 = Plots.plot(accu, title = \"test accuracy\")\n",
    "Plots.plot(p1, p2)"
   ]
  },
  {
   "cell_type": "markdown",
   "id": "bd65ca00-f66d-4e32-aa6b-b6a52168b5b5",
   "metadata": {},
   "source": [
    "### 모델 저장 및 로딩"
   ]
  },
  {
   "cell_type": "markdown",
   "id": "8dcf96eb-e109-4110-8bce-afb4b59aaa7a",
   "metadata": {},
   "source": [
    "모델은 일반적인 줄리아 복합 타입이기 때문에, 어떠한 줄리아 객체 저장 형식을 사용해도 되지만 BSON.jl 패키지를 이용하는 BSON(Binary JSON) 포맷을 가장 많이 사용하는 편이다."
   ]
  },
  {
   "cell_type": "code",
   "execution_count": 34,
   "id": "fda6df30-c783-4f10-a2e0-5dd6fa058ec5",
   "metadata": {},
   "outputs": [],
   "source": [
    "using BSON: @save\n",
    "\n",
    "@save \"mnist_mlp.bson\" m = Flux.cpu(model)"
   ]
  },
  {
   "cell_type": "markdown",
   "id": "a7460edf-6ca1-46a2-8330-0f85e04dc3bd",
   "metadata": {},
   "source": [
    "**(코드 설명)** \n",
    "\n",
    "- 위 코드는 모델을 CPU로 보낸 후 m 이라는 키값으로 bson 파일에 저장함\n",
    "- 모델이 GPU 장치에 있는 상태에서 저장할 경우, GPU를 지원하지 않는 컴퓨터에서는 모델 로딩이 실패할 수 있음"
   ]
  },
  {
   "cell_type": "code",
   "execution_count": 35,
   "id": "c74849e9-7a9f-4ea5-8890-d646004716bb",
   "metadata": {},
   "outputs": [],
   "source": [
    "# 모델 로딩\n",
    "\n",
    "using BSON: @load\n",
    "import Flux, NNlib\n",
    "@load \"mnist_mlp.bson\" m"
   ]
  },
  {
   "cell_type": "markdown",
   "id": "7762ac4c-5edc-4c99-ae61-a28ee4c7f3ec",
   "metadata": {},
   "source": [
    "bson 파일의 m 키값으로 저장된 모델을 불러온다. 이때 플럭스와 NNlib 패키지가 임포트되어 있어야 에러 없이 로딩이 된다. \n",
    "앞서 정의했던 get_data 함수를 이용하여 로딩된 모델을 테스트해보면 다음과 같음"
   ]
  },
  {
   "cell_type": "code",
   "execution_count": 39,
   "id": "9303d7cb-1d84-4c81-9352-dd8130b50d9d",
   "metadata": {},
   "outputs": [
    {
     "data": {
      "text/plain": [
       "([9, 2, 1, 1, 6, 1, 4, 4, 7, 7  …  4, 2, 8, 4, 8, 0, 7, 7, 8, 5], [9, 2, 1, 1, 6, 1, 4, 6, 5, 7  …  2, 2, 8, 4, 8, 0, 7, 7, 8, 5])"
      ]
     },
     "execution_count": 39,
     "metadata": {},
     "output_type": "execute_result"
    }
   ],
   "source": [
    "import MLDatasets\n",
    "using Flux: onehotbatch\n",
    "using MLUtils: DataLoader\n",
    "\n",
    "# function get_data(batchsize = 64) ~~ \n",
    "_, test_loader = get_data();\n",
    "(X, y) = first(test_loader);\n",
    "Flux.onecold(m(X)).-1, Flux.onecold(y).-1"
   ]
  },
  {
   "cell_type": "markdown",
   "id": "02b7518d-d8f7-432c-b87e-a54908d2041e",
   "metadata": {},
   "source": [
    "마지막 명령의 결과를 보면, 모델의 예측 결과인 m(X)가 타깃 y와 대체로 일치하여 학습된 모델이 잘 저장되고 로딩되었음을 알 수 있음"
   ]
  },
  {
   "cell_type": "markdown",
   "id": "81182ed1-ff1a-4677-9061-b349b548f62b",
   "metadata": {},
   "source": [
    "|패키지 | 역할 |\n",
    "|:-----:|:---------:|\n",
    "Flux.jl | 다양한 신경망 계층 타입 및 손실 함수 제공|\n",
    "NNlib.jl | 활성화 함수, 합성곱 함수 등 신경망 구현에 필요한 함수 제공(플럭스에서 내부적으로 사용)\n",
    "Zygote.jl | 자동 미분으로 모델 파라미터에 대한 손실의 기울기 계산\n",
    "Optimisers.jl | ADAM 등 최적화 로직 및 모델 업데이트 함수 제공\n",
    "Functors.jl  | 모델 파라미터에 함수 적용을 가능하게 함\n",
    "MLUtils.jl  | 데이터 로더 등 파이프라인 관련 기능 제공\n",
    "MLDatasets.jl | 데이터 셋 제공"
   ]
  },
  {
   "cell_type": "markdown",
   "id": "e17aa06d-b5f3-415a-888b-508b71cb1da3",
   "metadata": {},
   "source": [
    "독립된 패키지들이 각 기능을 담당하기 때문에 필요에 따라 특정 기능은 유사한 기능을 제공하는 다른 패키지를 사용할 수도 있음\n",
    "\n",
    "- 예를 들어 신경망 계층 타입은 Flux.jl 대신 Lux.jl를 사용한다거나, 자동 미분을 소스 코드 변환 방식의 Zygote.jl 대신 트레이싱 방식의 Yota.jl을 사용하는 식이다."
   ]
  }
 ],
 "metadata": {
  "kernelspec": {
   "display_name": "Julia 1.9.2",
   "language": "julia",
   "name": "julia-1.9"
  },
  "language_info": {
   "file_extension": ".jl",
   "mimetype": "application/julia",
   "name": "julia",
   "version": "1.9.2"
  }
 },
 "nbformat": 4,
 "nbformat_minor": 5
}
