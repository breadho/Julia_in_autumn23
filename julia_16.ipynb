{
 "cells": [
  {
   "cell_type": "markdown",
   "id": "44e0076a-c335-42ca-bdd0-7ff2bacedaa7",
   "metadata": {},
   "source": [
    "# 16. 플럭스 사용법"
   ]
  },
  {
   "cell_type": "code",
   "execution_count": 1,
   "id": "ab8f0adf-bb55-41b8-aef9-80ca49f60867",
   "metadata": {},
   "outputs": [
    {
     "name": "stdout",
     "output_type": "stream",
     "text": [
      "Julia Version 1.9.2\n",
      "Commit e4ee485e909 (2023-07-05 09:39 UTC)\n",
      "Platform Info:\n",
      "  OS: macOS (arm64-apple-darwin22.4.0)\n",
      "  CPU: 8 × Apple M2\n",
      "  WORD_SIZE: 64\n",
      "  LIBM: libopenlibm\n",
      "  LLVM: libLLVM-14.0.6 (ORCJIT, apple-m1)\n",
      "  Threads: 2 on 4 virtual cores\n"
     ]
    }
   ],
   "source": [
    "versioninfo()"
   ]
  },
  {
   "cell_type": "code",
   "execution_count": 2,
   "id": "b6893036-422d-48a0-a966-8ab85a7a7e19",
   "metadata": {
    "tags": []
   },
   "outputs": [],
   "source": [
    "using Pkg"
   ]
  },
  {
   "cell_type": "code",
   "execution_count": 3,
   "id": "2b855d6b-5854-4e6d-a050-356f6699f49d",
   "metadata": {
    "tags": []
   },
   "outputs": [
    {
     "data": {
      "text/plain": [
       "\"/Users/younghokim/julia\""
      ]
     },
     "execution_count": 3,
     "metadata": {},
     "output_type": "execute_result"
    }
   ],
   "source": [
    "pwd()"
   ]
  },
  {
   "cell_type": "code",
   "execution_count": 4,
   "id": "b581cbec-8a53-4295-ab49-029a9b85cca5",
   "metadata": {
    "tags": []
   },
   "outputs": [
    {
     "name": "stderr",
     "output_type": "stream",
     "text": [
      "\u001b[32m\u001b[1m  Activating\u001b[22m\u001b[39m project at `~/julia/chap4`\n"
     ]
    }
   ],
   "source": [
    "Pkg.activate(\"/Users/younghokim/julia/chap4\")"
   ]
  },
  {
   "cell_type": "code",
   "execution_count": 6,
   "id": "e3cebe1c-ab8d-40ac-a84e-575e46bd9969",
   "metadata": {
    "tags": []
   },
   "outputs": [],
   "source": [
    "Pkg.instantiate()"
   ]
  },
  {
   "cell_type": "code",
   "execution_count": null,
   "id": "98568a6d-c71c-439d-82ff-7e0d06e5db7c",
   "metadata": {},
   "outputs": [],
   "source": [
    "import MLDatasets"
   ]
  },
  {
   "cell_type": "code",
   "execution_count": null,
   "id": "1c2ab80d-2bf1-4a41-9dc6-5daa54d5a032",
   "metadata": {},
   "outputs": [],
   "source": [
    "import Flux"
   ]
  },
  {
   "cell_type": "code",
   "execution_count": null,
   "id": "2f5e38a2-75b3-469d-95ff-a2fe5921f66b",
   "metadata": {},
   "outputs": [],
   "source": [
    "import NNlib"
   ]
  },
  {
   "cell_type": "code",
   "execution_count": null,
   "id": "fd218283-eb0b-4565-a04f-3a8bc4cb3d35",
   "metadata": {},
   "outputs": [],
   "source": [
    "import Flux: onehotbatch "
   ]
  },
  {
   "cell_type": "code",
   "execution_count": null,
   "id": "b4309ea6-e8f4-459d-8de1-d2bdb14c84fa",
   "metadata": {},
   "outputs": [],
   "source": [
    "import MLUtils: DataLoader"
   ]
  },
  {
   "cell_type": "code",
   "execution_count": null,
   "id": "c8e969a1-ffec-43ef-a52a-e40f0b5cba3d",
   "metadata": {},
   "outputs": [],
   "source": [
    "# import CUDA: has_cuda"
   ]
  },
  {
   "cell_type": "code",
   "execution_count": null,
   "id": "98e059bf-d508-4ea5-87e2-30282d7cf8ba",
   "metadata": {},
   "outputs": [],
   "source": [
    "import Zygote"
   ]
  },
  {
   "cell_type": "code",
   "execution_count": null,
   "id": "384972a8-dd2c-4178-955f-3cba68a66aa2",
   "metadata": {},
   "outputs": [],
   "source": [
    "import Optimisers"
   ]
  },
  {
   "cell_type": "code",
   "execution_count": null,
   "id": "ebdd3aa5-533b-45e9-9a4e-cc26592f94a7",
   "metadata": {},
   "outputs": [],
   "source": [
    "import Formatting: printfmtln"
   ]
  },
  {
   "cell_type": "code",
   "execution_count": null,
   "id": "9a6f4c0d-7c16-4b8e-b12e-d227dc240a4d",
   "metadata": {},
   "outputs": [],
   "source": [
    "using Random: MersenneTwister"
   ]
  },
  {
   "cell_type": "code",
   "execution_count": null,
   "id": "04b22f23-ff2b-4fc5-ae56-a15fdbbaedf3",
   "metadata": {},
   "outputs": [],
   "source": [
    "import Plots"
   ]
  },
  {
   "cell_type": "code",
   "execution_count": null,
   "id": "7d1089ad-2fbc-43aa-a342-433a2141f954",
   "metadata": {},
   "outputs": [],
   "source": [
    "using DataFrames"
   ]
  },
  {
   "cell_type": "code",
   "execution_count": null,
   "id": "160979f9-20c8-499e-972b-24a20b693484",
   "metadata": {},
   "outputs": [],
   "source": [
    "using CSV"
   ]
  },
  {
   "cell_type": "code",
   "execution_count": null,
   "id": "76361b50-f4d0-43fc-8536-e1cea8066193",
   "metadata": {},
   "outputs": [],
   "source": [
    "ENV[\"DATADEPS_ALWAYS_ACCEPT\"] = true # 필요 데이터 자동 다운로드"
   ]
  },
  {
   "cell_type": "markdown",
   "id": "54b1732d-3ab3-4b5a-85c7-b072d5d30979",
   "metadata": {},
   "source": [
    "## 16.1 데이터 준비"
   ]
  },
  {
   "cell_type": "code",
   "execution_count": null,
   "id": "9aad9330-e7b0-42f4-a977-701411445d0e",
   "metadata": {},
   "outputs": [],
   "source": [
    "function get_data(batchsize = 64)\n",
    "    xtrain, ytrain = MLDatasets.FashionMNIST(:train)[:]\n",
    "    xtest, ytest = MLDatasets.FashionMNIST(:test)[:]\n",
    "\n",
    "    xtrain = reshape(xtrain, 28, 28, 1, :)\n",
    "    xtest = reshape(xtest, 28, 28, 1, :)\n",
    "\n",
    "    ytrain, ytest = onehotbatch(ytrain, 0:9), onehotbatch(ytest, 0:9)\n",
    "\n",
    "    train_loader = DataLoader((xtrain, ytrain), batchsize = batchsize)\n",
    "    test_loader = DataLoader((xtest, ytest), batchsize = batchsize)\n",
    "\n",
    "    return train_loader, test_loader\n",
    "end"
   ]
  },
  {
   "cell_type": "markdown",
   "id": "c263b2a3-cf70-4f2e-ae6e-525c23dbe15c",
   "metadata": {},
   "source": [
    "### GPU setting"
   ]
  },
  {
   "cell_type": "code",
   "execution_count": null,
   "id": "dfdee8de-2221-4866-8a1b-269c28afc106",
   "metadata": {},
   "outputs": [],
   "source": [
    "# CUDA는 cuDNN 설치가 되어 있지 않아 사용이 어려움\n",
    "\n",
    "using CUDA\n",
    "\n",
    "CUDA.functional()"
   ]
  },
  {
   "cell_type": "code",
   "execution_count": 7,
   "id": "59655f48-f29d-4b81-a53a-ff6850f15524",
   "metadata": {},
   "outputs": [
    {
     "name": "stderr",
     "output_type": "stream",
     "text": [
      "\u001b[36m\u001b[1m[ \u001b[22m\u001b[39m\u001b[36m\u001b[1mInfo: \u001b[22m\u001b[39mPrecompiling Metal [dde4c033-4e86-420c-a63e-0dd931031962]\n",
      "\u001b[91m\u001b[1mERROR: \u001b[22m\u001b[39mLoadError: UndefVarError: `DataRef` not defined\n",
      "Stacktrace:\n",
      " [1] top-level scope\n",
      "\u001b[90m   @\u001b[39m \u001b[90m~/.julia/packages/Metal/lnkVP/src/\u001b[39m\u001b[90m\u001b[4marray.jl:35\u001b[24m\u001b[39m\n",
      " [2] \u001b[0m\u001b[1minclude\u001b[22m\u001b[0m\u001b[1m(\u001b[22m\u001b[90mmod\u001b[39m::\u001b[0mModule, \u001b[90m_path\u001b[39m::\u001b[0mString\u001b[0m\u001b[1m)\u001b[22m\n",
      "\u001b[90m   @\u001b[39m \u001b[90mBase\u001b[39m \u001b[90m./\u001b[39m\u001b[90m\u001b[4mBase.jl:457\u001b[24m\u001b[39m\n",
      " [3] \u001b[0m\u001b[1minclude\u001b[22m\u001b[0m\u001b[1m(\u001b[22m\u001b[90mx\u001b[39m::\u001b[0mString\u001b[0m\u001b[1m)\u001b[22m\n",
      "\u001b[90m   @\u001b[39m \u001b[35mMetal\u001b[39m \u001b[90m~/.julia/packages/Metal/lnkVP/src/\u001b[39m\u001b[90m\u001b[4mMetal.jl:1\u001b[24m\u001b[39m\n",
      " [4] top-level scope\n",
      "\u001b[90m   @\u001b[39m \u001b[90m~/.julia/packages/Metal/lnkVP/src/\u001b[39m\u001b[90m\u001b[4mMetal.jl:45\u001b[24m\u001b[39m\n",
      " [5] \u001b[0m\u001b[1minclude\u001b[22m\n",
      "\u001b[90m   @\u001b[39m \u001b[90m./\u001b[39m\u001b[90m\u001b[4mBase.jl:457\u001b[24m\u001b[39m\u001b[90m [inlined]\u001b[39m\n",
      " [6] \u001b[0m\u001b[1minclude_package_for_output\u001b[22m\u001b[0m\u001b[1m(\u001b[22m\u001b[90mpkg\u001b[39m::\u001b[0mBase.PkgId, \u001b[90minput\u001b[39m::\u001b[0mString, \u001b[90mdepot_path\u001b[39m::\u001b[0mVector\u001b[90m{String}\u001b[39m, \u001b[90mdl_load_path\u001b[39m::\u001b[0mVector\u001b[90m{String}\u001b[39m, \u001b[90mload_path\u001b[39m::\u001b[0mVector\u001b[90m{String}\u001b[39m, \u001b[90mconcrete_deps\u001b[39m::\u001b[0mVector\u001b[90m{Pair{Base.PkgId, UInt128}}\u001b[39m, \u001b[90msource\u001b[39m::\u001b[0mNothing\u001b[0m\u001b[1m)\u001b[22m\n",
      "\u001b[90m   @\u001b[39m \u001b[90mBase\u001b[39m \u001b[90m./\u001b[39m\u001b[90m\u001b[4mloading.jl:2049\u001b[24m\u001b[39m\n",
      " [7] top-level scope\n",
      "\u001b[90m   @\u001b[39m \u001b[90m\u001b[4mstdin:3\u001b[24m\u001b[39m\n",
      "in expression starting at /Users/younghokim/.julia/packages/Metal/lnkVP/src/array.jl:35\n",
      "in expression starting at /Users/younghokim/.julia/packages/Metal/lnkVP/src/Metal.jl:1\n",
      "in expression starting at stdin:3\n"
     ]
    },
    {
     "ename": "LoadError",
     "evalue": "Failed to precompile Metal [dde4c033-4e86-420c-a63e-0dd931031962] to \"/Users/younghokim/.julia/compiled/v1.9/Metal/jl_SCf0dQ\".",
     "output_type": "error",
     "traceback": [
      "Failed to precompile Metal [dde4c033-4e86-420c-a63e-0dd931031962] to \"/Users/younghokim/.julia/compiled/v1.9/Metal/jl_SCf0dQ\".",
      "",
      "Stacktrace:",
      " [1] error(s::String)",
      "   @ Base ./error.jl:35",
      " [2] compilecache(pkg::Base.PkgId, path::String, internal_stderr::IO, internal_stdout::IO, keep_loaded_modules::Bool)",
      "   @ Base ./loading.jl:2300",
      " [3] compilecache",
      "   @ ./loading.jl:2167 [inlined]",
      " [4] _require(pkg::Base.PkgId, env::String)",
      "   @ Base ./loading.jl:1805",
      " [5] _require_prelocked(uuidkey::Base.PkgId, env::String)",
      "   @ Base ./loading.jl:1660",
      " [6] macro expansion",
      "   @ ./loading.jl:1648 [inlined]",
      " [7] macro expansion",
      "   @ ./lock.jl:267 [inlined]",
      " [8] require(into::Module, mod::Symbol)",
      "   @ Base ./loading.jl:1611"
     ]
    }
   ],
   "source": [
    "# Mac M2 chip의 gpu를 사용할 수 있는 Metal.jl 패키지 이용 !\n",
    "\n",
    "using Metal\n",
    "\n",
    "# Flux.gpu_backend!(\"Metal\")\n",
    "# Flux.GPU_BACKEND"
   ]
  },
  {
   "cell_type": "code",
   "execution_count": null,
   "id": "56850e6c-5da6-41fc-851b-d3e39d09f0f8",
   "metadata": {},
   "outputs": [],
   "source": [
    "Metal.versioninfo()"
   ]
  },
  {
   "cell_type": "code",
   "execution_count": null,
   "id": "d44c3fa5-fd70-46c8-96e0-f24548786d0a",
   "metadata": {},
   "outputs": [],
   "source": [
    "Metal.functional()"
   ]
  },
  {
   "cell_type": "code",
   "execution_count": null,
   "id": "0b0f478d-748a-4c2d-b4fc-cd9238feb41b",
   "metadata": {},
   "outputs": [],
   "source": [
    "# Metal 패키지 사용 예제 실행\n",
    "\n",
    "using Test\n",
    "\n",
    "a = MtlArray{Int}(undef, 1024)\n",
    "\n",
    "# essential memory operations, like copying, filling, reshaping, ...\n",
    "b = copy(a)\n",
    "fill!(b, 0)\n",
    "@test b == Metal.zeros(Int, 1024)\n",
    "\n",
    "# automatic memory management\n",
    "a = nothing"
   ]
  },
  {
   "cell_type": "code",
   "execution_count": null,
   "id": "28bbdb99-0afa-4786-9fc4-4b670bce1293",
   "metadata": {},
   "outputs": [],
   "source": [
    "a = Metal.zeros(1024)\n",
    "b = Metal.ones(1024)\n",
    "a.^2 .+ sin.(b)"
   ]
  },
  {
   "cell_type": "markdown",
   "id": "7e619059-d610-4cdf-bd6e-017ddd549390",
   "metadata": {},
   "source": [
    "## 16.2 모델 생성"
   ]
  },
  {
   "cell_type": "markdown",
   "id": "73f8b214-f4cf-49b4-858e-86d461aaf6d8",
   "metadata": {},
   "source": [
    "다음 함수가 리턴하는 모델은 (28, 28, 1, 배치 사이즈) 형상의 데이터를 (28*28, 배치 사이즈) 형상으로 평탄화한 후 완전 연결된(fully connected) 계층인 Dense로 연결한다."
   ]
  },
  {
   "cell_type": "code",
   "execution_count": null,
   "id": "6a499e4b-a87b-468c-8916-b5a80290b11b",
   "metadata": {},
   "outputs": [],
   "source": [
    "function build_mlp_model(rng)\n",
    "    Flux.Chain(\n",
    "        Flux.flatten,\n",
    "        Flux.Dense(28 * 28 => 512 , NNlib.relu; init = init(rng)),\n",
    "        Flux.Dense(512 => 512, NNlib.relu; init = init(rng)),\n",
    "        Flux.Dense(512 => 10 ; init = init(rng)),\n",
    "    )\n",
    "end"
   ]
  },
  {
   "cell_type": "code",
   "execution_count": null,
   "id": "4dc1d232-1b47-4c6b-a4b5-bcf28f888066",
   "metadata": {},
   "outputs": [],
   "source": [
    "init(rng) = Flux.glorot_uniform(rng)"
   ]
  },
  {
   "cell_type": "markdown",
   "id": "351b9e90-a662-4b36-a365-2c0e8cf8c16e",
   "metadata": {},
   "source": [
    "## 16.3 학습 및 테스트"
   ]
  },
  {
   "cell_type": "markdown",
   "id": "6d561774-3d6a-4ebd-9a3f-66c3ac03bc57",
   "metadata": {},
   "source": [
    "### 모델 학습 함수"
   ]
  },
  {
   "cell_type": "code",
   "execution_count": null,
   "id": "6281061f-e251-4773-bb76-a755da0842ed",
   "metadata": {},
   "outputs": [],
   "source": [
    "function train(loader, model, loss_fn, optimizer)\n",
    "    num_batches = length(loader)\n",
    "    losses = Float32[]\n",
    "    Flux.testmode!(model, false)\n",
    "    for (batch, (X, y)) in enumerate(loader)\n",
    "        X, y = Flux.gpu(X), Flux.gpu(y)\n",
    "        grad = Zygote.gradient(m -> loss_fn(m, X, y), model)[1]\n",
    "        optimizer, model = Optimisers.update(optimizer, model, grad)\n",
    "        if batch % 100 == 0\n",
    "            loss = loss_fn(model, X, y)\n",
    "            printfmtln(\"[Train] loss: {:.7f} [{:>3d}/{:>3d}]\",\n",
    "                loss, batch, num_batches)\n",
    "            push!(losses, loss)\n",
    "        end\n",
    "    end\n",
    "    model, optimizer, losses\n",
    "end"
   ]
  },
  {
   "cell_type": "markdown",
   "id": "59612b2c-0c5c-4d65-9c4c-1b23d704c2f2",
   "metadata": {},
   "source": [
    "### 모델 테스트 함수"
   ]
  },
  {
   "cell_type": "code",
   "execution_count": null,
   "id": "c3d9bae1-c35b-4593-a2c9-0708f5aa113d",
   "metadata": {},
   "outputs": [],
   "source": [
    "function test(loader, model, loss_fn)\n",
    "    num_batches = length(loader)\n",
    "    Flux.testmode!(model, true)\n",
    "    acc, tot = 0, 0\n",
    "    loss = 0f0\n",
    "    for (X, y) in loader\n",
    "        X, y = Flux.gpu(X), Flux.gpu(y)\n",
    "        pred = model(X)\n",
    "        acc += sum(Flux.onecold(pred) .== Flux.onecold(y))\n",
    "        tot += size(X)[end]\n",
    "        loss += loss_fn(model, X, y)\n",
    "    end\n",
    "    acc, avg_loss = acc / tot * 100, loss / num_batches\n",
    "    printfmtln(\"[Test] Accuracy: {:.1f}, Avg loss: {:.7f}\", acc, avg_loss)\n",
    "    acc, avg_loss\n",
    "end"
   ]
  },
  {
   "cell_type": "markdown",
   "id": "bc4c9a55-9bca-45d4-af17-ee417fd9ef1a",
   "metadata": {},
   "source": [
    "## 16.4 전체 실행"
   ]
  },
  {
   "cell_type": "markdown",
   "id": "d28bbb31-a4e8-40ed-b02b-b9aeb4955682",
   "metadata": {},
   "source": [
    "지금까지 작성한 함수들을 이용하여 다음과 같이 학습 및 테스트를 진행"
   ]
  },
  {
   "cell_type": "code",
   "execution_count": null,
   "id": "5d022e98-f09b-4a2d-a5fe-bdcd8e38329f",
   "metadata": {},
   "outputs": [],
   "source": [
    "rng = MersenneTwister(1);"
   ]
  },
  {
   "cell_type": "code",
   "execution_count": null,
   "id": "eed22896-ea2d-4a0d-a91a-b241d6be2f6c",
   "metadata": {},
   "outputs": [],
   "source": [
    "model = build_mlp_model(rng) |> Flux.gpu\n",
    "# Flux.Chain(\n",
    "#    Flux.flatten,\n",
    "#    Flux.Dense(784 => 512, NNlib.relu),\n",
    "#    Flux.Dense(512 => 512, NNlib.relu),\n",
    "#    Flux.Dense(512 => 10),\n",
    "#)"
   ]
  },
  {
   "cell_type": "markdown",
   "id": "600d3da3-1d08-45f6-be0f-320ad42eb551",
   "metadata": {},
   "source": [
    "### 손실 함수 및 옵티마이저 지정"
   ]
  },
  {
   "cell_type": "markdown",
   "id": "c509ead0-ff17-4f92-82f2-28bebe54b752",
   "metadata": {},
   "source": [
    "손실함수 loss_fn은 모델 m과 입력 변수 x, 종속변수 y를 받아서 손실을 계산하는 익명 함수"
   ]
  },
  {
   "cell_type": "code",
   "execution_count": null,
   "id": "e56174ac-d3c0-45b8-aa8e-9da248b0be47",
   "metadata": {},
   "outputs": [],
   "source": [
    "loss_fn = (m, x, y) -> Flux.Losses.logitcrossentropy(m(x), y);"
   ]
  },
  {
   "cell_type": "markdown",
   "id": "f54defa4-98a4-4762-98aa-bfcb298afaa6",
   "metadata": {},
   "source": [
    "옵티마이저 생성: Optimisers.setup 함수에 최적화 로직과 모델을 넘겨서 생성"
   ]
  },
  {
   "cell_type": "code",
   "execution_count": null,
   "id": "cb382787-fe2d-4a55-8082-19ac0ae7fdb6",
   "metadata": {},
   "outputs": [],
   "source": [
    "optimizer = Optimisers.setup(Optimisers.Descent(0.001f0), model)"
   ]
  },
  {
   "cell_type": "markdown",
   "id": "75ff9969-3778-44f9-b077-b54f2dd60195",
   "metadata": {},
   "source": [
    "### 에폭별 실행"
   ]
  },
  {
   "cell_type": "markdown",
   "id": "69e4b76f-1a0b-4561-9a7e-d87c450e79f7",
   "metadata": {},
   "source": [
    "매 에폭마다 모델을 학습하고 손실 및 정확도를 구하기 위해 다음과 같은 함수를 작성"
   ]
  },
  {
   "cell_type": "code",
   "execution_count": null,
   "id": "4d72d4ff-a865-4bc6-ba20-8133871ef1f8",
   "metadata": {},
   "outputs": [],
   "source": [
    "function run_epochs(loaders, model, loss_fn, optimizer, epochs)\n",
    "    train_loader, test_loader = loaders\n",
    "    train_losses, accuracies = [], [];\n",
    "    for t in 1:epochs\n",
    "        println(\"Epochs $t\")\n",
    "        println(\"---------------------------\")\n",
    "        model, optimizer, losses =\n",
    "            train(train_loader, model, loss_fn, optimizer)\n",
    "        train_losses = vcat(train_losses, losses)\n",
    "        acc, _ = test(test_loader, model, loss_fn)\n",
    "        push!(accuracies, acc)\n",
    "    end\n",
    "    model, train_losses, accuracies\n",
    "end"
   ]
  },
  {
   "cell_type": "markdown",
   "id": "35c21706-8bca-4036-8bb2-c549bf8c6cd2",
   "metadata": {},
   "source": [
    "* 위 함수의 반복문 안을 보면 train 함수가 반환한 모델과 옵티마이저를 다시 train 함수에 넘기는 것을 볼 수 있다. 이렇게 해야 이전 에폭에서 학습된 결과를 바탕으로 지속해서 학습이 이루어진다.\n",
    "\n",
    "* 5 에폭으로 모델을 학습하고 테스트해 보자."
   ]
  },
  {
   "cell_type": "code",
   "execution_count": null,
   "id": "bd882183-81f2-433e-9acb-b551495f01af",
   "metadata": {},
   "outputs": [],
   "source": [
    "@time begin\n",
    "    # 속도 측정 동시 진행 \n",
    "    model, losses, accu = run_epochs(get_data(), model, loss_fn, optimizer, 5)\n",
    "end"
   ]
  },
  {
   "cell_type": "markdown",
   "id": "a76559c2-2ecf-4266-ae2a-a36edad8cf15",
   "metadata": {},
   "source": [
    "### 학습과정 손실 및 정확도 시각화"
   ]
  },
  {
   "cell_type": "code",
   "execution_count": null,
   "id": "07003369-0e4e-4dcb-9481-46e1343d4494",
   "metadata": {},
   "outputs": [],
   "source": [
    "p1 = Plots.plot(losses, title = \"train loss\")\n",
    "p2 = Plots.plot(accu, title = \"test accuracy\")\n",
    "Plots.plot(p1, p2)"
   ]
  },
  {
   "cell_type": "markdown",
   "id": "bd65ca00-f66d-4e32-aa6b-b6a52168b5b5",
   "metadata": {},
   "source": [
    "### 모델 저장 및 로딩"
   ]
  },
  {
   "cell_type": "markdown",
   "id": "8dcf96eb-e109-4110-8bce-afb4b59aaa7a",
   "metadata": {},
   "source": [
    "모델은 일반적인 줄리아 복합 타입이기 때문에, 어떠한 줄리아 객체 저장 형식을 사용해도 되지만 BSON.jl 패키지를 이용하는 BSON(Binary JSON) 포맷을 가장 많이 사용하는 편이다."
   ]
  },
  {
   "cell_type": "code",
   "execution_count": null,
   "id": "fda6df30-c783-4f10-a2e0-5dd6fa058ec5",
   "metadata": {},
   "outputs": [],
   "source": [
    "using BSON: @save\n",
    "\n",
    "@save \"mnist_mlp.bson\" m = Flux.cpu(model)"
   ]
  },
  {
   "cell_type": "markdown",
   "id": "a7460edf-6ca1-46a2-8330-0f85e04dc3bd",
   "metadata": {},
   "source": [
    "**(코드 설명)** \n",
    "\n",
    "- 위 코드는 모델을 CPU로 보낸 후 m 이라는 키값으로 bson 파일에 저장함\n",
    "- 모델이 GPU 장치에 있는 상태에서 저장할 경우, GPU를 지원하지 않는 컴퓨터에서는 모델 로딩이 실패할 수 있음"
   ]
  },
  {
   "cell_type": "code",
   "execution_count": null,
   "id": "c74849e9-7a9f-4ea5-8890-d646004716bb",
   "metadata": {},
   "outputs": [],
   "source": [
    "# 모델 로딩\n",
    "\n",
    "using BSON: @load\n",
    "import Flux, NNlib\n",
    "@load \"mnist_mlp.bson\" m"
   ]
  },
  {
   "cell_type": "markdown",
   "id": "7762ac4c-5edc-4c99-ae61-a28ee4c7f3ec",
   "metadata": {},
   "source": [
    "bson 파일의 m 키값으로 저장된 모델을 불러온다. 이때 플럭스와 NNlib 패키지가 임포트되어 있어야 에러 없이 로딩이 된다. \n",
    "앞서 정의했던 get_data 함수를 이용하여 로딩된 모델을 테스트해보면 다음과 같음"
   ]
  },
  {
   "cell_type": "code",
   "execution_count": null,
   "id": "9303d7cb-1d84-4c81-9352-dd8130b50d9d",
   "metadata": {},
   "outputs": [],
   "source": [
    "import MLDatasets\n",
    "using Flux: onehotbatch\n",
    "using MLUtils: DataLoader\n",
    "\n",
    "# function get_data(batchsize = 64) ~~ \n",
    "_, test_loader = get_data();\n",
    "(X, y) = first(test_loader);\n",
    "Flux.onecold(m(X)).-1, Flux.onecold(y).-1"
   ]
  },
  {
   "cell_type": "markdown",
   "id": "02b7518d-d8f7-432c-b87e-a54908d2041e",
   "metadata": {},
   "source": [
    "마지막 명령의 결과를 보면, 모델의 예측 결과인 m(X)가 타깃 y와 대체로 일치하여 학습된 모델이 잘 저장되고 로딩되었음을 알 수 있음"
   ]
  },
  {
   "cell_type": "markdown",
   "id": "81182ed1-ff1a-4677-9061-b349b548f62b",
   "metadata": {},
   "source": [
    "|패키지 | 역할 |\n",
    "|:-----:|:---------:|\n",
    "Flux.jl | 다양한 신경망 계층 타입 및 손실 함수 제공|\n",
    "NNlib.jl | 활성화 함수, 합성곱 함수 등 신경망 구현에 필요한 함수 제공(플럭스에서 내부적으로 사용)\n",
    "Zygote.jl | 자동 미분으로 모델 파라미터에 대한 손실의 기울기 계산\n",
    "Optimisers.jl | ADAM 등 최적화 로직 및 모델 업데이트 함수 제공\n",
    "Functors.jl  | 모델 파라미터에 함수 적용을 가능하게 함\n",
    "MLUtils.jl  | 데이터 로더 등 파이프라인 관련 기능 제공\n",
    "MLDatasets.jl | 데이터 셋 제공"
   ]
  },
  {
   "cell_type": "markdown",
   "id": "e17aa06d-b5f3-415a-888b-508b71cb1da3",
   "metadata": {},
   "source": [
    "독립된 패키지들이 각 기능을 담당하기 때문에 필요에 따라 특정 기능은 유사한 기능을 제공하는 다른 패키지를 사용할 수도 있음\n",
    "\n",
    "- 예를 들어 신경망 계층 타입은 Flux.jl 대신 Lux.jl를 사용한다거나, 자동 미분을 소스 코드 변환 방식의 Zygote.jl 대신 트레이싱 방식의 Yota.jl을 사용하는 식이다."
   ]
  }
 ],
 "metadata": {
  "kernelspec": {
   "display_name": "Julia 1.9.2",
   "language": "julia",
   "name": "julia-1.9"
  },
  "language_info": {
   "file_extension": ".jl",
   "mimetype": "application/julia",
   "name": "julia",
   "version": "1.9.2"
  }
 },
 "nbformat": 4,
 "nbformat_minor": 5
}
