{
 "cells": [
  {
   "cell_type": "code",
   "execution_count": 1,
   "id": "c4259d68-61c3-4c4f-825d-d67484ee7199",
   "metadata": {},
   "outputs": [
    {
     "name": "stdout",
     "output_type": "stream",
     "text": [
      "Julia Version 1.9.2\n",
      "Commit e4ee485e909 (2023-07-05 09:39 UTC)\n",
      "Platform Info:\n",
      "  OS: macOS (arm64-apple-darwin22.4.0)\n",
      "  CPU: 8 × Apple M2\n",
      "  WORD_SIZE: 64\n",
      "  LIBM: libopenlibm\n",
      "  LLVM: libLLVM-14.0.6 (ORCJIT, apple-m1)\n",
      "  Threads: 2 on 4 virtual cores\n"
     ]
    }
   ],
   "source": [
    "versioninfo()"
   ]
  },
  {
   "cell_type": "markdown",
   "id": "1c4da300-ef7f-4216-9ce7-7068393a3265",
   "metadata": {},
   "source": [
    "## 15.2 미분 구현 실습"
   ]
  },
  {
   "cell_type": "markdown",
   "id": "aff20e43-d4f3-4d1c-9b72-20f0654a639a",
   "metadata": {},
   "source": [
    "### 구현 1: 손미분"
   ]
  },
  {
   "cell_type": "code",
   "execution_count": 2,
   "id": "ce6aa13b-fdf9-486b-acb8-6b3640600963",
   "metadata": {},
   "outputs": [
    {
     "data": {
      "text/plain": [
       "f (generic function with 1 method)"
      ]
     },
     "execution_count": 2,
     "metadata": {},
     "output_type": "execute_result"
    }
   ],
   "source": [
    "function f(x)\n",
    "    for _ = 1:2\n",
    "        x = x*(x-1)\n",
    "    end\n",
    "    x\n",
    "end"
   ]
  },
  {
   "cell_type": "markdown",
   "id": "09eb7c82-bb53-4a26-8b21-47ac9f10bc17",
   "metadata": {},
   "source": [
    "### 구현 2: 수치 미분"
   ]
  },
  {
   "cell_type": "code",
   "execution_count": 3,
   "id": "640c81e4-56fa-4aca-90a4-e360827f88a5",
   "metadata": {},
   "outputs": [
    {
     "data": {
      "text/plain": [
       "finite_diff (generic function with 2 methods)"
      ]
     },
     "execution_count": 3,
     "metadata": {},
     "output_type": "execute_result"
    }
   ],
   "source": [
    "finite_diff(f, x, h =0.0001) = (f(x + h) -f(x))/h"
   ]
  },
  {
   "cell_type": "code",
   "execution_count": 4,
   "id": "13c53b4e-7edf-4253-8fc3-5eb195aa0cd8",
   "metadata": {},
   "outputs": [
    {
     "data": {
      "text/plain": [
       "55.003600100143046"
      ]
     },
     "execution_count": 4,
     "metadata": {},
     "output_type": "execute_result"
    }
   ],
   "source": [
    "finite_diff(f, 3)"
   ]
  },
  {
   "cell_type": "markdown",
   "id": "98594663-c94d-45dc-82eb-1871fe8c5eae",
   "metadata": {},
   "source": [
    "### 구현 3: 기호 미분"
   ]
  },
  {
   "cell_type": "code",
   "execution_count": 5,
   "id": "bc15527e-199a-4bdd-927f-905a321211f1",
   "metadata": {},
   "outputs": [],
   "source": [
    "f_closed_expr = :(x^4 - 2x^3 + x);"
   ]
  },
  {
   "cell_type": "code",
   "execution_count": 6,
   "id": "e6af8c10-0ac9-4d34-9d86-453c288c15f8",
   "metadata": {},
   "outputs": [
    {
     "data": {
      "text/plain": [
       "3-element Vector{Any}:\n",
       " :+\n",
       " :(x ^ 4 - 2 * x ^ 3)\n",
       " :x"
      ]
     },
     "execution_count": 6,
     "metadata": {},
     "output_type": "execute_result"
    }
   ],
   "source": [
    "f_closed_expr.args"
   ]
  },
  {
   "cell_type": "code",
   "execution_count": 8,
   "id": "e7d4ae87-6797-4ca0-866a-a78b6f7f6d7a",
   "metadata": {},
   "outputs": [
    {
     "data": {
      "text/plain": [
       "3-element Vector{Any}:\n",
       " :-\n",
       " :(x ^ 4)\n",
       " :(2 * x ^ 3)"
      ]
     },
     "execution_count": 8,
     "metadata": {},
     "output_type": "execute_result"
    }
   ],
   "source": [
    "f_closed_expr.args[2].args"
   ]
  },
  {
   "cell_type": "markdown",
   "id": "a1607c71-2480-4b29-85f3-a4acc91a3d9d",
   "metadata": {},
   "source": [
    "각 하위 표현식을 재귀적으로 돌면서 사칙연산 패턴을 찾아서 미분된 표현식을 돌려주는 다음과 같은 함수를 작성한다."
   ]
  },
  {
   "cell_type": "code",
   "execution_count": 10,
   "id": "2f324a46-3e37-46ef-a364-9104aed26be2",
   "metadata": {},
   "outputs": [],
   "source": [
    "using MacroTools"
   ]
  },
  {
   "cell_type": "code",
   "execution_count": 12,
   "id": "b1dd10b5-d407-4431-b005-9704910a7a8f",
   "metadata": {},
   "outputs": [
    {
     "data": {
      "text/plain": [
       "derive (generic function with 1 method)"
      ]
     },
     "execution_count": 12,
     "metadata": {},
     "output_type": "execute_result"
    }
   ],
   "source": [
    "function derive(ex, x)\n",
    "    ex == x ? 1 :\n",
    "    ex isa Union{Number, Symbol} ? 0 :\n",
    "    @capture(ex, a_ + b_) ? :($(derive(a, x)) + $(derive(b, x))) :\n",
    "    @capture(ex, a_ - b_) ? :($(derive(a, x)) - $(derive(b, x))) :\n",
    "    @capture(ex, a_ * b_) ? :($(derive(a, x))*$b + $a*$(derive(b, x))) :\n",
    "    @capture(ex, a_ / b_) ? :(($(derive(a, x))*$b - $a*$(derive(b, x))) / $b^2) :\n",
    "    @capture(ex, a_^n_Number) ? :($(derive(a, x)) * ($n * $a^$(n-1))) :\n",
    "    error(\"$ex is not differentiable\")\n",
    "end\n",
    "    "
   ]
  },
  {
   "cell_type": "markdown",
   "id": "0977f6c3-8589-43e9-a3d3-877235faf474",
   "metadata": {},
   "source": [
    "이 derive 함수는 미분할 함수 $y = f(x)$의 표현식 ex와 독립변수의 심벌 x를 인수로 받는다. "
   ]
  },
  {
   "cell_type": "code",
   "execution_count": null,
   "id": "d97d3451-cf16-456e-8f09-b267735fce3a",
   "metadata": {},
   "outputs": [],
   "source": []
  },
  {
   "cell_type": "code",
   "execution_count": null,
   "id": "4452087d-2c8d-4677-99a2-3813ed46cd0a",
   "metadata": {},
   "outputs": [],
   "source": []
  },
  {
   "cell_type": "code",
   "execution_count": null,
   "id": "412856f6-f034-49aa-85e2-2563adbfcb5f",
   "metadata": {},
   "outputs": [],
   "source": []
  },
  {
   "cell_type": "code",
   "execution_count": null,
   "id": "e1a9c79c-e58f-4135-9f27-22272a9f60cc",
   "metadata": {},
   "outputs": [],
   "source": []
  },
  {
   "cell_type": "code",
   "execution_count": null,
   "id": "d1853d7a-338b-42a4-9adc-64eef26c463b",
   "metadata": {},
   "outputs": [],
   "source": []
  },
  {
   "cell_type": "code",
   "execution_count": null,
   "id": "15b3655a-f8f8-4e31-9b80-f35790cc2c7f",
   "metadata": {},
   "outputs": [],
   "source": []
  },
  {
   "cell_type": "code",
   "execution_count": null,
   "id": "b4434c3f-7f6c-4240-bf98-45e7467050ac",
   "metadata": {},
   "outputs": [],
   "source": []
  },
  {
   "cell_type": "code",
   "execution_count": null,
   "id": "6f69e481-4830-4c16-bab7-9a3c9bc6fbfd",
   "metadata": {},
   "outputs": [],
   "source": []
  },
  {
   "cell_type": "code",
   "execution_count": null,
   "id": "4eae5388-f303-47ab-98a8-571e2ee805cd",
   "metadata": {},
   "outputs": [],
   "source": []
  },
  {
   "cell_type": "code",
   "execution_count": null,
   "id": "456350be-143e-4dca-8c5d-7961d5207821",
   "metadata": {},
   "outputs": [],
   "source": []
  },
  {
   "cell_type": "code",
   "execution_count": null,
   "id": "32b1ccea-9d79-4a13-982b-b53ff071577c",
   "metadata": {},
   "outputs": [],
   "source": []
  },
  {
   "cell_type": "code",
   "execution_count": null,
   "id": "c59ade8d-43e8-4599-83aa-588031b43b7c",
   "metadata": {},
   "outputs": [],
   "source": []
  },
  {
   "cell_type": "code",
   "execution_count": null,
   "id": "50634e1c-098e-43fe-afc6-fa15242572c4",
   "metadata": {},
   "outputs": [],
   "source": []
  },
  {
   "cell_type": "code",
   "execution_count": null,
   "id": "0da6c4de-58c3-40b2-8fb9-23bf010d61d3",
   "metadata": {},
   "outputs": [],
   "source": []
  },
  {
   "cell_type": "code",
   "execution_count": null,
   "id": "4c1d5548-435e-4006-97c2-7d5e4f83e003",
   "metadata": {},
   "outputs": [],
   "source": []
  },
  {
   "cell_type": "code",
   "execution_count": null,
   "id": "6cb4e756-f3ae-483c-8f83-37d6a50d8d76",
   "metadata": {},
   "outputs": [],
   "source": []
  },
  {
   "cell_type": "code",
   "execution_count": null,
   "id": "90eeeaad-ab53-48b8-953c-e0653f9282ce",
   "metadata": {},
   "outputs": [],
   "source": []
  }
 ],
 "metadata": {
  "kernelspec": {
   "display_name": "Julia 1.9.2",
   "language": "julia",
   "name": "julia-1.9"
  },
  "language_info": {
   "file_extension": ".jl",
   "mimetype": "application/julia",
   "name": "julia",
   "version": "1.9.2"
  }
 },
 "nbformat": 4,
 "nbformat_minor": 5
}
