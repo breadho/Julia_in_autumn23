{
 "cells": [
  {
   "cell_type": "markdown",
   "id": "8279bfd3",
   "metadata": {},
   "source": [
    "## Chapter 17.2 전이학습"
   ]
  },
  {
   "cell_type": "code",
   "execution_count": 1,
   "id": "5c123339",
   "metadata": {},
   "outputs": [
    {
     "name": "stdout",
     "output_type": "stream",
     "text": [
      "Julia Version 1.9.3\n",
      "Commit bed2cd540a1 (2023-08-24 14:43 UTC)\n",
      "Build Info:\n",
      "  Official https://julialang.org/ release\n",
      "Platform Info:\n",
      "  OS: Linux (x86_64-linux-gnu)\n",
      "  CPU: 20 × 12th Gen Intel(R) Core(TM) i7-12700F\n",
      "  WORD_SIZE: 64\n",
      "  LIBM: libopenlibm\n",
      "  LLVM: libLLVM-14.0.6 (ORCJIT, alderlake)\n",
      "  Threads: 2 on 20 virtual cores\n",
      "Environment:\n",
      "  LD_LIBRARY_PATH = :/usr/local/cuda-11.7/lib64\n"
     ]
    }
   ],
   "source": [
    "versioninfo()"
   ]
  },
  {
   "cell_type": "code",
   "execution_count": 2,
   "id": "6715bd8d",
   "metadata": {},
   "outputs": [
    {
     "data": {
      "text/plain": [
       "\"/home/bread\""
      ]
     },
     "execution_count": 2,
     "metadata": {},
     "output_type": "execute_result"
    }
   ],
   "source": [
    "pwd()"
   ]
  },
  {
   "cell_type": "code",
   "execution_count": 4,
   "id": "adf07720",
   "metadata": {},
   "outputs": [
    {
     "name": "stderr",
     "output_type": "stream",
     "text": [
      "\u001b[32m\u001b[1m  Activating\u001b[22m\u001b[39m project at `~/~/test`\n",
      "\u001b[32m\u001b[1mPrecompiling\u001b[22m\u001b[39m project...\n",
      "\u001b[32m  ✓ \u001b[39m\u001b[90mStringEncodings\u001b[39m\n",
      "\u001b[32m  ✓ \u001b[39m\u001b[90mImageMagick_jll\u001b[39m\n",
      "\u001b[32m  ✓ \u001b[39m\u001b[90mHDF5_jll\u001b[39m\n",
      "\u001b[32m  ✓ \u001b[39m\u001b[90mLightXML\u001b[39m\n",
      "\u001b[32m  ✓ \u001b[39m\u001b[90mPickle\u001b[39m\n",
      "\u001b[33m  ? \u001b[39m\u001b[90mWordTokenizers\u001b[39m\n",
      "\u001b[33m  ? \u001b[39m\u001b[90mFetch\u001b[39m\n",
      "\u001b[33m  ? \u001b[39m\u001b[90mImageCore\u001b[39m\n",
      "\u001b[32m  ✓ \u001b[39mEmbeddings\n",
      "\u001b[32m  ✓ \u001b[39m\u001b[90mHDF5\u001b[39m\n",
      "\u001b[32m  ✓ \u001b[39m\u001b[90mMAT\u001b[39m\n",
      "\u001b[32m  ✓ \u001b[39m\u001b[90mSnowball\u001b[39m\n",
      "\u001b[33m  ? \u001b[39m\u001b[90mPrimitiveOneHot\u001b[39m\n",
      "\u001b[32m  ✓ \u001b[39mTextAnalysis\n",
      "\u001b[33m  ? \u001b[39mMetalhead\n",
      "\u001b[32m  ✓ \u001b[39m\u001b[90mTextEncodeBase\u001b[39m\n",
      "\u001b[32m  ✓ \u001b[39m\u001b[90mBytePairEncoding\u001b[39m\n",
      "\u001b[33m  ? \u001b[39m\u001b[90mNeuralAttentionlib\u001b[39m\n",
      "\u001b[33m  ? \u001b[39m\u001b[90mImageDraw\u001b[39m\n",
      "\u001b[33m  ? \u001b[39m\u001b[90mPNGFiles\u001b[39m\n",
      "\u001b[33m  ? \u001b[39m\u001b[90mImageMagick\u001b[39m\n",
      "\u001b[33m  ? \u001b[39m\u001b[90mImageMorphology\u001b[39m\n",
      "\u001b[33m  ? \u001b[39m\u001b[90mImageBase\u001b[39m\n",
      "\u001b[32m  ✓ \u001b[39m\u001b[90mSixel\u001b[39m\n",
      "\u001b[33m  ? \u001b[39m\u001b[90mImageTransformations\u001b[39m\n",
      "\u001b[32m  ✓ \u001b[39m\u001b[90mZygote → ZygoteDistancesExt\u001b[39m\n",
      "\u001b[32m  ✓ \u001b[39m\u001b[90mJpegTurbo\u001b[39m\n",
      "\u001b[33m  ? \u001b[39m\u001b[90mImageFiltering\u001b[39m\n",
      "\u001b[33m  ? \u001b[39m\u001b[90mImageAxes\u001b[39m\n",
      "\u001b[32m  ✓ \u001b[39m\u001b[90mImageContrastAdjustment\u001b[39m\n",
      "\u001b[32m  ✓ \u001b[39m\u001b[90mImageMetadata\u001b[39m\n",
      "\u001b[32m  ✓ \u001b[39m\u001b[90mImageShow\u001b[39m\n",
      "\u001b[32m  ✓ \u001b[39m\u001b[90mNetpbm\u001b[39m\n",
      "\u001b[32m  ✓ \u001b[39m\u001b[90mImageIO\u001b[39m\n",
      "\u001b[32m  ✓ \u001b[39mMLDatasets\n",
      "\u001b[32m  ✓ \u001b[39m\u001b[90mImageDistances\u001b[39m\n",
      "\u001b[33m  ? \u001b[39m\u001b[90mImageSegmentation\u001b[39m\n",
      "\u001b[33m  ? \u001b[39mTransformers\n",
      "\u001b[32m  ✓ \u001b[39m\u001b[90mImageQualityIndexes\u001b[39m\n",
      "\u001b[32m  ✓ \u001b[39mImages\n",
      "\u001b[32m  ✓ \u001b[39mObjectDetector\n",
      "  25 dependencies successfully precompiled in 109 seconds. 331 already precompiled.\n",
      "  \u001b[33m16\u001b[39m dependencies failed but may be precompilable after restarting julia\n",
      "  \u001b[33m18\u001b[39m dependencies had warnings during precompilation:\u001b[33m\n",
      "┌ \u001b[39mMetalhead [dbeba491-748d-5e0e-a39e-b530a07fa0cc]\u001b[33m\n",
      "│  \u001b[39m\u001b[33m\u001b[1m┌ \u001b[22m\u001b[39m\u001b[33m\u001b[1mWarning: \u001b[22m\u001b[39mModule SpecialFunctions with build ID fafbfcfd-e92d-a030-0000-03582df3381d is missing from the cache.\u001b[33m\n",
      "│  \u001b[39m\u001b[33m\u001b[1m│ \u001b[22m\u001b[39mThis may mean SpecialFunctions [276daf66-3868-5448-9aa4-cd146d93841b] does not support precompilation but is imported by a module that does.\u001b[33m\n",
      "│  \u001b[39m\u001b[33m\u001b[1m└ \u001b[22m\u001b[39m\u001b[90m@ Base loading.jl:1793\u001b[39m\u001b[33m\n",
      "│  \u001b[39m\u001b[91m\u001b[1m┌ \u001b[22m\u001b[39m\u001b[91m\u001b[1mError: \u001b[22m\u001b[39mError during loading of extension SpecialFunctionsChainRulesCoreExt of SpecialFunctions, use `Base.retry_load_extensions()` to retry.\u001b[33m\n",
      "│  \u001b[39m\u001b[91m\u001b[1m│ \u001b[22m\u001b[39m  exception =\u001b[33m\n",
      "│  \u001b[39m\u001b[91m\u001b[1m│ \u001b[22m\u001b[39m   \u001b[0m1-element ExceptionStack:\u001b[33m\n",
      "│  \u001b[39m\u001b[91m\u001b[1m│ \u001b[22m\u001b[39m   Declaring __precompile__(false) is not allowed in files that are being precompiled.\u001b[33m\n",
      "│  \u001b[39m\u001b[91m\u001b[1m│ \u001b[22m\u001b[39m   Stacktrace:\u001b[33m\n",
      "│  \u001b[39m\u001b[91m\u001b[1m│ \u001b[22m\u001b[39m     [1] \u001b[0m\u001b[1m_require\u001b[22m\u001b[0m\u001b[1m(\u001b[22m\u001b[90mpkg\u001b[39m::\u001b[0mBase.PkgId, \u001b[90menv\u001b[39m::\u001b[0mNothing\u001b[0m\u001b[1m)\u001b[22m\u001b[33m\n",
      "│  \u001b[39m\u001b[91m\u001b[1m│ \u001b[22m\u001b[39m   \u001b[90m    @\u001b[39m \u001b[90mBase\u001b[39m \u001b[90m./\u001b[39m\u001b[90m\u001b[4mloading.jl:1825\u001b[24m\u001b[39m\u001b[33m\n",
      "│  \u001b[39m\u001b[91m\u001b[1m│ \u001b[22m\u001b[39m     [2] \u001b[0m\u001b[1m_require_prelocked\u001b[22m\u001b[0m\u001b[1m(\u001b[22m\u001b[90muuidkey\u001b[39m::\u001b[0mBase.PkgId, \u001b[90menv\u001b[39m::\u001b[0mNothing\u001b[0m\u001b[1m)\u001b[22m\u001b[33m\n",
      "│  \u001b[39m\u001b[91m\u001b[1m│ \u001b[22m\u001b[39m   \u001b[90m    @\u001b[39m \u001b[90mBase\u001b[39m \u001b[90m./\u001b[39m\u001b[90m\u001b[4mloading.jl:1660\u001b[24m\u001b[39m\u001b[33m\n",
      "│  \u001b[39m\u001b[91m\u001b[1m│ \u001b[22m\u001b[39m     [3] \u001b[0m\u001b[1m_require_prelocked\u001b[22m\u001b[0m\u001b[1m(\u001b[22m\u001b[90muuidkey\u001b[39m::\u001b[0mBase.PkgId\u001b[0m\u001b[1m)\u001b[22m\u001b[33m\n",
      "│  \u001b[39m\u001b[91m\u001b[1m│ \u001b[22m\u001b[39m   \u001b[90m    @\u001b[39m \u001b[90mBase\u001b[39m \u001b[90m./\u001b[39m\u001b[90m\u001b[4mloading.jl:1658\u001b[24m\u001b[39m\u001b[33m\n",
      "│  \u001b[39m\u001b[91m\u001b[1m│ \u001b[22m\u001b[39m     [4] \u001b[0m\u001b[1mrun_extension_callbacks\u001b[22m\u001b[0m\u001b[1m(\u001b[22m\u001b[90mextid\u001b[39m::\u001b[0mBase.ExtensionId\u001b[0m\u001b[1m)\u001b[22m\u001b[33m\n",
      "│  \u001b[39m\u001b[91m\u001b[1m│ \u001b[22m\u001b[39m   \u001b[90m    @\u001b[39m \u001b[90mBase\u001b[39m \u001b[90m./\u001b[39m\u001b[90m\u001b[4mloading.jl:1255\u001b[24m\u001b[39m\u001b[33m\n",
      "│  \u001b[39m\u001b[91m\u001b[1m│ \u001b[22m\u001b[39m     [5] \u001b[0m\u001b[1mrun_extension_callbacks\u001b[22m\u001b[0m\u001b[1m(\u001b[22m\u001b[90mpkgid\u001b[39m::\u001b[0mBase.PkgId\u001b[0m\u001b[1m)\u001b[22m\u001b[33m\n",
      "│  \u001b[39m\u001b[91m\u001b[1m│ \u001b[22m\u001b[39m   \u001b[90m    @\u001b[39m \u001b[90mBase\u001b[39m \u001b[90m./\u001b[39m\u001b[90m\u001b[4mloading.jl:1290\u001b[24m\u001b[39m\u001b[33m\n",
      "│  \u001b[39m\u001b[91m\u001b[1m│ \u001b[22m\u001b[39m     [6] \u001b[0m\u001b[1mrun_package_callbacks\u001b[22m\u001b[0m\u001b[1m(\u001b[22m\u001b[90mmodkey\u001b[39m::\u001b[0mBase.PkgId\u001b[0m\u001b[1m)\u001b[22m\u001b[33m\n",
      "│  \u001b[39m\u001b[91m\u001b[1m│ \u001b[22m\u001b[39m   \u001b[90m    @\u001b[39m \u001b[90mBase\u001b[39m \u001b[90m./\u001b[39m\u001b[90m\u001b[4mloading.jl:1124\u001b[24m\u001b[39m\u001b[33m\n",
      "│  \u001b[39m\u001b[91m\u001b[1m│ \u001b[22m\u001b[39m     [7] \u001b[0m\u001b[1m_tryrequire_from_serialized\u001b[22m\u001b[0m\u001b[1m(\u001b[22m\u001b[90mmodkey\u001b[39m::\u001b[0mBase.PkgId, \u001b[90mbuild_id\u001b[39m::\u001b[0mUInt128\u001b[0m\u001b[1m)\u001b[22m\u001b[33m\n",
      "│  \u001b[39m\u001b[91m\u001b[1m│ \u001b[22m\u001b[39m   \u001b[90m    @\u001b[39m \u001b[90mBase\u001b[39m \u001b[90m./\u001b[39m\u001b[90m\u001b[4mloading.jl:1357\u001b[24m\u001b[39m\u001b[33m\n",
      "│  \u001b[39m\u001b[91m\u001b[1m│ \u001b[22m\u001b[39m     [8] \u001b[0m\u001b[1m_tryrequire_from_serialized\u001b[22m\u001b[0m\u001b[1m(\u001b[22m\u001b[90mpkg\u001b[39m::\u001b[0mBase.PkgId, \u001b[90mpath\u001b[39m::\u001b[0mString, \u001b[90mocachepath\u001b[39m::\u001b[0mString\u001b[0m\u001b[1m)\u001b[22m\u001b[33m\n",
      "│  \u001b[39m\u001b[91m\u001b[1m│ \u001b[22m\u001b[39m   \u001b[90m    @\u001b[39m \u001b[90mBase\u001b[39m \u001b[90m./\u001b[39m\u001b[90m\u001b[4mloading.jl:1435\u001b[24m\u001b[39m\u001b[33m\n",
      "│  \u001b[39m\u001b[91m\u001b[1m│ \u001b[22m\u001b[39m     [9] \u001b[0m\u001b[1m_require\u001b[22m\u001b[0m\u001b[1m(\u001b[22m\u001b[90mpkg\u001b[39m::\u001b[0mBase.PkgId, \u001b[90menv\u001b[39m::\u001b[0mString\u001b[0m\u001b[1m)\u001b[22m\u001b[33m\n",
      "│  \u001b[39m\u001b[91m\u001b[1m│ \u001b[22m\u001b[39m   \u001b[90m    @\u001b[39m \u001b[90mBase\u001b[39m \u001b[90m./\u001b[39m\u001b[90m\u001b[4mloading.jl:1816\u001b[24m\u001b[39m\u001b[33m\n",
      "│  \u001b[39m\u001b[91m\u001b[1m│ \u001b[22m\u001b[39m    [10] \u001b[0m\u001b[1m_require_prelocked\u001b[22m\u001b[0m\u001b[1m(\u001b[22m\u001b[90muuidkey\u001b[39m::\u001b[0mBase.PkgId, \u001b[90menv\u001b[39m::\u001b[0mString\u001b[0m\u001b[1m)\u001b[22m\u001b[33m\n",
      "│  \u001b[39m\u001b[91m\u001b[1m│ \u001b[22m\u001b[39m   \u001b[90m    @\u001b[39m \u001b[90mBase\u001b[39m \u001b[90m./\u001b[39m\u001b[90m\u001b[4mloading.jl:1660\u001b[24m\u001b[39m\u001b[33m\n",
      "│  \u001b[39m\u001b[91m\u001b[1m│ \u001b[22m\u001b[39m    [11] \u001b[0m\u001b[1mmacro expansion\u001b[22m\u001b[33m\n",
      "│  \u001b[39m\u001b[91m\u001b[1m│ \u001b[22m\u001b[39m   \u001b[90m    @\u001b[39m \u001b[90m./\u001b[39m\u001b[90m\u001b[4mloading.jl:1648\u001b[24m\u001b[39m\u001b[90m [inlined]\u001b[39m\u001b[33m\n",
      "│  \u001b[39m\u001b[91m\u001b[1m│ \u001b[22m\u001b[39m    [12] \u001b[0m\u001b[1mmacro expansion\u001b[22m\u001b[33m\n",
      "│  \u001b[39m\u001b[91m\u001b[1m│ \u001b[22m\u001b[39m   \u001b[90m    @\u001b[39m \u001b[90m./\u001b[39m\u001b[90m\u001b[4mlock.jl:267\u001b[24m\u001b[39m\u001b[90m [inlined]\u001b[39m\u001b[33m\n",
      "│  \u001b[39m\u001b[91m\u001b[1m│ \u001b[22m\u001b[39m    [13] \u001b[0m\u001b[1mrequire\u001b[22m\u001b[0m\u001b[1m(\u001b[22m\u001b[90minto\u001b[39m::\u001b[0mModule, \u001b[90mmod\u001b[39m::\u001b[0mSymbol\u001b[0m\u001b[1m)\u001b[22m\u001b[33m\n",
      "│  \u001b[39m\u001b[91m\u001b[1m│ \u001b[22m\u001b[39m   \u001b[90m    @\u001b[39m \u001b[90mBase\u001b[39m \u001b[90m./\u001b[39m\u001b[90m\u001b[4mloading.jl:1611\u001b[24m\u001b[39m\u001b[33m\n",
      "│  \u001b[39m\u001b[91m\u001b[1m│ \u001b[22m\u001b[39m    [14] \u001b[0m\u001b[1minclude\u001b[22m\u001b[33m\n",
      "│  \u001b[39m\u001b[91m\u001b[1m│ \u001b[22m\u001b[39m   \u001b[90m    @\u001b[39m \u001b[90m./\u001b[39m\u001b[90m\u001b[4mBase.jl:457\u001b[24m\u001b[39m\u001b[90m [inlined]\u001b[39m\u001b[33m\n",
      "│  \u001b[39m\u001b[91m\u001b[1m│ \u001b[22m\u001b[39m    [15] \u001b[0m\u001b[1minclude_package_for_output\u001b[22m\u001b[0m\u001b[1m(\u001b[22m\u001b[90mpkg\u001b[39m::\u001b[0mBase.PkgId, \u001b[90minput\u001b[39m::\u001b[0mString, \u001b[90mdepot_path\u001b[39m::\u001b[0mVector\u001b[90m{String}\u001b[39m, \u001b[90mdl_load_path\u001b[39m::\u001b[0mVector\u001b[90m{String}\u001b[39m, \u001b[90mload_path\u001b[39m::\u001b[0mVector\u001b[90m{String}\u001b[39m, \u001b[90mconcrete_deps\u001b[39m::\u001b[0mVector\u001b[90m{Pair{Base.PkgId, UInt128}}\u001b[39m, \u001b[90msource\u001b[39m::\u001b[0mString\u001b[0m\u001b[1m)\u001b[22m\u001b[33m\n",
      "│  \u001b[39m\u001b[91m\u001b[1m│ \u001b[22m\u001b[39m   \u001b[90m    @\u001b[39m \u001b[90mBase\u001b[39m \u001b[90m./\u001b[39m\u001b[90m\u001b[4mloading.jl:2049\u001b[24m\u001b[39m\u001b[33m\n",
      "│  \u001b[39m\u001b[91m\u001b[1m│ \u001b[22m\u001b[39m    [16] top-level scope\u001b[33m\n",
      "│  \u001b[39m\u001b[91m\u001b[1m│ \u001b[22m\u001b[39m   \u001b[90m    @\u001b[39m \u001b[90m\u001b[4mstdin:3\u001b[24m\u001b[39m\u001b[33m\n",
      "│  \u001b[39m\u001b[91m\u001b[1m│ \u001b[22m\u001b[39m    [17] \u001b[0m\u001b[1meval\u001b[22m\u001b[33m\n",
      "│  \u001b[39m\u001b[91m\u001b[1m│ \u001b[22m\u001b[39m   \u001b[90m    @\u001b[39m \u001b[90m./\u001b[39m\u001b[90m\u001b[4mboot.jl:370\u001b[24m\u001b[39m\u001b[90m [inlined]\u001b[39m\u001b[33m\n",
      "│  \u001b[39m\u001b[91m\u001b[1m│ \u001b[22m\u001b[39m    [18] \u001b[0m\u001b[1minclude_string\u001b[22m\u001b[0m\u001b[1m(\u001b[22m\u001b[90mmapexpr\u001b[39m::\u001b[0mtypeof(identity), \u001b[90mmod\u001b[39m::\u001b[0mModule, \u001b[90mcode\u001b[39m::\u001b[0mString, \u001b[90mfilename\u001b[39m::\u001b[0mString\u001b[0m\u001b[1m)\u001b[22m\u001b[33m\n",
      "│  \u001b[39m\u001b[91m\u001b[1m│ \u001b[22m\u001b[39m   \u001b[90m    @\u001b[39m \u001b[90mBase\u001b[39m \u001b[90m./\u001b[39m\u001b[90m\u001b[4mloading.jl:1903\u001b[24m\u001b[39m\u001b[33m\n",
      "│  \u001b[39m\u001b[91m\u001b[1m│ \u001b[22m\u001b[39m    [19] \u001b[0m\u001b[1minclude_string\u001b[22m\u001b[33m\n",
      "│  \u001b[39m\u001b[91m\u001b[1m│ \u001b[22m\u001b[39m   \u001b[90m    @\u001b[39m \u001b[90m./\u001b[39m\u001b[90m\u001b[4mloading.jl:1913\u001b[24m\u001b[39m\u001b[90m [inlined]\u001b[39m\u001b[33m\n",
      "│  \u001b[39m\u001b[91m\u001b[1m│ \u001b[22m\u001b[39m    [20] \u001b[0m\u001b[1mexec_options\u001b[22m\u001b[0m\u001b[1m(\u001b[22m\u001b[90mopts\u001b[39m::\u001b[0mBase.JLOptions\u001b[0m\u001b[1m)\u001b[22m\u001b[33m\n",
      "│  \u001b[39m\u001b[91m\u001b[1m│ \u001b[22m\u001b[39m   \u001b[90m    @\u001b[39m \u001b[90mBase\u001b[39m \u001b[90m./\u001b[39m\u001b[90m\u001b[4mclient.jl:305\u001b[24m\u001b[39m\u001b[33m\n",
      "│  \u001b[39m\u001b[91m\u001b[1m│ \u001b[22m\u001b[39m    [21] \u001b[0m\u001b[1m_start\u001b[22m\u001b[0m\u001b[1m(\u001b[22m\u001b[0m\u001b[1m)\u001b[22m\u001b[33m\n",
      "│  \u001b[39m\u001b[91m\u001b[1m│ \u001b[22m\u001b[39m   \u001b[90m    @\u001b[39m \u001b[90mBase\u001b[39m \u001b[90m./\u001b[39m\u001b[90m\u001b[4mclient.jl:522\u001b[24m\u001b[39m\u001b[33m\n",
      "│  \u001b[39m\u001b[91m\u001b[1m└ \u001b[22m\u001b[39m\u001b[90m@ Base loading.jl:1261\u001b[39m\u001b[33m\n",
      "│  \u001b[39m\u001b[33m\u001b[1m┌ \u001b[22m\u001b[39m\u001b[33m\u001b[1mWarning: \u001b[22m\u001b[39mThe call to compilecache failed to create a usable precompiled cache file for NNlib [872c559c-99b0-510c-b3b7-b6c96a88d5cd]\u001b[33m\n",
      "│  \u001b[39m\u001b[33m\u001b[1m│ \u001b[22m\u001b[39m  exception = Required dependency KernelAbstractions [63c18a36-062a-441e-b654-da1e3ab1ce7c] failed to load from a cache file.\u001b[33m\n",
      "│  \u001b[39m\u001b[33m\u001b[1m└ \u001b[22m\u001b[39m\u001b[90m@ Base loading.jl:1818\u001b[39m\u001b[33m\n",
      "└  \u001b[39m\u001b[33m\n",
      "┌ \u001b[39mWordTokenizers [796a5d58-b03d-544a-977e-18100b691f6e]\u001b[33m\n",
      "│  \u001b[39m\u001b[33m\u001b[1m┌ \u001b[22m\u001b[39m\u001b[33m\u001b[1mWarning: \u001b[22m\u001b[39mThe call to compilecache failed to create a usable precompiled cache file for HTTP [cd3eb016-35fb-5094-929b-558a96fad6f3]\u001b[33m\n",
      "│  \u001b[39m\u001b[33m\u001b[1m│ \u001b[22m\u001b[39m  exception = Required dependency OpenSSL [4d8831e6-92b7-49fb-bdf8-b643e874388c] failed to load from a cache file.\u001b[33m\n",
      "│  \u001b[39m\u001b[33m\u001b[1m└ \u001b[22m\u001b[39m\u001b[90m@ Base loading.jl:1818\u001b[39m\u001b[33m\n",
      "└  \u001b[39m\u001b[33m\n",
      "┌ \u001b[39mNeuralAttentionlib [12afc1b8-fad6-47e1-9132-84abc478905f]\u001b[33m\n",
      "│  \u001b[39m\u001b[33m\u001b[1m┌ \u001b[22m\u001b[39m\u001b[33m\u001b[1mWarning: \u001b[22m\u001b[39mThe call to compilecache failed to create a usable precompiled cache file for GPUCompiler [61eb1bfa-7361-4325-ad38-22787b887f55]\u001b[33m\n",
      "│  \u001b[39m\u001b[33m\u001b[1m│ \u001b[22m\u001b[39m  exception = Required dependency LLVM [929cbde3-209d-540e-8aea-75f648917ca0] failed to load from a cache file.\u001b[33m\n",
      "│  \u001b[39m\u001b[33m\u001b[1m└ \u001b[22m\u001b[39m\u001b[90m@ Base loading.jl:1818\u001b[39m\u001b[33m\n",
      "└  \u001b[39m\u001b[33m\n",
      "┌ \u001b[39mImageBase [c817782e-172a-44cc-b673-b171935fbb9e]\u001b[33m\n",
      "│  \u001b[39m\u001b[33m\u001b[1m┌ \u001b[22m\u001b[39m\u001b[33m\u001b[1mWarning: \u001b[22m\u001b[39mThe call to compilecache failed to create a usable precompiled cache file for ImageCore [a09fc81d-aa75-5fe9-8630-4744c3626534]\u001b[33m\n",
      "│  \u001b[39m\u001b[33m\u001b[1m│ \u001b[22m\u001b[39m  exception = Required dependency ColorVectorSpace [c3611d14-8923-5661-9e6a-0046d554d3a4] failed to load from a cache file.\u001b[33m\n",
      "│  \u001b[39m\u001b[33m\u001b[1m└ \u001b[22m\u001b[39m\u001b[90m@ Base loading.jl:1818\u001b[39m\u001b[33m\n",
      "└  \u001b[39m\u001b[33m\n",
      "┌ \u001b[39mFetch [bb354801-46f6-40b6-9c3d-d42d7a74c775]\u001b[33m\n",
      "│  \u001b[39m\u001b[33m\u001b[1m┌ \u001b[22m\u001b[39m\u001b[33m\u001b[1mWarning: \u001b[22m\u001b[39mThe call to compilecache failed to create a usable precompiled cache file for HTTP [cd3eb016-35fb-5094-929b-558a96fad6f3]\u001b[33m\n",
      "│  \u001b[39m\u001b[33m\u001b[1m│ \u001b[22m\u001b[39m  exception = Required dependency OpenSSL [4d8831e6-92b7-49fb-bdf8-b643e874388c] failed to load from a cache file.\u001b[33m\n",
      "│  \u001b[39m\u001b[33m\u001b[1m└ \u001b[22m\u001b[39m\u001b[90m@ Base loading.jl:1818\u001b[39m\u001b[33m\n",
      "└  \u001b[39m\u001b[33m\n",
      "┌ \u001b[39mImageDraw [4381153b-2b60-58ae-a1ba-fd683676385f]\u001b[33m\n",
      "│  \u001b[39m\u001b[33m\u001b[1m┌ \u001b[22m\u001b[39m\u001b[33m\u001b[1mWarning: \u001b[22m\u001b[39mThe call to compilecache failed to create a usable precompiled cache file for ImageCore [a09fc81d-aa75-5fe9-8630-4744c3626534]\u001b[33m\n",
      "│  \u001b[39m\u001b[33m\u001b[1m│ \u001b[22m\u001b[39m  exception = Required dependency ColorVectorSpace [c3611d14-8923-5661-9e6a-0046d554d3a4] failed to load from a cache file.\u001b[33m\n",
      "│  \u001b[39m\u001b[33m\u001b[1m└ \u001b[22m\u001b[39m\u001b[90m@ Base loading.jl:1818\u001b[39m\u001b[33m\n",
      "└  \u001b[39m\u001b[33m\n",
      "┌ \u001b[39mImageCore [a09fc81d-aa75-5fe9-8630-4744c3626534]\u001b[33m\n",
      "│  \u001b[39m\u001b[33m\u001b[1m┌ \u001b[22m\u001b[39m\u001b[33m\u001b[1mWarning: \u001b[22m\u001b[39mThe call to compilecache failed to create a usable precompiled cache file for ColorVectorSpace [c3611d14-8923-5661-9e6a-0046d554d3a4]\u001b[33m\n",
      "│  \u001b[39m\u001b[33m\u001b[1m│ \u001b[22m\u001b[39m  exception = Required dependency SpecialFunctions [276daf66-3868-5448-9aa4-cd146d93841b] failed to load from a cache file.\u001b[33m\n",
      "│  \u001b[39m\u001b[33m\u001b[1m└ \u001b[22m\u001b[39m\u001b[90m@ Base loading.jl:1818\u001b[39m\u001b[33m\n",
      "└  \u001b[39m\u001b[33m\n",
      "┌ \u001b[39mImageTransformations [02fcd773-0e25-5acc-982a-7f6622650795]\u001b[33m\n",
      "│  \u001b[39m\u001b[33m\u001b[1m┌ \u001b[22m\u001b[39m\u001b[33m\u001b[1mWarning: \u001b[22m\u001b[39mModule ImageCore with build ID fafbfcfd-6a5a-59e8-0000-03594ed37533 is missing from the cache.\u001b[33m\n",
      "│  \u001b[39m\u001b[33m\u001b[1m│ \u001b[22m\u001b[39mThis may mean ImageCore [a09fc81d-aa75-5fe9-8630-4744c3626534] does not support precompilation but is imported by a module that does.\u001b[33m\n",
      "│  \u001b[39m\u001b[33m\u001b[1m└ \u001b[22m\u001b[39m\u001b[90m@ Base loading.jl:1793\u001b[39m\u001b[33m\n",
      "└  \u001b[39m\u001b[33m\n",
      "┌ \u001b[39mImageSegmentation [80713f31-8817-5129-9cf8-209ff8fb23e1]\u001b[33m\n",
      "│  \u001b[39m\u001b[33m\u001b[1m┌ \u001b[22m\u001b[39m\u001b[33m\u001b[1mWarning: \u001b[22m\u001b[39mThe call to compilecache failed to create a usable precompiled cache file for ImageFiltering [6a3955dd-da59-5b1f-98d4-e7296123deb5]\u001b[33m\n",
      "│  \u001b[39m\u001b[33m\u001b[1m│ \u001b[22m\u001b[39m  exception = Required dependency ImageBase [c817782e-172a-44cc-b673-b171935fbb9e] failed to load from a cache file.\u001b[33m\n",
      "│  \u001b[39m\u001b[33m\u001b[1m└ \u001b[22m\u001b[39m\u001b[90m@ Base loading.jl:1818\u001b[39m\u001b[33m\n",
      "└  \u001b[39m\u001b[33m\n",
      "┌ \u001b[39mPNGFiles [f57f5aa1-a3ce-4bc8-8ab9-96f992907883]\u001b[33m\n",
      "│  \u001b[39m\u001b[33m\u001b[1m┌ \u001b[22m\u001b[39m\u001b[33m\u001b[1mWarning: \u001b[22m\u001b[39mThe call to compilecache failed to create a usable precompiled cache file for ImageCore [a09fc81d-aa75-5fe9-8630-4744c3626534]\u001b[33m\n",
      "│  \u001b[39m\u001b[33m\u001b[1m│ \u001b[22m\u001b[39m  exception = Required dependency ColorVectorSpace [c3611d14-8923-5661-9e6a-0046d554d3a4] failed to load from a cache file.\u001b[33m\n",
      "│  \u001b[39m\u001b[33m\u001b[1m└ \u001b[22m\u001b[39m\u001b[90m@ Base loading.jl:1818\u001b[39m\u001b[33m\n",
      "└  \u001b[39m\u001b[33m\n",
      "┌ \u001b[39mPrimitiveOneHot [13d12f88-f12b-451e-9b9f-13b97e01cc85]\u001b[33m\n",
      "│  \u001b[39m\u001b[33m\u001b[1m┌ \u001b[22m\u001b[39m\u001b[33m\u001b[1mWarning: \u001b[22m\u001b[39mThe call to compilecache failed to create a usable precompiled cache file for KernelAbstractions [63c18a36-062a-441e-b654-da1e3ab1ce7c]\u001b[33m\n",
      "│  \u001b[39m\u001b[33m\u001b[1m│ \u001b[22m\u001b[39m  exception = Required dependency LLVM [929cbde3-209d-540e-8aea-75f648917ca0] failed to load from a cache file.\u001b[33m\n",
      "│  \u001b[39m\u001b[33m\u001b[1m└ \u001b[22m\u001b[39m\u001b[90m@ Base loading.jl:1818\u001b[39m\u001b[33m\n",
      "└  \u001b[39m\u001b[33m\n",
      "┌ \u001b[39mImageMagick [6218d12a-5da1-5696-b52f-db25d2ecc6d1]\u001b[33m\n",
      "│  \u001b[39m\u001b[33m\u001b[1m┌ \u001b[22m\u001b[39m\u001b[33m\u001b[1mWarning: \u001b[22m\u001b[39mThe call to compilecache failed to create a usable precompiled cache file for ImageCore [a09fc81d-aa75-5fe9-8630-4744c3626534]\u001b[33m\n",
      "│  \u001b[39m\u001b[33m\u001b[1m│ \u001b[22m\u001b[39m  exception = Required dependency ColorVectorSpace [c3611d14-8923-5661-9e6a-0046d554d3a4] failed to load from a cache file.\u001b[33m\n",
      "│  \u001b[39m\u001b[33m\u001b[1m└ \u001b[22m\u001b[39m\u001b[90m@ Base loading.jl:1818\u001b[39m\u001b[33m\n",
      "└  \u001b[39m\u001b[33m\n",
      "┌ \u001b[39mImageAxes [2803e5a7-5153-5ecf-9a86-9b4c37f5f5ac]\u001b[33m\n",
      "│  \u001b[39m\u001b[33m\u001b[1m┌ \u001b[22m\u001b[39m\u001b[33m\u001b[1mWarning: \u001b[22m\u001b[39mThe call to compilecache failed to create a usable precompiled cache file for ImageBase [c817782e-172a-44cc-b673-b171935fbb9e]\u001b[33m\n",
      "│  \u001b[39m\u001b[33m\u001b[1m│ \u001b[22m\u001b[39m  exception = Invalid input in module list: expected ImageCore.\u001b[33m\n",
      "│  \u001b[39m\u001b[33m\u001b[1m└ \u001b[22m\u001b[39m\u001b[90m@ Base loading.jl:1818\u001b[39m\u001b[33m\n",
      "└  \u001b[39m\u001b[33m\n",
      "┌ \u001b[39mSnowball [fb8f903a-0164-4e73-9ffe-431110250c3b]\u001b[33m\n",
      "│  \u001b[39mWARNING: method definition for stem_all at /home/bread/.julia/packages/Snowball/Ibzfl/src/Snowball.jl:89 declares type variable S but does not use it.\u001b[33m\n",
      "└  \u001b[39m\u001b[33m\n",
      "┌ \u001b[39mImageMorphology [787d08f9-d448-5407-9aad-5290dd7ab264]\u001b[33m\n",
      "│  \u001b[39m\u001b[33m\u001b[1m┌ \u001b[22m\u001b[39m\u001b[33m\u001b[1mWarning: \u001b[22m\u001b[39mThe call to compilecache failed to create a usable precompiled cache file for ImageCore [a09fc81d-aa75-5fe9-8630-4744c3626534]\u001b[33m\n",
      "│  \u001b[39m\u001b[33m\u001b[1m│ \u001b[22m\u001b[39m  exception = Required dependency ColorVectorSpace [c3611d14-8923-5661-9e6a-0046d554d3a4] failed to load from a cache file.\u001b[33m\n",
      "│  \u001b[39m\u001b[33m\u001b[1m└ \u001b[22m\u001b[39m\u001b[90m@ Base loading.jl:1818\u001b[39m\u001b[33m\n",
      "└  \u001b[39m\u001b[33m\n",
      "┌ \u001b[39mTextAnalysis [a2db99b7-8b79-58f8-94bf-bbc811eef33d]\u001b[33m\n",
      "│  \u001b[39mWARNING: method definition for #CooMatrix#80 at /home/bread/.julia/packages/TextAnalysis/B0QxG/src/coom.jl:148 declares type variable T but does not use it.\u001b[33m\n",
      "└  \u001b[39m\u001b[33m\n",
      "┌ \u001b[39mTransformers [21ca0261-441d-5938-ace7-c90938fde4d4]\u001b[33m\n",
      "│  \u001b[39m\u001b[33m\u001b[1m┌ \u001b[22m\u001b[39m\u001b[33m\u001b[1mWarning: \u001b[22m\u001b[39mThe call to compilecache failed to create a usable precompiled cache file for CUDA [052768ef-5323-5732-b1bb-66c8b64840ba]\u001b[33m\n",
      "│  \u001b[39m\u001b[33m\u001b[1m│ \u001b[22m\u001b[39m  exception = Required dependency GPUCompiler [61eb1bfa-7361-4325-ad38-22787b887f55] failed to load from a cache file.\u001b[33m\n",
      "│  \u001b[39m\u001b[33m\u001b[1m└ \u001b[22m\u001b[39m\u001b[90m@ Base loading.jl:1818\u001b[39m\u001b[33m\n",
      "└  \u001b[39m\u001b[33m\n",
      "┌ \u001b[39mImageFiltering [6a3955dd-da59-5b1f-98d4-e7296123deb5]\u001b[33m\n",
      "│  \u001b[39m\u001b[33m\u001b[1m┌ \u001b[22m\u001b[39m\u001b[33m\u001b[1mWarning: \u001b[22m\u001b[39mModule ImageCore with build ID fafbfcfd-6a5a-59e8-0000-03594ed37533 is missing from the cache.\u001b[33m\n",
      "│  \u001b[39m\u001b[33m\u001b[1m│ \u001b[22m\u001b[39mThis may mean ImageCore [a09fc81d-aa75-5fe9-8630-4744c3626534] does not support precompilation but is imported by a module that does.\u001b[33m\n",
      "│  \u001b[39m\u001b[33m\u001b[1m└ \u001b[22m\u001b[39m\u001b[90m@ Base loading.jl:1793\u001b[39m\u001b[33m\n",
      "└  \u001b[39m\n"
     ]
    }
   ],
   "source": [
    "using Pkg\n",
    "Pkg.activate(\"~/test\")\n",
    "Pkg.instantiate()"
   ]
  },
  {
   "cell_type": "code",
   "execution_count": 5,
   "id": "397b1c58",
   "metadata": {},
   "outputs": [
    {
     "name": "stderr",
     "output_type": "stream",
     "text": [
      "\u001b[36m\u001b[1m[ \u001b[22m\u001b[39m\u001b[36m\u001b[1mInfo: \u001b[22m\u001b[39mPrecompiling Metalhead [dbeba491-748d-5e0e-a39e-b530a07fa0cc]\n",
      "\u001b[36m\u001b[1m[ \u001b[22m\u001b[39m\u001b[36m\u001b[1mInfo: \u001b[22m\u001b[39mPrecompiling Images [916415d5-f1e6-5110-898d-aaa5f9f070e0]\n",
      "\u001b[36m\u001b[1m[ \u001b[22m\u001b[39m\u001b[36m\u001b[1mInfo: \u001b[22m\u001b[39mPrecompiling ZygoteColorsExt [e68c091a-8ea5-5ca7-be4f-380657d4ad79]\n",
      "\u001b[36m\u001b[1m[ \u001b[22m\u001b[39m\u001b[36m\u001b[1mInfo: \u001b[22m\u001b[39mPrecompiling ZygoteDistancesExt [5865c103-18d1-586a-9b11-010bbc2260a8]\n"
     ]
    }
   ],
   "source": [
    "import Metalhead, Images\n",
    "using StatsBase: sample, shuffle\n",
    "import Flux, NNlib\n",
    "import Zygote, Optimisers, Functors\n",
    "using Formatting: printfmtln\n",
    "using Random: MersenneTwister"
   ]
  },
  {
   "cell_type": "code",
   "execution_count": 6,
   "id": "5543c826",
   "metadata": {},
   "outputs": [
    {
     "data": {
      "text/plain": [
       "get_image_sampler (generic function with 1 method)"
      ]
     },
     "execution_count": 6,
     "metadata": {},
     "output_type": "execute_result"
    }
   ],
   "source": [
    "function get_image_sampler(path, rng)\n",
    "    if isempty(readdir(path))\n",
    "        error(\"Empty train folder\")\n",
    "    end\n",
    "    files = joinpath.(path, readdir(path))    \n",
    "    dogs = filter(x -> occursin(\"dog\", x), files)\n",
    "    cats = filter(x -> occursin(\"cat\", x), files) \n",
    "\n",
    "    function image_sampler(n = 10, size = (224, 224))\n",
    "        @assert iseven(n)\n",
    "        dogs_ = sample(rng, dogs, Int(n/2))\n",
    "        cats_ = sample(rng, cats, Int(n/2))\n",
    "        imgs_paths = shuffle(rng, vcat(dogs_, cats_))\n",
    "\n",
    "        imgs = Images.load.(imgs_paths)\n",
    "        imgs = map(img -> Images.imresize(img, size...), imgs)\n",
    "        \n",
    "        imgs = map(imgs) do img # [CHW] -> [WHC]\n",
    "            permutedims(Images.channelview(img), (3,2,1))\n",
    "        end\n",
    "        imgs = cat(imgs..., dims = 4) # [WHC] => WHCN\n",
    "        imgs = Float32.(imgs)\n",
    "\n",
    "        labels = map(x -> occursin(\"dog\", x) ? 1 : 0, imgs_paths)\n",
    "        labels = Flux.onehotbatch(labels, [0,1])\n",
    "\n",
    "        imgs, labels\n",
    "    end\n",
    "end\n",
    "     "
   ]
  },
  {
   "cell_type": "code",
   "execution_count": 7,
   "id": "39950035",
   "metadata": {},
   "outputs": [
    {
     "data": {
      "text/plain": [
       "init (generic function with 1 method)"
      ]
     },
     "execution_count": 7,
     "metadata": {},
     "output_type": "execute_result"
    }
   ],
   "source": [
    "function train(loader, model, loss_fn, optimizer)\n",
    "    num_batches = length(loader)\n",
    "    Flux.testmode!(model, false)\n",
    "    for (batch, (X, y)) in enumerate(loader)\n",
    "        X, y = Flux.gpu(X), Flux.gpu(y)\n",
    "        grad = Zygote.gradient(m -> loss_fn(m, X, y), model)[1]\n",
    "        optimizer, model = Optimisers.update(optimizer, model, grad)\n",
    "        if batch % 10 == 0\n",
    "            loss = loss_fn(model, X, y)\n",
    "            printfmtln(\"[Train] loss: {:.7f} [{:>3d}/{:>3d}]\", \n",
    "                loss, batch, num_batches)\n",
    "        end\n",
    "    end\n",
    "    model, optimizer\n",
    "end\n",
    "\n",
    "function test(loader, model, loss_fn)\n",
    "    num_batches = length(loader)\n",
    "    Flux.testmode!(model, true)\n",
    "    acc, tot = 0, 0\n",
    "    loss = 0f0\n",
    "    for (X, y) in loader\n",
    "        X, y = Flux.gpu(X), Flux.gpu(y)\n",
    "        pred = model(X)\n",
    "        acc += sum(Flux.onecold(pred) .== Flux.onecold(y))\n",
    "        tot += size(X)[end]\n",
    "        loss += loss_fn(model, X, y)\n",
    "    end\n",
    "    acc, avg_loss = acc / tot * 100, loss / num_batches\n",
    "    printfmtln(\"[Test] Accuracy: {:.1f}, Avg loss: {:.7f}\", \n",
    "        acc, avg_loss)\n",
    "    acc, avg_loss\n",
    "end\n",
    "\n",
    "init(rng) = Flux.glorot_uniform(rng)\n",
    "     "
   ]
  },
  {
   "cell_type": "code",
   "execution_count": 8,
   "id": "cd74ef1b",
   "metadata": {},
   "outputs": [],
   "source": [
    "struct MyResnet\n",
    "    resnet\n",
    "    dense\n",
    "end\n",
    "function (a::MyResnet)(x)\n",
    "    x = a.resnet.layers[1](x)\n",
    "    x = Flux.AdaptiveMeanPool((1, 1))(x)\n",
    "    x = Flux.flatten(x)\n",
    "    a.dense(x)\n",
    "end\n",
    "Functors.@functor MyResnet"
   ]
  },
  {
   "cell_type": "code",
   "execution_count": 11,
   "id": "641af495",
   "metadata": {},
   "outputs": [
    {
     "data": {
      "text/plain": [
       "run_resnet (generic function with 1 method)"
      ]
     },
     "execution_count": 11,
     "metadata": {},
     "output_type": "execute_result"
    }
   ],
   "source": [
    "function run_resnet(rng; pretrain)\n",
    "    sampler = get_image_sampler(\"/home/bread/JULIA/train\", rng)\n",
    "    resnet = Metalhead.ResNet(18, pretrain = pretrain)\n",
    "    model = MyResnet(resnet, Flux.Dense(512 => 2; init=init(rng))) \n",
    "    model = model |> Flux.gpu\n",
    "    optimizer = Optimisers.setup(Optimisers.Adam(), model)\n",
    "    loader = (sampler(10) for _ in 1:100) \n",
    "    loss_fn = (m, x, y) -> Flux.Losses.logitcrossentropy(m(x), y)\n",
    "    model, _ = train(loader, model, loss_fn, optimizer)\n",
    "    loader = (sampler(10) for _ in 1:20)\n",
    "    test(loader, model, loss_fn)\n",
    "end\n",
    "     "
   ]
  },
  {
   "cell_type": "code",
   "execution_count": 12,
   "id": "2ed0631d",
   "metadata": {},
   "outputs": [
    {
     "name": "stderr",
     "output_type": "stream",
     "text": [
      "\u001b[36m\u001b[1m[ \u001b[22m\u001b[39m\u001b[36m\u001b[1mInfo: \u001b[22m\u001b[39mPrecompiling JpegTurbo [b835a17e-a41a-41e7-81f0-2f016b05efe0]\n"
     ]
    },
    {
     "name": "stdout",
     "output_type": "stream",
     "text": [
      "[Train] loss: 0.4889830 [ 10/100]\n",
      "[Train] loss: 0.4982725 [ 20/100]\n",
      "[Train] loss: 0.8082874 [ 30/100]\n",
      "[Train] loss: 0.9055136 [ 40/100]\n",
      "[Train] loss: 0.5314153 [ 50/100]\n",
      "[Train] loss: 0.7690021 [ 60/100]\n",
      "[Train] loss: 0.7094128 [ 70/100]\n",
      "[Train] loss: 0.8273449 [ 80/100]\n",
      "[Train] loss: 0.7165024 [ 90/100]\n",
      "[Train] loss: 0.9815868 [100/100]\n",
      "[Test] Accuracy: 49.5, Avg loss: 0.8633488\n"
     ]
    }
   ],
   "source": [
    "# /home/bread/JULIA/train\n",
    "\n",
    "rng = MersenneTwister(1)\n",
    "run_resnet(rng; pretrain = false);"
   ]
  },
  {
   "cell_type": "code",
   "execution_count": 13,
   "id": "b769c6db",
   "metadata": {},
   "outputs": [
    {
     "name": "stderr",
     "output_type": "stream",
     "text": [
      "\u001b[32m\u001b[1m Downloading\u001b[22m\u001b[39m artifact: resnet18\n"
     ]
    },
    {
     "name": "stdout",
     "output_type": "stream",
     "text": [
      "[Train] loss: 0.6280646 [ 10/100]\n",
      "[Train] loss: 0.3220276 [ 20/100]\n",
      "[Train] loss: 0.2373100 [ 30/100]\n",
      "[Train] loss: 0.1000746 [ 40/100]\n",
      "[Train] loss: 0.2597194 [ 50/100]\n",
      "[Train] loss: 0.0759974 [ 60/100]\n",
      "[Train] loss: 0.0343409 [ 70/100]\n",
      "[Train] loss: 0.2529985 [ 80/100]\n",
      "[Train] loss: 0.3924147 [ 90/100]\n",
      "[Train] loss: 0.2217513 [100/100]\n",
      "[Test] Accuracy: 93.5, Avg loss: 0.1560094\n"
     ]
    }
   ],
   "source": [
    "Optimisers.trainable(x::MyResnet) = (; dense = x.dense)\n",
    "run_resnet(rng; pretrain = true);"
   ]
  },
  {
   "cell_type": "code",
   "execution_count": 14,
   "id": "83c41758",
   "metadata": {},
   "outputs": [
    {
     "name": "stdout",
     "output_type": "stream",
     "text": [
      "[Train] loss: 0.7451362 [ 10/100]\n",
      "[Train] loss: 0.7291723 [ 20/100]\n",
      "[Train] loss: 0.6813130 [ 30/100]\n",
      "[Train] loss: 0.7163754 [ 40/100]\n",
      "[Train] loss: 0.7101868 [ 50/100]\n",
      "[Train] loss: 0.7047311 [ 60/100]\n",
      "[Train] loss: 0.7832033 [ 70/100]\n",
      "[Train] loss: 0.7099093 [ 80/100]\n",
      "[Train] loss: 0.7633210 [ 90/100]\n",
      "[Train] loss: 0.6969859 [100/100]\n",
      "[Test] Accuracy: 55.0, Avg loss: 0.7148012\n"
     ]
    }
   ],
   "source": [
    "rng = MersenneTwister(1)\n",
    "accuracies, train_losses = run_resnet(rng; pretrain = false);"
   ]
  },
  {
   "cell_type": "code",
   "execution_count": 18,
   "id": "070d1727",
   "metadata": {},
   "outputs": [
    {
     "ename": "LoadError",
     "evalue": "Cannot convert Float64 to series data for plotting",
     "output_type": "error",
     "traceback": [
      "Cannot convert Float64 to series data for plotting",
      "",
      "Stacktrace:",
      "  [1] error(s::String)",
      "    @ Base ./error.jl:35",
      "  [2] _prepare_series_data(x::Float64)",
      "    @ RecipesPipeline ~/.julia/packages/RecipesPipeline/BGM3l/src/series.jl:8",
      "  [3] _series_data_vector(x::Float64, plotattributes::Dict{Symbol, Any})",
      "    @ RecipesPipeline ~/.julia/packages/RecipesPipeline/BGM3l/src/series.jl:36",
      "  [4] macro expansion",
      "    @ ~/.julia/packages/RecipesPipeline/BGM3l/src/series.jl:128 [inlined]",
      "  [5] apply_recipe(plotattributes::AbstractDict{Symbol, Any}, #unused#::Type{RecipesPipeline.SliceIt}, x::Any, y::Any, z::Any)",
      "    @ RecipesPipeline ~/.julia/packages/RecipesBase/BRe07/src/RecipesBase.jl:300",
      "  [6] _process_userrecipes!(plt::Any, plotattributes::Any, args::Any)",
      "    @ RecipesPipeline ~/.julia/packages/RecipesPipeline/BGM3l/src/user_recipe.jl:38",
      "  [7] recipe_pipeline!(plt::Any, plotattributes::Any, args::Any)",
      "    @ RecipesPipeline ~/.julia/packages/RecipesPipeline/BGM3l/src/RecipesPipeline.jl:72",
      "  [8] _plot!(plt::Plots.Plot, plotattributes::Any, args::Any)",
      "    @ Plots ~/.julia/packages/Plots/tDI0A/src/plot.jl:223",
      "  [9] plot(::Any, ::Vararg{Any}; kw::Base.Pairs{Symbol, V, Tuple{Vararg{Symbol, N}}, NamedTuple{names, T}} where {V, N, names, T<:Tuple{Vararg{Any, N}}})",
      "    @ Plots ~/.julia/packages/Plots/tDI0A/src/plot.jl:102",
      " [10] top-level scope",
      "    @ In[18]:5"
     ]
    }
   ],
   "source": [
    "using Plots\n",
    "\n",
    "Plots.gr(size=(400,250))\n",
    "title = \"unfreeze\"\n",
    "Plots.plot(train_losses, accuracies, title=title)"
   ]
  },
  {
   "cell_type": "code",
   "execution_count": 20,
   "id": "e3d3eba9",
   "metadata": {},
   "outputs": [
    {
     "data": {
      "text/plain": [
       "0.71480113f0"
      ]
     },
     "execution_count": 20,
     "metadata": {},
     "output_type": "execute_result"
    }
   ],
   "source": [
    "accuracies"
   ]
  },
  {
   "cell_type": "code",
   "execution_count": null,
   "id": "06e13331",
   "metadata": {},
   "outputs": [],
   "source": []
  }
 ],
 "metadata": {
  "kernelspec": {
   "display_name": "Julia 1.9.3",
   "language": "julia",
   "name": "julia-1.9"
  },
  "language_info": {
   "file_extension": ".jl",
   "mimetype": "application/julia",
   "name": "julia",
   "version": "1.9.3"
  }
 },
 "nbformat": 4,
 "nbformat_minor": 5
}
